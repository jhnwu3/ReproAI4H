{
 "cells": [
  {
   "cell_type": "markdown",
   "metadata": {},
   "source": [
    "### Clean Title Function with LLM."
   ]
  },
  {
   "cell_type": "code",
   "execution_count": 1,
   "metadata": {},
   "outputs": [
    {
     "data": {
      "application/vnd.jupyter.widget-view+json": {
       "model_id": "082ae1cdbca54c85b3a11f17d6162a17",
       "version_major": 2,
       "version_minor": 0
      },
      "text/plain": [
       "Loading checkpoint shards:   0%|          | 0/30 [00:00<?, ?it/s]"
      ]
     },
     "metadata": {},
     "output_type": "display_data"
    },
    {
     "name": "stderr",
     "output_type": "stream",
     "text": [
      "Setting `pad_token_id` to `eos_token_id`:128009 for open-end generation.\n"
     ]
    },
    {
     "name": "stdout",
     "output_type": "stream",
     "text": [
      "Hello. I'm OpenBioLLM, an expert in the healthcare and biomedical domain. I'm here to assist with annotating dictionary features and contexts learned by interpretability techniques. How can I help you today?\n"
     ]
    }
   ],
   "source": [
    "import transformers\n",
    "import torch\n",
    "from transformers import BitsAndBytesConfig, pipeline, AutoTokenizer\n",
    "ACCESS_TOKEN = \"\"\n",
    "device = \"cuda:3\"\n",
    "\n",
    "def load_70b_model(device):\n",
    "    model_id = \"meta-llama/Meta-Llama-3.1-70B-Instruct\"\n",
    "        # Load model directly\n",
    "\n",
    "    nf4_config = BitsAndBytesConfig(\n",
    "        load_in_4bit=True,\n",
    "        bnb_4bit_quant_type=\"nf4\",\n",
    "        bnb_4bit_use_double_quant=True,\n",
    "        bnb_4bit_compute_dtype=torch.bfloat16\n",
    "    )\n",
    "    model_nf4 = transformers.AutoModelForCausalLM.from_pretrained(model_id, \n",
    "                                                    quantization_config=nf4_config,\n",
    "                                                    device_map={\"\": device},\n",
    "                                                    token=ACCESS_TOKEN)\n",
    "    \n",
    "    tokenizer = AutoTokenizer.from_pretrained(model_id, token=ACCESS_TOKEN)\n",
    "    \n",
    "    pipeline = transformers.pipeline(\n",
    "        \"text-generation\",\n",
    "        model= model_nf4, #model_id,\n",
    "        # model_kwargs={\"torch_dtype\": torch.bfloat16},\n",
    "        tokenizer=tokenizer,\n",
    "        # device=device,\n",
    "    )\n",
    "\n",
    "    messages = [\n",
    "        {\"role\": \"system\", \"content\": \"You are an expert and experienced from the healthcare and biomedical domain with extensive medical knowledge and practical experience. Your name is OpenBioLLM, and your job is to annotate dictionary features and contexts learned by interpretability techniques. Please answer the below message.\"},\n",
    "        {\"role\": \"user\", \"content\": \"Hello?\"},\n",
    "    ]\n",
    "\n",
    "    prompt = pipeline.tokenizer.apply_chat_template(\n",
    "        messages,\n",
    "        tokenize=False,\n",
    "        add_generation_prompt=True\n",
    "    )\n",
    "\n",
    "    terminators = [\n",
    "        pipeline.tokenizer.eos_token_id,\n",
    "        pipeline.tokenizer.convert_tokens_to_ids(\"<|eot_id|>\")\n",
    "    ]\n",
    "\n",
    "    outputs = pipeline(\n",
    "        prompt,\n",
    "        max_new_tokens=256,\n",
    "        eos_token_id=terminators,\n",
    "        do_sample=True,\n",
    "        temperature=0.1,\n",
    "        top_p=0.9,\n",
    "    )\n",
    "    print(outputs[0][\"generated_text\"][len(prompt):])\n",
    "    return pipeline\n",
    "\n",
    "llama3 = load_70b_model(device)"
   ]
  },
  {
   "cell_type": "code",
   "execution_count": 2,
   "metadata": {},
   "outputs": [],
   "source": [
    "def generate_text_with_icl(prompt, pipeline, task_examples, max_new_tokens=256, temperature=0.00001, top_p=0.99) -> str:\n",
    "    \"\"\"\n",
    "    Generate text using the specified prompt and parameters with in-context learning.\n",
    "    Args:\n",
    "    prompt (str): The input prompt for text generation.\n",
    "    pipeline: The text generation pipeline.\n",
    "    task_examples (list): List of dictionaries containing input-output pairs for in-context learning.\n",
    "    max_new_tokens (int, optional): The maximum number of new tokens to generate. Defaults to 256.\n",
    "    temperature (float, optional): The temperature value for sampling. Defaults to 0.00001.\n",
    "    top_p (float, optional): The top-p value for sampling. Defaults to 0.99.\n",
    "    Returns:\n",
    "    str: The generated text.\n",
    "    \"\"\"\n",
    "    # Construct the in-context learning prompt\n",
    "    icl_prompt = \"You are an expert and experienced from the healthcare and biomedical domain with extensive medical knowledge and practical experience. Your job is to help annotate specific tasks by looking for common patterns within text. Here are some examples of how to perform the task:\\n\\n\"\n",
    "    \n",
    "    for example in task_examples:\n",
    "        icl_prompt += f\"Input: {example['input']}\\nOutput: {example['output']}\\n\\n\"\n",
    "    \n",
    "    icl_prompt += f\"Now, please perform the same task for the following input:\\nInput: {prompt}\\nOutput:\"\n",
    "\n",
    "    messages = [\n",
    "        {\"role\": \"system\", \"content\": icl_prompt},\n",
    "        {\"role\": \"user\", \"content\": prompt},\n",
    "    ]\n",
    "    \n",
    "    full_prompt = pipeline.tokenizer.apply_chat_template(\n",
    "        messages,\n",
    "        tokenize=False,\n",
    "        add_generation_prompt=True\n",
    "    )\n",
    "    \n",
    "    terminators = [\n",
    "        pipeline.tokenizer.eos_token_id,\n",
    "        pipeline.tokenizer.convert_tokens_to_ids(\"<|eot_id|>\")\n",
    "    ]\n",
    "    \n",
    "    outputs = pipeline(\n",
    "        full_prompt,\n",
    "        max_new_tokens=max_new_tokens,\n",
    "        eos_token_id=terminators,\n",
    "        do_sample=True,\n",
    "        temperature=temperature,\n",
    "        top_p=top_p,\n",
    "    )\n",
    "    \n",
    "    return outputs[0][\"generated_text\"][len(full_prompt):]"
   ]
  },
  {
   "cell_type": "code",
   "execution_count": 4,
   "metadata": {},
   "outputs": [
    {
     "data": {
      "text/html": [
       "<div>\n",
       "<style scoped>\n",
       "    .dataframe tbody tr th:only-of-type {\n",
       "        vertical-align: middle;\n",
       "    }\n",
       "\n",
       "    .dataframe tbody tr th {\n",
       "        vertical-align: top;\n",
       "    }\n",
       "\n",
       "    .dataframe thead th {\n",
       "        text-align: right;\n",
       "    }\n",
       "</style>\n",
       "<table border=\"1\" class=\"dataframe\">\n",
       "  <thead>\n",
       "    <tr style=\"text-align: right;\">\n",
       "      <th></th>\n",
       "      <th>year</th>\n",
       "      <th>title</th>\n",
       "      <th>authors</th>\n",
       "      <th>abstract</th>\n",
       "      <th>code_count</th>\n",
       "      <th>gitlab_count</th>\n",
       "      <th>zenodo_count</th>\n",
       "      <th>dataset_count</th>\n",
       "      <th>mimic_count</th>\n",
       "      <th>eicu_count</th>\n",
       "      <th>...</th>\n",
       "      <th>tcga_count</th>\n",
       "      <th>gdc_count</th>\n",
       "      <th>seer_count</th>\n",
       "      <th>tuh_eeg_corpus_count</th>\n",
       "      <th>tuh_abnormal_eeg_corpus_count</th>\n",
       "      <th>tuh_eeg_artifact_corpus_count</th>\n",
       "      <th>tuh_eeg_epilepsy_corpus_count</th>\n",
       "      <th>tuh_eeg_events_corpus_count</th>\n",
       "      <th>tuh_eeg_seizure_corpus_count</th>\n",
       "      <th>tuh_eeg_slowing_corpus_count</th>\n",
       "    </tr>\n",
       "  </thead>\n",
       "  <tbody>\n",
       "    <tr>\n",
       "      <th>0</th>\n",
       "      <td>2020</td>\n",
       "      <td>B M M- Net: Automatic Segmentationof Edemain O...</td>\n",
       "      <td>Ruru Zhang, Beijing University of Posts and, T...</td>\n",
       "      <td>Retinal effusions and cysts caused by the leak...</td>\n",
       "      <td>0</td>\n",
       "      <td>0</td>\n",
       "      <td>0</td>\n",
       "      <td>0</td>\n",
       "      <td>0</td>\n",
       "      <td>0</td>\n",
       "      <td>...</td>\n",
       "      <td>0</td>\n",
       "      <td>0</td>\n",
       "      <td>0</td>\n",
       "      <td>0</td>\n",
       "      <td>0</td>\n",
       "      <td>0</td>\n",
       "      <td>0</td>\n",
       "      <td>0</td>\n",
       "      <td>0</td>\n",
       "      <td>0</td>\n",
       "    </tr>\n",
       "    <tr>\n",
       "      <th>1</th>\n",
       "      <td>2020</td>\n",
       "      <td>Hurtful Words: Quantifying Biasesin Clinical C...</td>\n",
       "      <td>Haoran Zhang∗, haoran@cs.toronto.edu, Universi...</td>\n",
       "      <td>In this work, we examine the extent to which e...</td>\n",
       "      <td>1</td>\n",
       "      <td>0</td>\n",
       "      <td>0</td>\n",
       "      <td>2</td>\n",
       "      <td>1</td>\n",
       "      <td>0</td>\n",
       "      <td>...</td>\n",
       "      <td>0</td>\n",
       "      <td>0</td>\n",
       "      <td>0</td>\n",
       "      <td>0</td>\n",
       "      <td>0</td>\n",
       "      <td>0</td>\n",
       "      <td>0</td>\n",
       "      <td>0</td>\n",
       "      <td>0</td>\n",
       "      <td>0</td>\n",
       "    </tr>\n",
       "  </tbody>\n",
       "</table>\n",
       "<p>2 rows × 25 columns</p>\n",
       "</div>"
      ],
      "text/plain": [
       "   year                                              title  \\\n",
       "0  2020  B M M- Net: Automatic Segmentationof Edemain O...   \n",
       "1  2020  Hurtful Words: Quantifying Biasesin Clinical C...   \n",
       "\n",
       "                                             authors  \\\n",
       "0  Ruru Zhang, Beijing University of Posts and, T...   \n",
       "1  Haoran Zhang∗, haoran@cs.toronto.edu, Universi...   \n",
       "\n",
       "                                            abstract  code_count  \\\n",
       "0  Retinal effusions and cysts caused by the leak...           0   \n",
       "1  In this work, we examine the extent to which e...           1   \n",
       "\n",
       "   gitlab_count  zenodo_count  dataset_count  mimic_count  eicu_count  ...  \\\n",
       "0             0             0              0            0           0  ...   \n",
       "1             0             0              2            1           0  ...   \n",
       "\n",
       "   tcga_count  gdc_count  seer_count  tuh_eeg_corpus_count  \\\n",
       "0           0          0           0                     0   \n",
       "1           0          0           0                     0   \n",
       "\n",
       "   tuh_abnormal_eeg_corpus_count  tuh_eeg_artifact_corpus_count  \\\n",
       "0                              0                              0   \n",
       "1                              0                              0   \n",
       "\n",
       "   tuh_eeg_epilepsy_corpus_count  tuh_eeg_events_corpus_count  \\\n",
       "0                              0                            0   \n",
       "1                              0                            0   \n",
       "\n",
       "   tuh_eeg_seizure_corpus_count  tuh_eeg_slowing_corpus_count  \n",
       "0                             0                             0  \n",
       "1                             0                             0  \n",
       "\n",
       "[2 rows x 25 columns]"
      ]
     },
     "execution_count": 4,
     "metadata": {},
     "output_type": "execute_result"
    }
   ],
   "source": [
    "title_cleaning_prompt = \"\"\"\n",
    "You are an assistant specialized in cleaning and standardizing academic paper titles. Your task is to take a given title and improve its formatting, spacing, and consistency. Follow these rules:\n",
    "\n",
    "1. Correct spacing:\n",
    "   - Ensure single spaces between words.\n",
    "   - Remove extra spaces before or after hyphens.\n",
    "   - Add spaces after colons and semicolons.\n",
    "\n",
    "2. Hyphenation:\n",
    "   - Use hyphens consistently in compound terms (e.g., \"Multi-Scale\" not \"Multi Scale\" or \"MultiScale\").\n",
    "   - Correct common hyphenation errors in technical terms (e.g., \"Pre-processing\" not \"Preprocessing\").\n",
    "\n",
    "3. Capitalization:\n",
    "   - Use title case: Capitalize the first letter of each major word.\n",
    "   - Do not capitalize articles (a, an, the), coordinating conjunctions (and, but, for, or, nor), or prepositions unless they start the title.\n",
    "   - Always capitalize the first and last words of the title and subtitle.\n",
    "\n",
    "4. Acronyms and initialisms:\n",
    "   - Remove spaces between letters in acronyms (e.g., \"CNN\" not \"C N N\").\n",
    "   - Ensure correct formatting of technical acronyms (e.g., \"U-Net\" not \"UNet\" or \"U Net\").\n",
    "\n",
    "5. Special characters:\n",
    "   - Correct the use of special characters like hyphens (-), en dashes (–), and em dashes (—).\n",
    "   - Ensure proper use of quotation marks and apostrophes.\n",
    "\n",
    "6. Consistency:\n",
    "   - Maintain consistent formatting throughout the title.\n",
    "   - Ensure that similar terms or concepts are formatted the same way.\n",
    "\n",
    "7. Grammar and spelling:\n",
    "   - Correct any obvious spelling errors.\n",
    "   - Ensure proper grammatical structure.\n",
    "\n",
    "8. No Authors: If the title contains any author names, emails, or affiliations, remove them.\n",
    "\n",
    "When given a title, apply these rules to clean and standardize it. Provide the corrected title without additional commentary unless there are ambiguities or decisions that require explanation.\n",
    "\n",
    "Title to clean: {title}\n",
    "\n",
    "Cleaned title:\n",
    "\"\"\"\n",
    "import pandas as pd \n",
    "def clean_titles(pipeline, df : pd.DataFrame, prompt : str):\n",
    "    cleaned_titles = []\n",
    "    for title in df[\"title\"]:\n",
    "        cleaned_title = generate_text_with_icl(title, pipeline, [{\"input\": title, \"output\": \"\"}], max_new_tokens=256, temperature=0.00001, top_p=0.99)\n",
    "        cleaned_titles.append(cleaned_title)\n",
    "    return cleaned_titles\n",
    "\n",
    "\n",
    "\n",
    "chil_info = pd.read_csv(\"processed_data/chil_extracted_info.csv\") # get all the titles, and clean them.\n",
    "chil_info.head(2)\n"
   ]
  },
  {
   "cell_type": "code",
   "execution_count": 7,
   "metadata": {},
   "outputs": [
    {
     "data": {
      "text/plain": [
       "'Ruru Zhang, Beijing University of Posts and, Telecommunications, Haidian District, Beijing, China, zrr@bupt.edu.cnJiawen He, Beijing University of Posts and, Telecommunications, Haidian District, Beijing, China, euphy@bupt.edu.cnShenda Shi, Beijing University of Posts and, Telecommunications, Haidian District, Beijing, China, cy_z_feng@bupt.edu.cn, Haihong E, Beijing University of Posts and, Telecommunications'"
      ]
     },
     "execution_count": 7,
     "metadata": {},
     "output_type": "execute_result"
    }
   ],
   "source": [
    "chil_info[\"authors\"][0]"
   ]
  },
  {
   "cell_type": "code",
   "execution_count": 12,
   "metadata": {},
   "outputs": [
    {
     "name": "stderr",
     "output_type": "stream",
     "text": [
      "Setting `pad_token_id` to `eos_token_id`:128009 for open-end generation.\n"
     ]
    },
    {
     "name": "stdout",
     "output_type": "stream",
     "text": [
      "['zrr@bupt.edu.cn', 'euphy@bupt.edu.cn', 'cy_z_feng@bupt.edu.cn']\n"
     ]
    }
   ],
   "source": [
    "\n",
    "\n",
    "def extract_emails(text, nlp):\n",
    "    prompt = f\"\"\"\n",
    "    Extract all email addresses from the following text. \n",
    "    Only output the email addresses, one per line. \n",
    "    If there are no email addresses, output 'No email addresses found. We are not using code here.'\n",
    "\n",
    "    Text: {text}\n",
    "\n",
    "    Extracted email addresses:\n",
    "    \"\"\"\n",
    "\n",
    "    # Generate the response\n",
    "    response = generate_text_with_icl(prompt, nlp, [{\"input\": text, \"output\": \"\"}])\n",
    "\n",
    "    return response\n",
    "def string_to_list(input_string):\n",
    "    \"\"\"\n",
    "    Convert a string into a list using '\\n' as the delimiter.\n",
    "    Remove any empty strings from the resulting list.\n",
    "    \n",
    "    :param input_string: The input string to be converted\n",
    "    :return: A list of non-empty strings\n",
    "    \"\"\"\n",
    "    # Split the string by '\\n' and remove any empty strings\n",
    "    return [item.strip() for item in input_string.split('\\n') if item.strip()]\n",
    "\n",
    "# Example usage\n",
    "sample_text = \"\"\"\n",
    "Hello, my name is John Doe. You can reach me at john.doe@example.com or\n",
    "through my work email johnd@company.com. My colleague's email is\n",
    "jane.smith@example.org.\n",
    "\"\"\"\n",
    "\n",
    "\n",
    "# Extract emails\n",
    "extracted_emails = extract_emails(chil_info[\"authors\"][0], llama3)\n",
    "# Convert the extracted emails to a list\n",
    "extracted_emails = string_to_list(extracted_emails)\n",
    "print(extracted_emails)"
   ]
  },
  {
   "cell_type": "code",
   "execution_count": null,
   "metadata": {},
   "outputs": [],
   "source": []
  },
  {
   "cell_type": "code",
   "execution_count": 14,
   "metadata": {},
   "outputs": [
    {
     "name": "stderr",
     "output_type": "stream",
     "text": [
      "Setting `pad_token_id` to `eos_token_id`:128009 for open-end generation.\n",
      "Setting `pad_token_id` to `eos_token_id`:128009 for open-end generation.\n"
     ]
    },
    {
     "name": "stdout",
     "output_type": "stream",
     "text": [
      "zrr@bupt.edu.cn\n",
      "euphy@bupt.edu.cn\n",
      "cy_z_feng@bupt.edu.cn\n"
     ]
    },
    {
     "name": "stderr",
     "output_type": "stream",
     "text": [
      "Setting `pad_token_id` to `eos_token_id`:128009 for open-end generation.\n"
     ]
    },
    {
     "name": "stdout",
     "output_type": "stream",
     "text": [
      "haoran@cs.toronto.edu\n",
      "amyxlu@cs.toronto.edu\n",
      "msa@cs.toronto.edu\n",
      "mmd@mit.edu\n",
      "marzyeh@cs.toronto.edu\n"
     ]
    },
    {
     "name": "stderr",
     "output_type": "stream",
     "text": [
      "Setting `pad_token_id` to `eos_token_id`:128009 for open-end generation.\n"
     ]
    },
    {
     "name": "stdout",
     "output_type": "stream",
     "text": [
      "neal.ravindra@yale.edu\n",
      "arijit.sehanobish@yale.edu\n",
      "jenna.pappalardo@yale.edu\n",
      "david.hafler@yale.edu\n",
      "david.vandijk@yale.edu\n"
     ]
    },
    {
     "name": "stderr",
     "output_type": "stream",
     "text": [
      "Setting `pad_token_id` to `eos_token_id`:128009 for open-end generation.\n"
     ]
    },
    {
     "name": "stdout",
     "output_type": "stream",
     "text": [
      "np6@princeton.edu\n",
      "bee@cs.princeton.edu\n",
      "finale@seas.harvard.edu\n"
     ]
    },
    {
     "name": "stderr",
     "output_type": "stream",
     "text": [
      "Setting `pad_token_id` to `eos_token_id`:128009 for open-end generation.\n"
     ]
    },
    {
     "name": "stdout",
     "output_type": "stream",
     "text": [
      "vishwalim@nyu.edu\n",
      "nabeel@nyu.edu\n",
      "rumi.chunara@nyu.edu\n"
     ]
    },
    {
     "name": "stderr",
     "output_type": "stream",
     "text": [
      "Setting `pad_token_id` to `eos_token_id`:128009 for open-end generation.\n"
     ]
    },
    {
     "name": "stdout",
     "output_type": "stream",
     "text": [
      "minhunl@cs.cmu.edu\n",
      "dps@cs.cmu.edu\n",
      "asim@cs.cmu.edu\n",
      "alex@isr.tecnico.ulisboa.pt\n",
      "sergi.bermudez@m-iti.org\n"
     ]
    },
    {
     "name": "stderr",
     "output_type": "stream",
     "text": [
      "Setting `pad_token_id` to `eos_token_id`:128009 for open-end generation.\n"
     ]
    },
    {
     "name": "stdout",
     "output_type": "stream",
     "text": [
      "No email addresses found. We are not using code here.\n"
     ]
    },
    {
     "name": "stderr",
     "output_type": "stream",
     "text": [
      "Setting `pad_token_id` to `eos_token_id`:128009 for open-end generation.\n"
     ]
    },
    {
     "name": "stdout",
     "output_type": "stream",
     "text": [
      "zidi.xiu@duke.edu\n",
      "chenyang.tao@duke.edu\n",
      "ricardo.henao@duke.edu\n"
     ]
    },
    {
     "name": "stderr",
     "output_type": "stream",
     "text": [
      "Setting `pad_token_id` to `eos_token_id`:128009 for open-end generation.\n"
     ]
    },
    {
     "name": "stdout",
     "output_type": "stream",
     "text": [
      "aewj@mit.edu\n",
      "lucas1@mit.edu\n",
      "tpollard@mit.edu\n"
     ]
    },
    {
     "name": "stderr",
     "output_type": "stream",
     "text": [
      "Setting `pad_token_id` to `eos_token_id`:128009 for open-end generation.\n"
     ]
    },
    {
     "name": "stdout",
     "output_type": "stream",
     "text": [
      "zhangwei@cs.wisc.edu\n",
      "kuangz@stanford.edu\n",
      "Peissig.Peggy@marshfieldresearch.org\n",
      "david.page@duke.edu\n"
     ]
    },
    {
     "name": "stderr",
     "output_type": "stream",
     "text": [
      "Setting `pad_token_id` to `eos_token_id`:128009 for open-end generation.\n"
     ]
    },
    {
     "name": "stdout",
     "output_type": "stream",
     "text": [
      "No email addresses found. We are not using code here.\n"
     ]
    },
    {
     "name": "stderr",
     "output_type": "stream",
     "text": [
      "Setting `pad_token_id` to `eos_token_id`:128009 for open-end generation.\n"
     ]
    },
    {
     "name": "stdout",
     "output_type": "stream",
     "text": [
      "No email addresses found. We are not using code here.\n"
     ]
    },
    {
     "name": "stderr",
     "output_type": "stream",
     "text": [
      "Setting `pad_token_id` to `eos_token_id`:128009 for open-end generation.\n"
     ]
    },
    {
     "name": "stdout",
     "output_type": "stream",
     "text": [
      "jjanizek@cs.washington.edu\n",
      "erion@cs.washington.edu\n",
      "degrave@cs.washington.edu\n",
      "suinlee@cs.washington.edu\n"
     ]
    },
    {
     "name": "stderr",
     "output_type": "stream",
     "text": [
      "Setting `pad_token_id` to `eos_token_id`:128009 for open-end generation.\n"
     ]
    },
    {
     "name": "stdout",
     "output_type": "stream",
     "text": [
      "milaha@amazon.com\n"
     ]
    },
    {
     "name": "stderr",
     "output_type": "stream",
     "text": [
      "Setting `pad_token_id` to `eos_token_id`:128009 for open-end generation.\n"
     ]
    },
    {
     "name": "stdout",
     "output_type": "stream",
     "text": [
      "yubin.park@emory.edu\n",
      "yubin@bonsairesearch.com\n",
      "joyce.c.ho@emory.edu\n"
     ]
    },
    {
     "name": "stderr",
     "output_type": "stream",
     "text": [
      "Setting `pad_token_id` to `eos_token_id`:128009 for open-end generation.\n"
     ]
    },
    {
     "name": "stdout",
     "output_type": "stream",
     "text": [
      "kmlewis@mit.edu\n"
     ]
    },
    {
     "name": "stderr",
     "output_type": "stream",
     "text": [
      "Setting `pad_token_id` to `eos_token_id`:128009 for open-end generation.\n"
     ]
    },
    {
     "name": "stdout",
     "output_type": "stream",
     "text": [
      "No email addresses found. We are not using code here.\n"
     ]
    },
    {
     "name": "stderr",
     "output_type": "stream",
     "text": [
      "Setting `pad_token_id` to `eos_token_id`:128009 for open-end generation.\n"
     ]
    },
    {
     "name": "stdout",
     "output_type": "stream",
     "text": [
      "paidamoyo.chapfuwa@duke.edu\n",
      "chunyl@microsoft.com\n",
      "nm208@duke.edu\n",
      "lcarin@duke.edu\n",
      "ricardo.henao@duke.edu\n"
     ]
    },
    {
     "name": "stderr",
     "output_type": "stream",
     "text": [
      "Setting `pad_token_id` to `eos_token_id`:128009 for open-end generation.\n"
     ]
    },
    {
     "name": "stdout",
     "output_type": "stream",
     "text": [
      "No email addresses found. We are not using code here.\n"
     ]
    },
    {
     "name": "stderr",
     "output_type": "stream",
     "text": [
      "Setting `pad_token_id` to `eos_token_id`:128009 for open-end generation.\n"
     ]
    },
    {
     "name": "stdout",
     "output_type": "stream",
     "text": [
      "thomas.hooven@chp.edu\n",
      "adam.lin@columbia.edu\n",
      "ansafsalleb@columbia.edu\n"
     ]
    },
    {
     "name": "stderr",
     "output_type": "stream",
     "text": [
      "Setting `pad_token_id` to `eos_token_id`:128009 for open-end generation.\n"
     ]
    },
    {
     "name": "stdout",
     "output_type": "stream",
     "text": [
      "sanja.scepanovic@nokia-bell-labs.com\n",
      "enrique.martin-lopez@nokia-bell-labs.com\n",
      "quercia@cantab.net\n",
      "khan.baykaner@nokia-bell-labs.com\n"
     ]
    },
    {
     "name": "stderr",
     "output_type": "stream",
     "text": [
      "Setting `pad_token_id` to `eos_token_id`:128009 for open-end generation.\n"
     ]
    },
    {
     "name": "stdout",
     "output_type": "stream",
     "text": [
      "luke.oakden-rayner@adelaide.edu.au\n",
      "jdunnmon@cs.stanford.edu\n",
      "gustavo.carneiro@adelaide.edu.au\n",
      "chrismre@cs.stanford.edu\n"
     ]
    },
    {
     "name": "stderr",
     "output_type": "stream",
     "text": [
      "Setting `pad_token_id` to `eos_token_id`:128009 for open-end generation.\n"
     ]
    },
    {
     "name": "stdout",
     "output_type": "stream",
     "text": [
      "shirlywang@cs.toronto.edu\n",
      "mmd@mit.edu\n",
      "geeticka@mit.edu\n",
      "marzyeh@cs.toronto.edu\n",
      "mhughes@cs.tufts.edu\n",
      "tristan@microsoft.com\n"
     ]
    },
    {
     "name": "stderr",
     "output_type": "stream",
     "text": [
      "Setting `pad_token_id` to `eos_token_id`:128009 for open-end generation.\n"
     ]
    },
    {
     "name": "stdout",
     "output_type": "stream",
     "text": [
      "jackzhu@nyu.edu\n",
      "narges.razavian@nyulangone.org\n"
     ]
    },
    {
     "name": "stderr",
     "output_type": "stream",
     "text": [
      "Setting `pad_token_id` to `eos_token_id`:128009 for open-end generation.\n"
     ]
    },
    {
     "name": "stdout",
     "output_type": "stream",
     "text": [
      "david.dov@duke.edu\n",
      "serge.assaad@duke.edu\n",
      "shijing.si@duke.edu\n",
      "rui.wang16@duke.edu\n",
      "hongtengxu@ruc.edu.cn\n"
     ]
    },
    {
     "name": "stderr",
     "output_type": "stream",
     "text": [
      "Setting `pad_token_id` to `eos_token_id`:128009 for open-end generation.\n"
     ]
    },
    {
     "name": "stdout",
     "output_type": "stream",
     "text": [
      "guoweial001@e.ntu.edu.sg\n",
      "kors0001@e.ntu.edu.sg\n",
      "asysong@ntu.edu.sg\n",
      "fernaldo.winnerdy@ntu.edu.sg\n",
      "kwlim@ntu.edu.sg\n"
     ]
    },
    {
     "name": "stderr",
     "output_type": "stream",
     "text": [
      "Setting `pad_token_id` to `eos_token_id`:128009 for open-end generation.\n"
     ]
    },
    {
     "name": "stdout",
     "output_type": "stream",
     "text": [
      "No email addresses found. We are not using code here.\n"
     ]
    },
    {
     "name": "stderr",
     "output_type": "stream",
     "text": [
      "Setting `pad_token_id` to `eos_token_id`:128009 for open-end generation.\n"
     ]
    },
    {
     "name": "stdout",
     "output_type": "stream",
     "text": [
      "Here are the cleaned and extracted email addresses:\n",
      "\n",
      "\n",
      "raouf.kerkouche@inria.fr\n",
      "acs@crysys.hu\n",
      "claude.castelluccia@inria.fr\n",
      "pierre.geneves@cnrs.fr\n"
     ]
    },
    {
     "name": "stderr",
     "output_type": "stream",
     "text": [
      "Setting `pad_token_id` to `eos_token_id`:128009 for open-end generation.\n"
     ]
    },
    {
     "name": "stdout",
     "output_type": "stream",
     "text": [
      "ecr38@cam.ac.uk\n",
      "pl219@cam.ac.uk\n",
      "stephanie.hyland@microsoft.com\n"
     ]
    },
    {
     "name": "stderr",
     "output_type": "stream",
     "text": [
      "Setting `pad_token_id` to `eos_token_id`:128009 for open-end generation.\n"
     ]
    },
    {
     "name": "stdout",
     "output_type": "stream",
     "text": [
      "konstantin.pandl@kit.edu\n",
      "scott.thiebes@kit.edu\n",
      "fabianfeiland@web.de\n",
      "sunyaev@kit.edu\n"
     ]
    },
    {
     "name": "stderr",
     "output_type": "stream",
     "text": [
      "Setting `pad_token_id` to `eos_token_id`:128009 for open-end generation.\n"
     ]
    },
    {
     "name": "stdout",
     "output_type": "stream",
     "text": [
      "saahil.jain@cs.stanford.edu\n",
      "akshaysm@stanford.edu\n"
     ]
    },
    {
     "name": "stderr",
     "output_type": "stream",
     "text": [
      "Setting `pad_token_id` to `eos_token_id`:128009 for open-end generation.\n"
     ]
    },
    {
     "name": "stdout",
     "output_type": "stream",
     "text": [
      "jean.feng@ucsf.edu\n"
     ]
    },
    {
     "name": "stderr",
     "output_type": "stream",
     "text": [
      "Setting `pad_token_id` to `eos_token_id`:128009 for open-end generation.\n"
     ]
    },
    {
     "name": "stdout",
     "output_type": "stream",
     "text": [
      "ds806@cl.cam.ac.uk\n",
      "ip325@cam.ac.uk\n",
      "sb400@cam.ac.uk\n",
      "njw1004@cam.ac.uk\n",
      "cm542@cl.cam.ac.uk\n"
     ]
    },
    {
     "name": "stderr",
     "output_type": "stream",
     "text": [
      "Setting `pad_token_id` to `eos_token_id`:128009 for open-end generation.\n"
     ]
    },
    {
     "name": "stdout",
     "output_type": "stream",
     "text": [
      "khorrams@oregonstate.edu\n",
      "lawsont@oregonstate.edu\n",
      "lif@oregonstate.edu\n"
     ]
    },
    {
     "name": "stderr",
     "output_type": "stream",
     "text": [
      "Setting `pad_token_id` to `eos_token_id`:128009 for open-end generation.\n"
     ]
    },
    {
     "name": "stdout",
     "output_type": "stream",
     "text": [
      "linial04@campus.technion.ac.il\n",
      "neta.r@technion.ac.il\n",
      "danny.eytan@technion.ac.il\n",
      "urishalit@technion.ac.il\n"
     ]
    },
    {
     "name": "stderr",
     "output_type": "stream",
     "text": [
      "Setting `pad_token_id` to `eos_token_id`:128009 for open-end generation.\n"
     ]
    },
    {
     "name": "stdout",
     "output_type": "stream",
     "text": [
      "alexke@cs.stanford.edu\n",
      "willells@cs.stanford.edu\n",
      "oishi.banerjee@cs.stanford.edu\n",
      "ang@cs.stanford.edu\n",
      "pranavsr@cs.stanford.edu\n"
     ]
    },
    {
     "name": "stderr",
     "output_type": "stream",
     "text": [
      "Setting `pad_token_id` to `eos_token_id`:128009 for open-end generation.\n"
     ]
    },
    {
     "name": "stdout",
     "output_type": "stream",
     "text": [
      "ho.danliang@u.nus.edu\n",
      "iain.tan.b.h@singhealth.com.sg\n",
      "motani@nus.edu.sg\n"
     ]
    },
    {
     "name": "stderr",
     "output_type": "stream",
     "text": [
      "Setting `pad_token_id` to `eos_token_id`:128009 for open-end generation.\n"
     ]
    },
    {
     "name": "stdout",
     "output_type": "stream",
     "text": [
      "araghu@mit.edu\n"
     ]
    },
    {
     "name": "stderr",
     "output_type": "stream",
     "text": [
      "Setting `pad_token_id` to `eos_token_id`:128009 for open-end generation.\n"
     ]
    },
    {
     "name": "stdout",
     "output_type": "stream",
     "text": [
      "basilmaag@gmail.com\n",
      "sfeuerriegel@ethz.ch\n",
      "mathiaskraus@ethz.ch\n",
      "maytal.saar-tsechansky@mccombs.utexas.edu\n"
     ]
    },
    {
     "name": "stderr",
     "output_type": "stream",
     "text": [
      "Setting `pad_token_id` to `eos_token_id`:128009 for open-end generation.\n"
     ]
    },
    {
     "name": "stdout",
     "output_type": "stream",
     "text": [
      "xliu0@cs.washington.edu\n",
      "ziheng@cs.washington.edu\n",
      "jwfromm@octoml.ai\n",
      "xuhaixu@cs.washington.edu\n"
     ]
    },
    {
     "name": "stderr",
     "output_type": "stream",
     "text": [
      "Setting `pad_token_id` to `eos_token_id`:128009 for open-end generation.\n"
     ]
    },
    {
     "name": "stdout",
     "output_type": "stream",
     "text": [
      "No email addresses found. We are not using code here.\n"
     ]
    },
    {
     "name": "stderr",
     "output_type": "stream",
     "text": [
      "Setting `pad_token_id` to `eos_token_id`:128009 for open-end generation.\n"
     ]
    },
    {
     "name": "stdout",
     "output_type": "stream",
     "text": [
      "No email addresses found. We are not using code here.\n"
     ]
    },
    {
     "name": "stderr",
     "output_type": "stream",
     "text": [
      "Setting `pad_token_id` to `eos_token_id`:128009 for open-end generation.\n"
     ]
    },
    {
     "name": "stdout",
     "output_type": "stream",
     "text": [
      "mattsap@aiwhoo.com\n",
      "kumar@udel.edu\n",
      "gdominic@udel.edu\n",
      "decker@udel.edu\n"
     ]
    },
    {
     "name": "stderr",
     "output_type": "stream",
     "text": [
      "Setting `pad_token_id` to `eos_token_id`:128009 for open-end generation.\n"
     ]
    },
    {
     "name": "stdout",
     "output_type": "stream",
     "text": [
      "paidamoyo.chapfuwa@duke.edu\n",
      "serge.assaad@duke.edu\n",
      "zengshx777@gmail.com\n",
      "michal.pencina@duke.edu\n"
     ]
    },
    {
     "name": "stderr",
     "output_type": "stream",
     "text": [
      "Setting `pad_token_id` to `eos_token_id`:128009 for open-end generation.\n"
     ]
    },
    {
     "name": "stdout",
     "output_type": "stream",
     "text": [
      "pranavsr@cs.stanford.edu\n",
      "anirudhjoshi@cs.stanford.edu\n",
      "anujpare@cs.stanford.edu\n",
      "ang@cs.stanford.edu\n",
      "mlungren@stanford.edu\n"
     ]
    },
    {
     "name": "stderr",
     "output_type": "stream",
     "text": [
      "Setting `pad_token_id` to `eos_token_id`:128009 for open-end generation.\n"
     ]
    },
    {
     "name": "stdout",
     "output_type": "stream",
     "text": [
      "mmd@mit.edu\n",
      "bretnestor@cs.toronto.edu\n"
     ]
    },
    {
     "name": "stderr",
     "output_type": "stream",
     "text": [
      "Setting `pad_token_id` to `eos_token_id`:128009 for open-end generation.\n"
     ]
    },
    {
     "name": "stdout",
     "output_type": "stream",
     "text": [
      "haoran@cs.toronto.edu\n",
      "dullerud@cs.toronto.edu\n",
      "laleh@cs.toronto.edu\n",
      "morrissq@mskcc.org\n",
      "shalmali@seas.harvard.edu\n"
     ]
    },
    {
     "name": "stderr",
     "output_type": "stream",
     "text": [
      "Setting `pad_token_id` to `eos_token_id`:128009 for open-end generation.\n"
     ]
    },
    {
     "name": "stdout",
     "output_type": "stream",
     "text": [
      "bonggun.shin@deargen.me\n",
      "sspark@deargen.me\n",
      "jy.bak@skku.edu\n",
      "joyce.c.ho@emory.edu\n"
     ]
    },
    {
     "name": "stderr",
     "output_type": "stream",
     "text": [
      "Setting `pad_token_id` to `eos_token_id`:128009 for open-end generation.\n"
     ]
    },
    {
     "name": "stdout",
     "output_type": "stream",
     "text": [
      "gd5ss@virginia.edu\n",
      "lc3cp@virginia.edu\n",
      "dd3ar@virginia.edu\n",
      "sk9epp@virginia.edu\n",
      "lb3dp@virginia.edu\n",
      "mob3f@virginia.edu\n"
     ]
    },
    {
     "name": "stderr",
     "output_type": "stream",
     "text": [
      "Setting `pad_token_id` to `eos_token_id`:128009 for open-end generation.\n"
     ]
    },
    {
     "name": "stdout",
     "output_type": "stream",
     "text": [
      "mohamed.ghalwash@ibm.com\n",
      "zijun.yao@ibm.com\n",
      "prithwish.chakraborty@ibm.com\n",
      "jvcodella@gmail.com\n"
     ]
    },
    {
     "name": "stderr",
     "output_type": "stream",
     "text": [
      "Setting `pad_token_id` to `eos_token_id`:128009 for open-end generation.\n"
     ]
    },
    {
     "name": "stdout",
     "output_type": "stream",
     "text": [
      "flores.gerardo@gmail.com\n",
      "georgechen@cmu.edu\n",
      "tpollard@mit.edu\n",
      "azirikly@jhu.edu\n",
      "michael.hughes@tufts.edu\n",
      "tasmie.sarker@ahli.cc\n",
      "joyce.c.ho@emory.edu\n",
      "tristan@microsoft.com\n"
     ]
    },
    {
     "name": "stderr",
     "output_type": "stream",
     "text": [
      "Setting `pad_token_id` to `eos_token_id`:128009 for open-end generation.\n"
     ]
    },
    {
     "name": "stdout",
     "output_type": "stream",
     "text": [
      "twkillian@cs.toronto.edu\n",
      "mghassem@mit.edu\n",
      "shalmali@seas.harvard.edu\n"
     ]
    },
    {
     "name": "stderr",
     "output_type": "stream",
     "text": [
      "Setting `pad_token_id` to `eos_token_id`:128009 for open-end generation.\n"
     ]
    },
    {
     "name": "stdout",
     "output_type": "stream",
     "text": [
      "florian.pfisterer@stat.uni-muenchen.de\n",
      "chris.harbron@roche.com\n",
      "gunther.jansen@roche.com\n",
      "tao.xu.tx1@roche.com\n"
     ]
    },
    {
     "name": "stderr",
     "output_type": "stream",
     "text": [
      "Setting `pad_token_id` to `eos_token_id`:128009 for open-end generation.\n"
     ]
    },
    {
     "name": "stdout",
     "output_type": "stream",
     "text": [
      "talelh@kinstitute.org.il\n",
      "chen@kinstitute.org.il\n"
     ]
    },
    {
     "name": "stderr",
     "output_type": "stream",
     "text": [
      "Setting `pad_token_id` to `eos_token_id`:128009 for open-end generation.\n"
     ]
    },
    {
     "name": "stdout",
     "output_type": "stream",
     "text": [
      "xiaolei.huang@memphis.edu\n",
      "dernonco@adobe.com\n",
      "mdredze@cs.jhu.edu\n"
     ]
    },
    {
     "name": "stderr",
     "output_type": "stream",
     "text": [
      "Setting `pad_token_id` to `eos_token_id`:128009 for open-end generation.\n"
     ]
    },
    {
     "name": "stdout",
     "output_type": "stream",
     "text": [
      "chuzhixuan.czx@alibaba-inc.com\n",
      "rathbun@uga.edu\n",
      "sheng.li@uga.edu\n"
     ]
    },
    {
     "name": "stderr",
     "output_type": "stream",
     "text": [
      "Setting `pad_token_id` to `eos_token_id`:128009 for open-end generation.\n"
     ]
    },
    {
     "name": "stdout",
     "output_type": "stream",
     "text": [
      "vincent.jeanselme@mrc-bsu.cam.ac.uk\n",
      "brian.tom@mrc-bsu.cam.ac.uk\n",
      "jessica.barrett@mrc-bsu.cam.ac.uk\n"
     ]
    },
    {
     "name": "stderr",
     "output_type": "stream",
     "text": [
      "Setting `pad_token_id` to `eos_token_id`:128009 for open-end generation.\n"
     ]
    },
    {
     "name": "stdout",
     "output_type": "stream",
     "text": [
      "mwai@chalmers.se\n",
      "fredrik.johansson@chalmers.se\n"
     ]
    },
    {
     "name": "stderr",
     "output_type": "stream",
     "text": [
      "Setting `pad_token_id` to `eos_token_id`:128009 for open-end generation.\n"
     ]
    },
    {
     "name": "stdout",
     "output_type": "stream",
     "text": [
      "mehdi.fatemi@microsoft.com\n",
      "mary@cs.toronto.edu\n",
      "petchj@hhsc.ca\n",
      "nelsonwa@hhsc.ca\n",
      "stuart.connolly@phri.ca\n",
      "alexander.benz@phri.ca\n",
      "anthony.carnicelli@duke.edu\n",
      "mghassem@mit.edu\n"
     ]
    },
    {
     "name": "stderr",
     "output_type": "stream",
     "text": [
      "Setting `pad_token_id` to `eos_token_id`:128009 for open-end generation.\n"
     ]
    },
    {
     "name": "stdout",
     "output_type": "stream",
     "text": [
      "daeyoung.k@kaist.ac.kr\n",
      "seongsu@kaist.ac.kr\n",
      "shokim@kaist.ac.kr\n",
      "edwardchoi@kaist.ac.kr\n"
     ]
    },
    {
     "name": "stderr",
     "output_type": "stream",
     "text": [
      "Setting `pad_token_id` to `eos_token_id`:128009 for open-end generation.\n"
     ]
    },
    {
     "name": "stdout",
     "output_type": "stream",
     "text": [
      "addison.weatherhead@mail.utoronto.ca\n",
      "robert.greer@sickkids.ca\n",
      "michael-alice.moga@sickkids.ca\n",
      "mjaye.mazwi@sickkids.ca\n",
      "biliary.colic@gmail.com\n",
      "anna.goldenberg@utoronto.ca\n",
      "stonekaboni@cs.toronto.edu\n"
     ]
    },
    {
     "name": "stderr",
     "output_type": "stream",
     "text": [
      "Setting `pad_token_id` to `eos_token_id`:128009 for open-end generation.\n"
     ]
    },
    {
     "name": "stdout",
     "output_type": "stream",
     "text": [
      "stonekaboni@cs.toronto.edu\n",
      "morgensh@cs.toronto.edu\n",
      "azadeh.assadi@sickkids.ca\n",
      "apokhrel@cs.toronto.edu\n",
      "xi.huang1@sickkids.ca\n",
      "anandj@cs.toronto.edu\n",
      "robert.greer@sickkids.ca\n",
      "pekhimenko@cs.toronto.edu\n",
      "melissa.mccradden@sickkids.ca\n"
     ]
    },
    {
     "name": "stderr",
     "output_type": "stream",
     "text": [
      "Setting `pad_token_id` to `eos_token_id`:128009 for open-end generation.\n"
     ]
    },
    {
     "name": "stdout",
     "output_type": "stream",
     "text": [
      "pacesun@kaist.ac.kr\n",
      "jiyounglee0523@kaist.ac.kr\n",
      "ojw0123@kaist.ac.kr\n",
      "wjprice@mit.edu\n",
      "mdyhkim@amc.seoul.kr\n",
      "edwardchoi@kaist.ac.kr\n"
     ]
    },
    {
     "name": "stderr",
     "output_type": "stream",
     "text": [
      "Setting `pad_token_id` to `eos_token_id`:128009 for open-end generation.\n"
     ]
    },
    {
     "name": "stdout",
     "output_type": "stream",
     "text": [
      "haoranz@mit.edu\n",
      "natalie.dullerud@mail.utoronto.edu\n",
      "karsten.roth@uni-tuebingen.de\n",
      "lauren.oakden-rayner@adelaide.edu.au\n",
      "spfohl@stanford.edu\n",
      "mghassem@mit.edu\n"
     ]
    },
    {
     "name": "stderr",
     "output_type": "stream",
     "text": [
      "Setting `pad_token_id` to `eos_token_id`:128009 for open-end generation.\n"
     ]
    },
    {
     "name": "stdout",
     "output_type": "stream",
     "text": [
      "juyongk@cs.cmu.edu\n",
      "jeremyweiss@cmu.edu\n",
      "pradeepr@cs.cmu.edu\n"
     ]
    },
    {
     "name": "stderr",
     "output_type": "stream",
     "text": [
      "Setting `pad_token_id` to `eos_token_id`:128009 for open-end generation.\n"
     ]
    },
    {
     "name": "stdout",
     "output_type": "stream",
     "text": [
      "ankit.pal@saama.com\n",
      "logesh.umapathi@saama.com\n",
      "malaikannan.sankarasubbu@saama.com\n"
     ]
    },
    {
     "name": "stderr",
     "output_type": "stream",
     "text": [
      "Setting `pad_token_id` to `eos_token_id`:128009 for open-end generation.\n"
     ]
    },
    {
     "name": "stdout",
     "output_type": "stream",
     "text": [
      "zxznm@kaist.ac.kr\n",
      "seongsu@kaist.ac.kr\n",
      "jiho283@kaist.ac.kr\n",
      "tackeun.kim@snu.ac.kr\n",
      "edwardchoi@kaist.ac.kr\n"
     ]
    },
    {
     "name": "stderr",
     "output_type": "stream",
     "text": [
      "Setting `pad_token_id` to `eos_token_id`:128009 for open-end generation.\n"
     ]
    },
    {
     "name": "stdout",
     "output_type": "stream",
     "text": [
      "araghu@mit.edu\n",
      "divyas@mit.edu\n",
      "epomerantsev@mgh.harvard.edu\n",
      "guttag@mit.edu\n",
      "cmstultz@mit.edu\n"
     ]
    },
    {
     "name": "stderr",
     "output_type": "stream",
     "text": [
      "Setting `pad_token_id` to `eos_token_id`:128009 for open-end generation.\n"
     ]
    },
    {
     "name": "stdout",
     "output_type": "stream",
     "text": [
      "kwanlee9209@aitrics.com\n",
      "hyewonj@mit.edu\n",
      "kim79@cooper.edu\n",
      "soul2star@nhimc.or.kr\n",
      "hipo0207@yuhs.ac\n",
      "edwardchoi@kaist.ac.kr\n"
     ]
    },
    {
     "name": "stderr",
     "output_type": "stream",
     "text": [
      "Setting `pad_token_id` to `eos_token_id`:128009 for open-end generation.\n"
     ]
    },
    {
     "name": "stdout",
     "output_type": "stream",
     "text": [
      "ojw0123@kaist.ac.kr\n",
      "hschung@kaist.ac.kr\n",
      "cto@medicalai.com\n",
      "dghong@medicalai.com\n",
      "edwardchoi@kaist.ac.kr\n"
     ]
    },
    {
     "name": "stderr",
     "output_type": "stream",
     "text": [
      "Setting `pad_token_id` to `eos_token_id`:128009 for open-end generation.\n"
     ]
    },
    {
     "name": "stdout",
     "output_type": "stream",
     "text": [
      "jzhu4@andrew.cmu.edu\n",
      "gdarnell@apple.com\n",
      "agni@apple.com\n",
      "dingzhao@cmu.edu\n",
      "lbo@illinois.edu\n",
      "xuanlong@umich.edu\n",
      "shirleyr@apple.com\n"
     ]
    },
    {
     "name": "stderr",
     "output_type": "stream",
     "text": [
      "Setting `pad_token_id` to `eos_token_id`:128009 for open-end generation.\n"
     ]
    },
    {
     "name": "stdout",
     "output_type": "stream",
     "text": [
      "subhrajitroy@google.com\n",
      "dmincu@google.com\n",
      "levp@google.com\n",
      "nrostamzadeh@google.com\n",
      "chintanghate@google.com\n",
      "natalieharris@google.com\n",
      "christinium@google.com\n",
      "schrouff@google.com\n",
      "nenadt@deepmind.com\n",
      "fletcher.hartsell@duke.edu\n",
      "kheller@google.com\n"
     ]
    },
    {
     "name": "stderr",
     "output_type": "stream",
     "text": [
      "Setting `pad_token_id` to `eos_token_id`:128009 for open-end generation.\n"
     ]
    },
    {
     "name": "stdout",
     "output_type": "stream",
     "text": [
      "keramati@cs.stanford.edu\n",
      "ogottesm@cs.brown.edu\n",
      "lceli@mit.edu\n",
      "finale@seas.harvard.edu\n",
      "ebrun@cs.stanford.edu\n"
     ]
    },
    {
     "name": "stderr",
     "output_type": "stream",
     "text": [
      "Setting `pad_token_id` to `eos_token_id`:128009 for open-end generation.\n"
     ]
    },
    {
     "name": "stdout",
     "output_type": "stream",
     "text": [
      "shadi.rahimian@cispa.saarland\n",
      "raouf.kerkouche@cispa.de\n",
      "ina.kurth@dkfz-heidelberg.de\n",
      "fritz@cispa.de\n"
     ]
    },
    {
     "name": "stderr",
     "output_type": "stream",
     "text": [
      "Setting `pad_token_id` to `eos_token_id`:128009 for open-end generation.\n"
     ]
    },
    {
     "name": "stdout",
     "output_type": "stream",
     "text": [
      "boba km@tamu.edu\n",
      "tasmie.sarker@ahli.cc\n",
      "Andrew Beam@hms.harvard.edu\n",
      "joyce.c.ho@emory.edu\n"
     ]
    },
    {
     "name": "stderr",
     "output_type": "stream",
     "text": [
      "Setting `pad_token_id` to `eos_token_id`:128009 for open-end generation.\n"
     ]
    },
    {
     "name": "stdout",
     "output_type": "stream",
     "text": [
      "ksali85@student.gsu.edu\n",
      "kbbello1@student.gsu.edu\n",
      "kpchourasia1@student.gsu.edu\n",
      "krthazhepunathil1@student.gsu.edu\n",
      "kpin-yu.chen@ibm.com\n",
      "kimdad.khan@lums.edu.pk\n",
      "kmpatterson30@gsu.edu\n"
     ]
    },
    {
     "name": "stderr",
     "output_type": "stream",
     "text": [
      "Setting `pad_token_id` to `eos_token_id`:128009 for open-end generation.\n"
     ]
    },
    {
     "name": "stdout",
     "output_type": "stream",
     "text": [
      "shuoshuo.liu@psu.edu\n",
      "lynn.lin@duke.edu\n"
     ]
    },
    {
     "name": "stderr",
     "output_type": "stream",
     "text": [
      "Setting `pad_token_id` to `eos_token_id`:128009 for open-end generation.\n"
     ]
    },
    {
     "name": "stdout",
     "output_type": "stream",
     "text": [
      "toyoshid@ucsc.edu\n",
      "fansx@uw.edu\n",
      "tylermc@uw.edu\n",
      "zhenkewu@umich.edu\n",
      "lizehang@ucsc.edu\n"
     ]
    },
    {
     "name": "stderr",
     "output_type": "stream",
     "text": [
      "Setting `pad_token_id` to `eos_token_id`:128009 for open-end generation.\n"
     ]
    },
    {
     "name": "stdout",
     "output_type": "stream",
     "text": [
      "toyoshid@ucsc.edu\n",
      "fansx@uw.edu\n",
      "tylermc@uw.edu\n",
      "zhenkewu@umich.edu\n",
      "lizehang@ucsc.edu\n"
     ]
    },
    {
     "name": "stderr",
     "output_type": "stream",
     "text": [
      "Setting `pad_token_id` to `eos_token_id`:128009 for open-end generation.\n"
     ]
    },
    {
     "name": "stdout",
     "output_type": "stream",
     "text": [
      "siyitang@stanford.edu\n",
      "jdunnmon@stanford.edu\n",
      "liangqqu@hku.hk\n",
      "ksaab@stanford.edu\n",
      "tina4@stanford.edu\n",
      "cleemess@stanford.edu\n",
      "rubin@stanford.edu\n"
     ]
    },
    {
     "name": "stderr",
     "output_type": "stream",
     "text": [
      "Setting `pad_token_id` to `eos_token_id`:128009 for open-end generation.\n"
     ]
    },
    {
     "name": "stdout",
     "output_type": "stream",
     "text": [
      "ywu10@memphis.edu\n",
      "i-chan.huang@stjude.org\n",
      "xiaolei.huang@memphis.edu\n"
     ]
    },
    {
     "name": "stderr",
     "output_type": "stream",
     "text": [
      "Setting `pad_token_id` to `eos_token_id`:128009 for open-end generation.\n"
     ]
    },
    {
     "name": "stdout",
     "output_type": "stream",
     "text": [
      "No email addresses found. We are not using code here.\n"
     ]
    },
    {
     "name": "stderr",
     "output_type": "stream",
     "text": [
      "Setting `pad_token_id` to `eos_token_id`:128009 for open-end generation.\n"
     ]
    },
    {
     "name": "stdout",
     "output_type": "stream",
     "text": [
      "zhi.chen1@duke.edu\n",
      "ht395@cornell.edu\n",
      "urszc@microsoft.com\n",
      "cynthia@cs.duke.edu\n",
      "rcaruana@microsoft.com\n"
     ]
    },
    {
     "name": "stderr",
     "output_type": "stream",
     "text": [
      "Setting `pad_token_id` to `eos_token_id`:128009 for open-end generation.\n"
     ]
    },
    {
     "name": "stdout",
     "output_type": "stream",
     "text": [
      "No email addresses found. We are not using code here.\n"
     ]
    },
    {
     "name": "stderr",
     "output_type": "stream",
     "text": [
      "Setting `pad_token_id` to `eos_token_id`:128009 for open-end generation.\n"
     ]
    },
    {
     "name": "stdout",
     "output_type": "stream",
     "text": [
      "shiuhn95@snu.ac.kr\n",
      "jhwon@snu.ac.kr\n",
      "dlee0880@snu.ac.kr\n",
      "renqianluo@microsoft.com\n",
      "lijun.wu@microsoft.com\n",
      "yingce.xia@microsoft.com\n",
      "taoqin@microsoft.com\n",
      "howardlee@snu.ac.kr\n"
     ]
    },
    {
     "name": "stderr",
     "output_type": "stream",
     "text": [
      "Setting `pad_token_id` to `eos_token_id`:128009 for open-end generation.\n"
     ]
    },
    {
     "name": "stdout",
     "output_type": "stream",
     "text": [
      "li-control.xu@connect.polyu.hk\n",
      "bokelvin.liu@connect.polyu.hk\n",
      "ameer-hamz.khan@polyu.edu.hk\n",
      "cslfan@comp.polyu.edu.hk\n",
      "xiao-ming.wu@polyu.edu.hk\n"
     ]
    },
    {
     "name": "stderr",
     "output_type": "stream",
     "text": [
      "Setting `pad_token_id` to `eos_token_id`:128009 for open-end generation.\n"
     ]
    },
    {
     "name": "stdout",
     "output_type": "stream",
     "text": [
      "No email addresses found. We are not using code here.\n"
     ]
    },
    {
     "name": "stderr",
     "output_type": "stream",
     "text": [
      "Setting `pad_token_id` to `eos_token_id`:128009 for open-end generation.\n"
     ]
    },
    {
     "name": "stdout",
     "output_type": "stream",
     "text": [
      "UTD8HJ@VIRGINIA.EDU\n",
      "JG5YCN@VIRGINIA.EDU\n",
      "GUIMIND@AMAZON.COM\n",
      "J.CARLYANG@EMORY.EDU\n",
      "BRADJC@VIRGINIA.EDU\n",
      "BTB5K@HSCMAIL.MCC.VIRGINIA.EDU\n",
      "JZ9Q@VIRGINIA.EDU\n",
      "EA6N@VIRGINIA.EDU\n"
     ]
    },
    {
     "name": "stderr",
     "output_type": "stream",
     "text": [
      "Setting `pad_token_id` to `eos_token_id`:128009 for open-end generation.\n"
     ]
    },
    {
     "name": "stdout",
     "output_type": "stream",
     "text": [
      "andre.manoel@microsoft.com\n",
      "mirianh@microsoft.com\n",
      "tal.baumel@microsoft.com\n",
      "shize.su@microsoft.com\n",
      "jialeichen@microsoft.com\n",
      "rsim@microsoft.com\n",
      "daniel.keegan.miller@gmail.com\n",
      "dannykarmon@google.com\n",
      "ydbdim@amazon.com\n"
     ]
    },
    {
     "name": "stderr",
     "output_type": "stream",
     "text": [
      "Setting `pad_token_id` to `eos_token_id`:128009 for open-end generation.\n"
     ]
    },
    {
     "name": "stdout",
     "output_type": "stream",
     "text": [
      "localh@kaist.ac.kr\n",
      "yseongjunyang@krafton.com\n",
      "daeyoung.k@kaist.ac.kr\n",
      "radhikadua@google.com\n",
      "jykim@kyuh.ac.kr\n",
      "eunhoy@kaist.ac.kr\n",
      "edwardchoi@kaist.ac.kr\n"
     ]
    },
    {
     "name": "stderr",
     "output_type": "stream",
     "text": [
      "Setting `pad_token_id` to `eos_token_id`:128009 for open-end generation.\n"
     ]
    },
    {
     "name": "stdout",
     "output_type": "stream",
     "text": [
      "g.cina@amsterdamumc.nl\n",
      "t.e.rober@uva.nl\n",
      "r.goedhart2@uva.nl\n",
      "s.i.birbil@uva.nl\n"
     ]
    },
    {
     "name": "stderr",
     "output_type": "stream",
     "text": [
      "Setting `pad_token_id` to `eos_token_id`:128009 for open-end generation.\n"
     ]
    },
    {
     "name": "stdout",
     "output_type": "stream",
     "text": [
      "mikeam@cs.washington.edu\n",
      "althoff@cs.washington.edu\n"
     ]
    },
    {
     "name": "stderr",
     "output_type": "stream",
     "text": [
      "Setting `pad_token_id` to `eos_token_id`:128009 for open-end generation.\n"
     ]
    },
    {
     "name": "stdout",
     "output_type": "stream",
     "text": [
      "mikeam@cs.washington.edu\n",
      "estebans@cs.washington.edu\n",
      "arinbjorn@evidation.com\n",
      "pgade@evidation.com\n",
      "eramirez@evidation.com\n",
      "schmidt@cs.washington.edu\n",
      "luca.foschini@sagebase.org\n",
      "althoff@cs.washington.edu\n"
     ]
    },
    {
     "name": "stderr",
     "output_type": "stream",
     "text": [
      "Setting `pad_token_id` to `eos_token_id`:128009 for open-end generation.\n"
     ]
    },
    {
     "name": "stdout",
     "output_type": "stream",
     "text": [
      "kevinywu@stanford.edu\n",
      "dominik dahlem@optum.com\n",
      "christopher.hane@optum.com\n",
      "eran.halperin@uhg.com\n",
      "jamesz@stanford.edu\n"
     ]
    },
    {
     "name": "stderr",
     "output_type": "stream",
     "text": [
      "Setting `pad_token_id` to `eos_token_id`:128009 for open-end generation.\n"
     ]
    },
    {
     "name": "stdout",
     "output_type": "stream",
     "text": [
      "cji@mit.edu\n",
      "amalaa@berkeley.edu\n",
      "dsontag@csail.mit.edu\n"
     ]
    },
    {
     "name": "stderr",
     "output_type": "stream",
     "text": [
      "Setting `pad_token_id` to `eos_token_id`:128009 for open-end generation.\n"
     ]
    },
    {
     "name": "stdout",
     "output_type": "stream",
     "text": [
      "arvind.pillai.gr@dartmouth.edu\n",
      "sknepal@cs.dartmouth.edu\n",
      "andrew.t.p.campbell@gmail.com\n"
     ]
    },
    {
     "name": "stderr",
     "output_type": "stream",
     "text": [
      "Setting `pad_token_id` to `eos_token_id`:128009 for open-end generation.\n"
     ]
    },
    {
     "name": "stdout",
     "output_type": "stream",
     "text": [
      "eunbyeol.cho@kaist.ac.kr\n",
      "mjbooo@kaist.ac.kr\n",
      "pacesun@kaist.ac.kr\n",
      "jiyoun.kim@kaist.ac.kr\n",
      "jinsungyoon@google.com\n",
      "edwardchoi@kaist.ac.kr\n"
     ]
    },
    {
     "name": "stderr",
     "output_type": "stream",
     "text": [
      "Setting `pad_token_id` to `eos_token_id`:128009 for open-end generation.\n"
     ]
    },
    {
     "name": "stdout",
     "output_type": "stream",
     "text": [
      "qixuanj@mit.edu\n",
      "j.h.f.oosterhoff@tudelft.nl\n",
      "yepenghuang@hsph.harvard.edu\n",
      "mghassem@mit.edu\n",
      "gbrat@bidmc.harvard.edu\n"
     ]
    },
    {
     "name": "stderr",
     "output_type": "stream",
     "text": [
      "Setting `pad_token_id` to `eos_token_id`:128009 for open-end generation.\n"
     ]
    },
    {
     "name": "stdout",
     "output_type": "stream",
     "text": [
      "hardy.hardy@mcgill.ca\n",
      "hardy@mikroskil.ac.id\n",
      "derek.ruths@mcgill.ca\n",
      "nicholas.king@mcgill.ca\n"
     ]
    },
    {
     "name": "stderr",
     "output_type": "stream",
     "text": [
      "Setting `pad_token_id` to `eos_token_id`:128009 for open-end generation.\n"
     ]
    },
    {
     "name": "stdout",
     "output_type": "stream",
     "text": [
      "william.lacava@childrens.harvard.edu\n",
      "elle.lett@childrens.harvard.edu\n",
      "gwan@hsph.harvard.edu\n"
     ]
    },
    {
     "name": "stderr",
     "output_type": "stream",
     "text": [
      "Setting `pad_token_id` to `eos_token_id`:128009 for open-end generation.\n"
     ]
    },
    {
     "name": "stdout",
     "output_type": "stream",
     "text": [
      "vincent.jeanselme@mrc-bsu.cam.ac.uk\n",
      "changho.yoon@sjc.ox.ac.uk\n",
      "brian.tom@mrc-bsu.cam.ac.uk\n",
      "jessica.barrett@mrc-bsu.cam.ac.uk\n"
     ]
    },
    {
     "name": "stderr",
     "output_type": "stream",
     "text": [
      "Setting `pad_token_id` to `eos_token_id`:128009 for open-end generation.\n"
     ]
    },
    {
     "name": "stdout",
     "output_type": "stream",
     "text": [
      "No email addresses found. We are not using code here.\n"
     ]
    },
    {
     "name": "stderr",
     "output_type": "stream",
     "text": [
      "Setting `pad_token_id` to `eos_token_id`:128009 for open-end generation.\n"
     ]
    },
    {
     "name": "stdout",
     "output_type": "stream",
     "text": [
      "hrf@umich.edu\n",
      "joyclee@med.umich.edu\n",
      "wiensj@umich.edu\n"
     ]
    },
    {
     "name": "stderr",
     "output_type": "stream",
     "text": [
      "Setting `pad_token_id` to `eos_token_id`:128009 for open-end generation.\n"
     ]
    },
    {
     "name": "stdout",
     "output_type": "stream",
     "text": [
      "kmatton@mit.edu\n",
      "roblewis@mit.edu\n",
      "guttag@mit.edu\n",
      "picard@mit.edu\n"
     ]
    },
    {
     "name": "stderr",
     "output_type": "stream",
     "text": [
      "Setting `pad_token_id` to `eos_token_id`:128009 for open-end generation.\n"
     ]
    },
    {
     "name": "stdout",
     "output_type": "stream",
     "text": [
      "jzheng22@mit.edu\n",
      "hanrui@mit.edu\n",
      "anandc@mit.edu\n",
      "aaguirre1@mgh.harvard.edu\n",
      "songhan@mit.edu\n",
      "hslee@mtl.mit.edu\n",
      "sodini@mtl.mit.edu\n"
     ]
    },
    {
     "name": "stderr",
     "output_type": "stream",
     "text": [
      "Setting `pad_token_id` to `eos_token_id`:128009 for open-end generation.\n"
     ]
    },
    {
     "name": "stdout",
     "output_type": "stream",
     "text": [
      "georgechen@cmu.edu\n"
     ]
    },
    {
     "name": "stderr",
     "output_type": "stream",
     "text": [
      "Setting `pad_token_id` to `eos_token_id`:128009 for open-end generation.\n"
     ]
    },
    {
     "name": "stdout",
     "output_type": "stream",
     "text": [
      "dotjandr@umich.edu\n",
      "wiensj@umich.edu\n"
     ]
    },
    {
     "name": "stderr",
     "output_type": "stream",
     "text": [
      "Setting `pad_token_id` to `eos_token_id`:128009 for open-end generation.\n"
     ]
    },
    {
     "name": "stdout",
     "output_type": "stream",
     "text": [
      "hlzhou@andrew.cmu.edu\n",
      "yuwenc2@andrew.cmu.edu\n",
      "zlipton@cmu.edu\n"
     ]
    },
    {
     "name": "stderr",
     "output_type": "stream",
     "text": [
      "Setting `pad_token_id` to `eos_token_id`:128009 for open-end generation.\n"
     ]
    },
    {
     "name": "stdout",
     "output_type": "stream",
     "text": [
      "No email addresses found. We are not using code here.\n"
     ]
    },
    {
     "name": "stderr",
     "output_type": "stream",
     "text": [
      "Setting `pad_token_id` to `eos_token_id`:128009 for open-end generation.\n"
     ]
    },
    {
     "name": "stdout",
     "output_type": "stream",
     "text": [
      "iman@cs.umass.edu\n",
      "mfiterau@cs.umass.edu\n"
     ]
    },
    {
     "name": "stderr",
     "output_type": "stream",
     "text": [
      "Setting `pad_token_id` to `eos_token_id`:128009 for open-end generation.\n"
     ]
    },
    {
     "name": "stdout",
     "output_type": "stream",
     "text": [
      "yi.yang@emory.edu\n",
      "hejie.cui@emory.edu\n",
      "j.carlyang@emory.edu\n"
     ]
    },
    {
     "name": "stderr",
     "output_type": "stream",
     "text": [
      "Setting `pad_token_id` to `eos_token_id`:128009 for open-end generation.\n"
     ]
    },
    {
     "name": "stdout",
     "output_type": "stream",
     "text": [
      "kailasv@stanford.edu\n",
      "Gregory.Lyng@optum.com\n",
      "brian.l.hill@optum.com\n",
      "kimmo.karkkainen@optum.com\n",
      "jeffrey.hertzberg@optum.com\n",
      "jamesz@stanford.edu\n",
      "eran.halperin@uhg.com\n"
     ]
    },
    {
     "name": "stderr",
     "output_type": "stream",
     "text": [
      "Setting `pad_token_id` to `eos_token_id`:128009 for open-end generation.\n"
     ]
    },
    {
     "name": "stdout",
     "output_type": "stream",
     "text": [
      "No email addresses found. We are not using code here.\n"
     ]
    },
    {
     "name": "stderr",
     "output_type": "stream",
     "text": [
      "Setting `pad_token_id` to `eos_token_id`:128009 for open-end generation.\n"
     ]
    },
    {
     "name": "stdout",
     "output_type": "stream",
     "text": [
      "nsupriy@amazon.com\n",
      "nmishra@amazon.com\n",
      "ynaamad@amazon.com\n",
      "rehg@gatech.edu\n",
      "mehul@aryn.ai\n",
      "awagner@bwh.harvard.edu\n"
     ]
    },
    {
     "name": "stderr",
     "output_type": "stream",
     "text": [
      "Setting `pad_token_id` to `eos_token_id`:128009 for open-end generation.\n"
     ]
    },
    {
     "name": "stdout",
     "output_type": "stream",
     "text": [
      "LEHMER16@MIT.EDU\n",
      "DEZ@MIT.EDU\n",
      "DMAHAJA@US.IBM.COM\n",
      "JONAS@XYLA.COM\n",
      "MICAH@XYLA.COM\n",
      "ZACK@XYLA.COM\n",
      "DANIEL@XYLA.COM\n",
      "PSZ@MIT.EDU\n",
      "ALISTAIR.JOHNSON@SICKKIDS.CA\n",
      "EALSENTZER@BWH.HARVARD.EDU\n"
     ]
    },
    {
     "name": "stderr",
     "output_type": "stream",
     "text": [
      "Setting `pad_token_id` to `eos_token_id`:128009 for open-end generation.\n"
     ]
    },
    {
     "name": "stdout",
     "output_type": "stream",
     "text": [
      "tpollard@mit.edu\n",
      "edwardchoi@kaist.ac.kr\n",
      "singhalp@pennmedicine.upenn.edu\n",
      "michael.hughes@tufts.edu\n",
      "elena.sizikova@fda.hhs.gov\n",
      "bobakm@tamu.edu\n",
      "iychen@berkeley.edu\n",
      "few2001@med.cornell.edu\n"
     ]
    },
    {
     "name": "stderr",
     "output_type": "stream",
     "text": [
      "Setting `pad_token_id` to `eos_token_id`:128009 for open-end generation.\n"
     ]
    },
    {
     "name": "stdout",
     "output_type": "stream",
     "text": [
      "wjhan@andrew.cmu.edu\n",
      "dggomez@andrew.cmu.edu\n",
      "aavi@andrew.cmu.edu\n",
      "chaojind@andrew.cmu.edu\n",
      "michael.a.rosenberg@cuanschutz.edu\n",
      "dweber2@andrew.cmu.edu\n",
      "emersonliu@msn.com\n",
      "dingzhao@andrew.cmu.edu\n"
     ]
    },
    {
     "name": "stderr",
     "output_type": "stream",
     "text": [
      "Setting `pad_token_id` to `eos_token_id`:128009 for open-end generation.\n"
     ]
    },
    {
     "name": "stdout",
     "output_type": "stream",
     "text": [
      "kyriakos.schwarz@uzh.ch\n",
      "alicia.pliegomendieta@usz.ch\n",
      "maolaaisha.aminanmu@uzh.ch\n",
      "lara.planas-paz@usz.ch\n",
      "chantal.pauli@uzh.ch\n",
      "ahmed.allam@uzh.ch\n",
      "michael.krauthammer@uzh.ch\n"
     ]
    },
    {
     "name": "stderr",
     "output_type": "stream",
     "text": [
      "Setting `pad_token_id` to `eos_token_id`:128009 for open-end generation.\n"
     ]
    },
    {
     "name": "stdout",
     "output_type": "stream",
     "text": [
      "haoting zhang@berkeley.edu\n",
      "dz2478@columbia.edu\n",
      "yunduan lin@berkeley.edu\n",
      "jinghai he@berkeley.edu\n",
      "QZhu@lbl.gov\n",
      "maxshen@berkeley.edu\n",
      "zyzheng@berkeley.edu\n"
     ]
    },
    {
     "name": "stderr",
     "output_type": "stream",
     "text": [
      "Setting `pad_token_id` to `eos_token_id`:128009 for open-end generation.\n"
     ]
    },
    {
     "name": "stdout",
     "output_type": "stream",
     "text": [
      "s.nakamura.sakai@yale.edu\n",
      "dennis.shung@yale.edu\n",
      "jasjeet.sekhon@yale.edu\n"
     ]
    },
    {
     "name": "stderr",
     "output_type": "stream",
     "text": [
      "Setting `pad_token_id` to `eos_token_id`:128009 for open-end generation.\n"
     ]
    },
    {
     "name": "stdout",
     "output_type": "stream",
     "text": [
      "kskim@mgh.harvard.edu\n",
      "sean05071@dgist.ac.kr\n",
      "slangarica@mgh.harvard.edu\n",
      "adham.alkhadrawi@mgh.harvard.edu\n",
      "SDO@mgh.harvard.edu\n"
     ]
    },
    {
     "name": "stderr",
     "output_type": "stream",
     "text": [
      "Setting `pad_token_id` to `eos_token_id`:128009 for open-end generation.\n"
     ]
    },
    {
     "name": "stdout",
     "output_type": "stream",
     "text": [
      "meerak@umich.edu\n",
      "wiensj@umich.edu\n"
     ]
    },
    {
     "name": "stderr",
     "output_type": "stream",
     "text": [
      "Setting `pad_token_id` to `eos_token_id`:128009 for open-end generation.\n"
     ]
    },
    {
     "name": "stdout",
     "output_type": "stream",
     "text": [
      "runze.yan@emory.edu\n",
      "chengding@gatech.edu\n",
      "ran.xiao@emory.edu\n",
      "aleksandr.vladimirovich.fedorov@emory.edu\n",
      "randall.lee@ucsf.edu\n",
      "fnahab@emory.edu\n",
      "xiao.hu@emory.edu\n"
     ]
    },
    {
     "name": "stderr",
     "output_type": "stream",
     "text": [
      "Setting `pad_token_id` to `eos_token_id`:128009 for open-end generation.\n"
     ]
    },
    {
     "name": "stdout",
     "output_type": "stream",
     "text": [
      "zdb6dz@virginia.edu\n",
      "deb@virginia.edu\n",
      "marc.adams@asu.edu\n",
      "ssa2w@virginia.edu\n"
     ]
    },
    {
     "name": "stderr",
     "output_type": "stream",
     "text": [
      "Setting `pad_token_id` to `eos_token_id`:128009 for open-end generation.\n"
     ]
    },
    {
     "name": "stdout",
     "output_type": "stream",
     "text": [
      "huiwei@cs.umass.edu\n",
      "maxxu@gatech.edu\n",
      "csamplawski@cs.umass.edu\n",
      "jrehg@illinois.edu\n",
      "santosh.kumar@memphis.edu\n",
      "marlin@cs.umass.edu\n"
     ]
    },
    {
     "name": "stderr",
     "output_type": "stream",
     "text": [
      "Setting `pad_token_id` to `eos_token_id`:128009 for open-end generation.\n"
     ]
    },
    {
     "name": "stdout",
     "output_type": "stream",
     "text": [
      "alfredn@kth.se\n",
      "azizpour@kth.se\n"
     ]
    },
    {
     "name": "stderr",
     "output_type": "stream",
     "text": [
      "Setting `pad_token_id` to `eos_token_id`:128009 for open-end generation.\n"
     ]
    },
    {
     "name": "stdout",
     "output_type": "stream",
     "text": [
      "ravva@udel.edu\n",
      "pkullu@udel.edu\n",
      "fahim@udel.edu\n",
      "rlb@udel.edu\n"
     ]
    },
    {
     "name": "stderr",
     "output_type": "stream",
     "text": [
      "Setting `pad_token_id` to `eos_token_id`:128009 for open-end generation.\n"
     ]
    },
    {
     "name": "stdout",
     "output_type": "stream",
     "text": [
      "ran.xu@emory.edu\n",
      "yiwenlu@sas.upenn.edu\n",
      "chang.liu2@emory.edu\n",
      "ychen123@pennmedicine.upenn.edu\n",
      "yan.v.sun@emory.edu\n",
      "xiao.hu@emory.edu\n",
      "joyce.c.ho@emory.edu\n",
      "j.carlyang@emory.edu\n"
     ]
    },
    {
     "name": "stderr",
     "output_type": "stream",
     "text": [
      "Setting `pad_token_id` to `eos_token_id`:128009 for open-end generation.\n"
     ]
    },
    {
     "name": "stdout",
     "output_type": "stream",
     "text": [
      "fongkeisen@u.nus.edu\n",
      "motani@nus.edu.sg\n"
     ]
    },
    {
     "name": "stderr",
     "output_type": "stream",
     "text": [
      "Setting `pad_token_id` to `eos_token_id`:128009 for open-end generation.\n"
     ]
    },
    {
     "name": "stdout",
     "output_type": "stream",
     "text": [
      "atoye@stevens.edu\n",
      "lgomez@stevens.edu\n",
      "samantha.kleinberg@stevens.edu\n"
     ]
    },
    {
     "name": "stderr",
     "output_type": "stream",
     "text": [
      "Setting `pad_token_id` to `eos_token_id`:128009 for open-end generation.\n"
     ]
    },
    {
     "name": "stdout",
     "output_type": "stream",
     "text": [
      "ab2947@cornell.edu\n",
      "sh2574@cornell.edu\n"
     ]
    },
    {
     "name": "stderr",
     "output_type": "stream",
     "text": [
      "Setting `pad_token_id` to `eos_token_id`:128009 for open-end generation.\n"
     ]
    },
    {
     "name": "stdout",
     "output_type": "stream",
     "text": [
      "christof.naumzik@googlemail.com\n",
      "akongsted@health.sdu.dk\n",
      "werner.vach@basel-academy.ch\n",
      "feuerriegel@lmu.de\n"
     ]
    },
    {
     "name": "stderr",
     "output_type": "stream",
     "text": [
      "Setting `pad_token_id` to `eos_token_id`:128009 for open-end generation.\n"
     ]
    },
    {
     "name": "stdout",
     "output_type": "stream",
     "text": [
      "ttumyche@kaist.ac.kr\n",
      "dyan.lee717@gmail.com\n",
      "wonjae.kim@navercorp.com\n",
      "j1nhwa.kim@navercorp.com\n",
      "tackeun.kim@snu.ac.kr\n",
      "radio622@gmail.com\n",
      "leonard.sunwoo@gmail.com\n",
      "edwardchoi@kaist.ac.kr\n"
     ]
    },
    {
     "name": "stderr",
     "output_type": "stream",
     "text": [
      "Setting `pad_token_id` to `eos_token_id`:128009 for open-end generation.\n"
     ]
    },
    {
     "name": "stdout",
     "output_type": "stream",
     "text": [
      "marine.hoche@alumni.ethz.ch\n",
      "omineeva@ethz.ch\n",
      "manuel.burger@inf.ethz.ch\n",
      "alessandro.blasimme@hest.ethz.ch\n",
      "raetsch@inf.ethz.ch\n"
     ]
    },
    {
     "name": "stderr",
     "output_type": "stream",
     "text": [
      "Setting `pad_token_id` to `eos_token_id`:128009 for open-end generation.\n"
     ]
    },
    {
     "name": "stdout",
     "output_type": "stream",
     "text": [
      "qingen@cunet.carleton.ca\n",
      "yuhong.guo@carleton.ca\n"
     ]
    },
    {
     "name": "stderr",
     "output_type": "stream",
     "text": [
      "Setting `pad_token_id` to `eos_token_id`:128009 for open-end generation.\n"
     ]
    },
    {
     "name": "stdout",
     "output_type": "stream",
     "text": [
      "lorenzo.bini@unige.ch\n",
      "fatemeh.nassajian@unige.ch\n",
      "margarita.liarou@unige.ch\n",
      "thomas.matthes@hcuge.ch\n",
      "stephane.marchand-maillet@unige.ch\n"
     ]
    },
    {
     "name": "stderr",
     "output_type": "stream",
     "text": [
      "Setting `pad_token_id` to `eos_token_id`:128009 for open-end generation.\n"
     ]
    },
    {
     "name": "stdout",
     "output_type": "stream",
     "text": [
      "stefan.hegselmann@uni-muenster.de\n",
      "zjshen@mit.edu\n",
      "flogierse@uni-muenster.de\n",
      "monica.agrawal@duke.edu\n",
      "dsontag@csail.mit.edu\n",
      "xjiang@uni-muenster.de\n"
     ]
    },
    {
     "name": "stderr",
     "output_type": "stream",
     "text": [
      "Setting `pad_token_id` to `eos_token_id`:128009 for open-end generation.\n"
     ]
    },
    {
     "name": "stdout",
     "output_type": "stream",
     "text": [
      "ke.wang064@duke.edu\n",
      "jerry.yang@duke.edu\n",
      "leeor.hershkovich@duke.edu\n",
      "hayoung.jeong@duke.edu\n",
      "bill.chen@duke.edu\n",
      "karnika.singh@duke.edu\n",
      "ali.roganizad@duke.edu\n",
      "mobashir.shandhi@duke.edu\n",
      "andrew.spector@duke.edu\n",
      "jessilyn.dunn@duke.edu\n"
     ]
    },
    {
     "name": "stderr",
     "output_type": "stream",
     "text": [
      "Setting `pad_token_id` to `eos_token_id`:128009 for open-end generation.\n"
     ]
    },
    {
     "name": "stdout",
     "output_type": "stream",
     "text": [
      "alireza.amirshahi@epfl.ch\n",
      "jonathan.dan@epfl.ch\n",
      "jose.mirandacalero@epfl.ch\n",
      "amir.aminifar@eit.lth.se\n",
      "david.atienza@epfl.ch\n"
     ]
    },
    {
     "name": "stderr",
     "output_type": "stream",
     "text": [
      "Setting `pad_token_id` to `eos_token_id`:128009 for open-end generation.\n"
     ]
    },
    {
     "name": "stdout",
     "output_type": "stream",
     "text": [
      "akdb3@cam.ac.uk\n",
      "p.h.g.hendrix@tilburguniversity.edu\n"
     ]
    },
    {
     "name": "stderr",
     "output_type": "stream",
     "text": [
      "Setting `pad_token_id` to `eos_token_id`:128009 for open-end generation.\n"
     ]
    },
    {
     "name": "stdout",
     "output_type": "stream",
     "text": [
      "michael.lau2@columbia.edu\n",
      "yt2793@columbia.edu\n",
      "rk3291@columbia.edu\n",
      "sa4166@columbia.edu\n",
      "k.thakoor@columbia.edu\n"
     ]
    },
    {
     "name": "stderr",
     "output_type": "stream",
     "text": [
      "Setting `pad_token_id` to `eos_token_id`:128009 for open-end generation.\n"
     ]
    },
    {
     "name": "stdout",
     "output_type": "stream",
     "text": [
      "hmahdi2026@meds.uwo.ca\n",
      "e.nashnoush@mail.utoronto.ca\n",
      "rami.saab@utoronto.ca\n",
      "arjun.balachandar@mail.utoronto.ca\n",
      "rishit@cs.toronto.edu\n",
      "lucas.perri@outlook.com\n",
      "h.khosravani@utoronto.ca\n"
     ]
    },
    {
     "name": "stderr",
     "output_type": "stream",
     "text": [
      "Setting `pad_token_id` to `eos_token_id`:128009 for open-end generation.\n"
     ]
    },
    {
     "name": "stdout",
     "output_type": "stream",
     "text": [
      "Here are the cleaned and extracted email addresses:\n",
      "\n",
      "\n",
      "raghav.tandon@gatech.edu\n",
      "jläh@emory.edu\n",
      "cassie.mitchell@bme.gatech.edu\n"
     ]
    },
    {
     "name": "stderr",
     "output_type": "stream",
     "text": [
      "Setting `pad_token_id` to `eos_token_id`:128009 for open-end generation.\n"
     ]
    },
    {
     "name": "stdout",
     "output_type": "stream",
     "text": [
      "kevinywu@stanford.edu\n",
      "wue@stanford.edu\n",
      "krodolfa@law.stanford.edu\n",
      "dho@law.stanford.edu\n",
      "jamesz@stanford.edu\n"
     ]
    },
    {
     "name": "stderr",
     "output_type": "stream",
     "text": [
      "Setting `pad_token_id` to `eos_token_id`:128009 for open-end generation.\n"
     ]
    },
    {
     "name": "stdout",
     "output_type": "stream",
     "text": [
      "ahsan.hi@northeastern.edu\n",
      "mcinerney.de@northeastern.edu\n",
      "jkim@bwh.harvard.edu\n",
      "cpotter3@bwh.harvard.edu\n",
      "gsyoung@bwh.harvard.edu\n",
      "s.amir@northeastern.edu\n",
      "b.wallace@northeastern.edu\n"
     ]
    },
    {
     "name": "stderr",
     "output_type": "stream",
     "text": [
      "Setting `pad_token_id` to `eos_token_id`:128009 for open-end generation.\n"
     ]
    },
    {
     "name": "stdout",
     "output_type": "stream",
     "text": [
      "nicolas.raymond2@usherbrooke.ca\n",
      "hakima.laribi@usherbrooke.ca\n",
      "mcaru@pennstatehealth.psu.edu\n",
      "gmmitiche@esi.dz\n",
      "valerie.marcil@umontreal.ca\n",
      "maja.krajinovic@umontreal.ca\n"
     ]
    },
    {
     "name": "stderr",
     "output_type": "stream",
     "text": [
      "Setting `pad_token_id` to `eos_token_id`:128009 for open-end generation.\n"
     ]
    },
    {
     "name": "stdout",
     "output_type": "stream",
     "text": [
      "ybkim95@mit.edu\n",
      "xoxu@mit.edu\n",
      "dmcduff@google.com\n",
      "cynthiab@mit.edu\n",
      "haewon@mit.edu\n"
     ]
    },
    {
     "name": "stderr",
     "output_type": "stream",
     "text": [
      "Setting `pad_token_id` to `eos_token_id`:128009 for open-end generation.\n"
     ]
    },
    {
     "name": "stdout",
     "output_type": "stream",
     "text": [
      "hyeche@ethz.ch\n",
      "manuel.burger@ethz.ch\n",
      "dinara.veshchezerova@ethz.ch\n",
      "raetsch@inf.ethz.ch\n"
     ]
    },
    {
     "name": "stderr",
     "output_type": "stream",
     "text": [
      "Setting `pad_token_id` to `eos_token_id`:128009 for open-end generation.\n"
     ]
    },
    {
     "name": "stdout",
     "output_type": "stream",
     "text": [
      "mariia.sidulova@fda.hhs.gov\n",
      "seyed.kahaki@fda.hhs.gov\n",
      "hagemani@wustl.edu\n",
      "alexej.gossmann@fda.hhs.gov\n"
     ]
    },
    {
     "name": "stderr",
     "output_type": "stream",
     "text": [
      "Setting `pad_token_id` to `eos_token_id`:128009 for open-end generation.\n"
     ]
    },
    {
     "name": "stdout",
     "output_type": "stream",
     "text": [
      "anzeyimana@umass.edu\n",
      "anthonycampb@umass.edu\n",
      "James.Scanlan@providence.org\n",
      "jstekler@uw.edu\n",
      "marquard@umn.edu\n",
      "Barry.Saver@swedish.org\n",
      "jgummeso@umass.edu\n"
     ]
    },
    {
     "name": "stderr",
     "output_type": "stream",
     "text": [
      "Setting `pad_token_id` to `eos_token_id`:128009 for open-end generation.\n"
     ]
    },
    {
     "name": "stdout",
     "output_type": "stream",
     "text": [
      "tavisy@student.ethz.ch\n",
      "mkuznetsova@ethz.ch\n",
      "christian.holz@inf.ethz.ch\n",
      "shkurta.gashi@ai.ethz.ch\n"
     ]
    },
    {
     "name": "stderr",
     "output_type": "stream",
     "text": [
      "Setting `pad_token_id` to `eos_token_id`:128009 for open-end generation.\n"
     ]
    },
    {
     "name": "stdout",
     "output_type": "stream",
     "text": [
      "am2@stanford.edu\n",
      "joerke@stanford.edu\n",
      "wdenton@stanford.edu\n",
      "barbarae@stanford.edu\n",
      "ebrun@cs.stanford.edu\n"
     ]
    },
    {
     "name": "stderr",
     "output_type": "stream",
     "text": [
      "Setting `pad_token_id` to `eos_token_id`:128009 for open-end generation.\n"
     ]
    },
    {
     "name": "stdout",
     "output_type": "stream",
     "text": [
      "marikacusick@stanford.edu\n",
      "gchertow@stanford.edu\n",
      "owens@stanford.edu\n",
      "micwilliams@stanfordhealthcare.org\n",
      "sherrirose@stanford.edu\n"
     ]
    },
    {
     "name": "stderr",
     "output_type": "stream",
     "text": [
      "Setting `pad_token_id` to `eos_token_id`:128009 for open-end generation.\n"
     ]
    },
    {
     "name": "stdout",
     "output_type": "stream",
     "text": [
      "pkasl@ucsd.edu\n",
      "ssoltani@ucsd.edu\n",
      "lbruce@ucsd.edu\n",
      "vkviswan@ucsd.edu\n",
      "wendy.hartogensis@ucsf.edu\n",
      "a1gupta@ucsd.edu\n",
      "ialtintas@ucsd.edu\n",
      "Stephan.Dilchert@baruch.cuny.edu\n",
      "mt3qb@mst.edu\n",
      "raosukru@msu.edu\n",
      "stickn21@msu.edu\n",
      "nadendla@mst.edu\n",
      "canfieldci@mst.edu\n"
     ]
    }
   ],
   "source": [
    "def extract_and_clean_emails(text, pipeline):\n",
    "    prompt = f\"\"\"\n",
    "    Extract all email addresses from the following text.\n",
    "    Clean the extracted email addresses by removing any unnecessary characters or formatting issues.\n",
    "    Output only the cleaned email addresses, one per line.\n",
    "    \n",
    "    Text: {text}\n",
    "    \n",
    "    Cleaned and extracted email addresses:\n",
    "    \"\"\"\n",
    "    # Generate the response\n",
    "    response = generate_text_with_icl(prompt, pipeline, [{\"input\": text, \"output\": \"\"}], max_new_tokens=256, temperature=0.00001, top_p=0.99)\n",
    "    return response\n",
    "\n",
    "def process_dataframe(pipeline, df: pd.DataFrame, text_column: str):\n",
    "    # Extract and clean emails\n",
    "    processed_emails = df[text_column].apply(lambda x: extract_and_clean_emails(x, pipeline))\n",
    "    \n",
    "    # Create a new dataframe with processed emails\n",
    "    new_df = df.copy()\n",
    "    new_df['processed_emails'] = processed_emails\n",
    "    \n",
    "    # Reorder columns to put processed_emails right after the original text column\n",
    "    cols = list(new_df.columns)\n",
    "    text_index = cols.index(text_column)\n",
    "    cols.insert(text_index + 1, cols.pop(cols.index('processed_emails')))\n",
    "    new_df = new_df[cols]\n",
    "    \n",
    "    return new_df\n",
    "chil_info = process_dataframe(llama3, chil_info, \"authors\")"
   ]
  },
  {
   "cell_type": "code",
   "execution_count": 8,
   "metadata": {},
   "outputs": [
    {
     "name": "stderr",
     "output_type": "stream",
     "text": [
      "Setting `pad_token_id` to `eos_token_id`:128009 for open-end generation.\n",
      "Setting `pad_token_id` to `eos_token_id`:128009 for open-end generation.\n"
     ]
    },
    {
     "name": "stdout",
     "output_type": "stream",
     "text": [
      "BMM-Net: Automatic Segmentation of Edema in Optical Coherence Tomography Based on Boundary Detection and Multi-Scale Network\n"
     ]
    },
    {
     "name": "stderr",
     "output_type": "stream",
     "text": [
      "Setting `pad_token_id` to `eos_token_id`:128009 for open-end generation.\n"
     ]
    },
    {
     "name": "stdout",
     "output_type": "stream",
     "text": [
      "Hurtful Words: Quantifying Biases in Clinical Contextual Word Embeddings\n"
     ]
    },
    {
     "name": "stderr",
     "output_type": "stream",
     "text": [
      "Setting `pad_token_id` to `eos_token_id`:128009 for open-end generation.\n"
     ]
    },
    {
     "name": "stdout",
     "output_type": "stream",
     "text": [
      "Disease State Prediction from Single-Cell Data Using Graph Attention Networks\n"
     ]
    },
    {
     "name": "stderr",
     "output_type": "stream",
     "text": [
      "Setting `pad_token_id` to `eos_token_id`:128009 for open-end generation.\n"
     ]
    },
    {
     "name": "stdout",
     "output_type": "stream",
     "text": [
      "Defining Admissible Rewards for High-Confidence Policy Evaluation in Batch Reinforcement Learning\n"
     ]
    },
    {
     "name": "stderr",
     "output_type": "stream",
     "text": [
      "Setting `pad_token_id` to `eos_token_id`:128009 for open-end generation.\n"
     ]
    },
    {
     "name": "stdout",
     "output_type": "stream",
     "text": [
      "Population-Aware Hierarchical Bayesian Domain Adaptation via Multi-Component Invariant Learning\n"
     ]
    },
    {
     "name": "stderr",
     "output_type": "stream",
     "text": [
      "You seem to be using the pipelines sequentially on GPU. In order to maximize efficiency please use a dataset\n",
      "Setting `pad_token_id` to `eos_token_id`:128009 for open-end generation.\n"
     ]
    },
    {
     "name": "stdout",
     "output_type": "stream",
     "text": [
      "Interactive Hybrid Approach to Combine Machine and Human Intelligence for Personalized Rehabilitation Assessment\n"
     ]
    },
    {
     "name": "stderr",
     "output_type": "stream",
     "text": [
      "Setting `pad_token_id` to `eos_token_id`:128009 for open-end generation.\n"
     ]
    },
    {
     "name": "stdout",
     "output_type": "stream",
     "text": [
      "Using SNOMED to Automate Clinical Concept Mapping\n"
     ]
    },
    {
     "name": "stderr",
     "output_type": "stream",
     "text": [
      "Setting `pad_token_id` to `eos_token_id`:128009 for open-end generation.\n"
     ]
    },
    {
     "name": "stdout",
     "output_type": "stream",
     "text": [
      "Variational Learning of Individual Survival Distributions\n"
     ]
    },
    {
     "name": "stderr",
     "output_type": "stream",
     "text": [
      "Setting `pad_token_id` to `eos_token_id`:128009 for open-end generation.\n"
     ]
    },
    {
     "name": "stdout",
     "output_type": "stream",
     "text": [
      "De-Identification of Free-Text Medical Records Using Pre-Trained Bidirectional Transformers\n"
     ]
    },
    {
     "name": "stderr",
     "output_type": "stream",
     "text": [
      "Setting `pad_token_id` to `eos_token_id`:128009 for open-end generation.\n"
     ]
    },
    {
     "name": "stdout",
     "output_type": "stream",
     "text": [
      "Adverse Drug Reaction Discovery from Electronic Health Records with Deep Neural Networks\n"
     ]
    },
    {
     "name": "stderr",
     "output_type": "stream",
     "text": [
      "Setting `pad_token_id` to `eos_token_id`:128009 for open-end generation.\n"
     ]
    },
    {
     "name": "stdout",
     "output_type": "stream",
     "text": [
      "Interpretable Subgroup Discovery in Treatment Effect Estimation with Application to Opioid Prescribing Guidelines\n"
     ]
    },
    {
     "name": "stderr",
     "output_type": "stream",
     "text": [
      "Setting `pad_token_id` to `eos_token_id`:128009 for open-end generation.\n"
     ]
    },
    {
     "name": "stdout",
     "output_type": "stream",
     "text": [
      "Analyzing the Role of Model Uncertainty for Electronic Health Records\n"
     ]
    },
    {
     "name": "stderr",
     "output_type": "stream",
     "text": [
      "Setting `pad_token_id` to `eos_token_id`:128009 for open-end generation.\n"
     ]
    },
    {
     "name": "stdout",
     "output_type": "stream",
     "text": [
      "An Adversarial Approach for the Robust Classification of Pneumonia from Chest Radiographs\n"
     ]
    },
    {
     "name": "stderr",
     "output_type": "stream",
     "text": [
      "Setting `pad_token_id` to `eos_token_id`:128009 for open-end generation.\n"
     ]
    },
    {
     "name": "stdout",
     "output_type": "stream",
     "text": [
      "Explaining an Increase in Predicted Risk for Clinical Alerts\n"
     ]
    },
    {
     "name": "stderr",
     "output_type": "stream",
     "text": [
      "Setting `pad_token_id` to `eos_token_id`:128009 for open-end generation.\n"
     ]
    },
    {
     "name": "stdout",
     "output_type": "stream",
     "text": [
      "Cali Forest: Calibrated Random Forest for Health Data\n"
     ]
    },
    {
     "name": "stderr",
     "output_type": "stream",
     "text": [
      "Setting `pad_token_id` to `eos_token_id`:128009 for open-end generation.\n"
     ]
    },
    {
     "name": "stdout",
     "output_type": "stream",
     "text": [
      "Fast Learning-Based Registration of Sparse 3D Clinical Images\n"
     ]
    },
    {
     "name": "stderr",
     "output_type": "stream",
     "text": [
      "Setting `pad_token_id` to `eos_token_id`:128009 for open-end generation.\n"
     ]
    },
    {
     "name": "stdout",
     "output_type": "stream",
     "text": [
      "Multi-Modal Missing Data-Aware Stacked Autoencoder for Biomedical Abstract Screening\n"
     ]
    },
    {
     "name": "stderr",
     "output_type": "stream",
     "text": [
      "Setting `pad_token_id` to `eos_token_id`:128009 for open-end generation.\n"
     ]
    },
    {
     "name": "stdout",
     "output_type": "stream",
     "text": [
      "Survival Cluster Analysis\n"
     ]
    },
    {
     "name": "stderr",
     "output_type": "stream",
     "text": [
      "Setting `pad_token_id` to `eos_token_id`:128009 for open-end generation.\n"
     ]
    },
    {
     "name": "stdout",
     "output_type": "stream",
     "text": [
      "TASE: Temporal and Static Tensor Factorization for Phenotyping Electronic Health Records\n"
     ]
    },
    {
     "name": "stderr",
     "output_type": "stream",
     "text": [
      "Setting `pad_token_id` to `eos_token_id`:128009 for open-end generation.\n"
     ]
    },
    {
     "name": "stdout",
     "output_type": "stream",
     "text": [
      "Multiple Instance Learning for Predicting Necrotizing Enterocolitis in Premature Infants Using Microbiome Data\n"
     ]
    },
    {
     "name": "stderr",
     "output_type": "stream",
     "text": [
      "Setting `pad_token_id` to `eos_token_id`:128009 for open-end generation.\n"
     ]
    },
    {
     "name": "stdout",
     "output_type": "stream",
     "text": [
      "Extracting Medical Entities from Social Media\n"
     ]
    },
    {
     "name": "stderr",
     "output_type": "stream",
     "text": [
      "Setting `pad_token_id` to `eos_token_id`:128009 for open-end generation.\n"
     ]
    },
    {
     "name": "stdout",
     "output_type": "stream",
     "text": [
      "Hidden Stratification Causes Clinically Meaningful Failures in Machine Learning for Medical Imaging\n"
     ]
    },
    {
     "name": "stderr",
     "output_type": "stream",
     "text": [
      "Setting `pad_token_id` to `eos_token_id`:128009 for open-end generation.\n"
     ]
    },
    {
     "name": "stdout",
     "output_type": "stream",
     "text": [
      "MIC-Extract: A Data Extraction, Preprocessing, and Representation Pipeline for\n"
     ]
    },
    {
     "name": "stderr",
     "output_type": "stream",
     "text": [
      "Setting `pad_token_id` to `eos_token_id`:128009 for open-end generation.\n"
     ]
    },
    {
     "name": "stdout",
     "output_type": "stream",
     "text": [
      "Variationally Regularized Graph-Based Representation Learning for Electronic Health Records\n"
     ]
    },
    {
     "name": "stderr",
     "output_type": "stream",
     "text": [
      "Setting `pad_token_id` to `eos_token_id`:128009 for open-end generation.\n"
     ]
    },
    {
     "name": "stdout",
     "output_type": "stream",
     "text": [
      "Affinitention Nets: Kernel Perspective on Attention Architectures for Set Classification with Applications to Medical Text and Images\n"
     ]
    },
    {
     "name": "stderr",
     "output_type": "stream",
     "text": [
      "Setting `pad_token_id` to `eos_token_id`:128009 for open-end generation.\n"
     ]
    },
    {
     "name": "stdout",
     "output_type": "stream",
     "text": [
      "RNA Alternative Splicing Prediction with Discrete Compositional Energy Network\n"
     ]
    },
    {
     "name": "stderr",
     "output_type": "stream",
     "text": [
      "Setting `pad_token_id` to `eos_token_id`:128009 for open-end generation.\n"
     ]
    },
    {
     "name": "stdout",
     "output_type": "stream",
     "text": [
      "Concept-Based Model Explanations for Electronic Health Records\n"
     ]
    },
    {
     "name": "stderr",
     "output_type": "stream",
     "text": [
      "Setting `pad_token_id` to `eos_token_id`:128009 for open-end generation.\n"
     ]
    },
    {
     "name": "stdout",
     "output_type": "stream",
     "text": [
      "Privacy-Preserving and Bandwidth-Efficient Federated Learning: An Application to In-Hospital Mortality Prediction\n"
     ]
    },
    {
     "name": "stderr",
     "output_type": "stream",
     "text": [
      "Setting `pad_token_id` to `eos_token_id`:128009 for open-end generation.\n"
     ]
    },
    {
     "name": "stdout",
     "output_type": "stream",
     "text": [
      "Temporal Pointwise Convolutional Networks for Length of Stay Prediction in the Intensive Care Unit\n"
     ]
    },
    {
     "name": "stderr",
     "output_type": "stream",
     "text": [
      "Setting `pad_token_id` to `eos_token_id`:128009 for open-end generation.\n"
     ]
    },
    {
     "name": "stdout",
     "output_type": "stream",
     "text": [
      "Trustworthy: Scalable Data Valuation with the Shapley Value\n"
     ]
    },
    {
     "name": "stderr",
     "output_type": "stream",
     "text": [
      "Setting `pad_token_id` to `eos_token_id`:128009 for open-end generation.\n"
     ]
    },
    {
     "name": "stdout",
     "output_type": "stream",
     "text": [
      "Visual Che Xbert: Addressing the Discrepancy Between Radiology Report Labels and Image Labels\n"
     ]
    },
    {
     "name": "stderr",
     "output_type": "stream",
     "text": [
      "Setting `pad_token_id` to `eos_token_id`:128009 for open-end generation.\n"
     ]
    },
    {
     "name": "stdout",
     "output_type": "stream",
     "text": [
      "Learning to Safely Approve Updates to Machine Learning Algorithms\n"
     ]
    },
    {
     "name": "stderr",
     "output_type": "stream",
     "text": [
      "Setting `pad_token_id` to `eos_token_id`:128009 for open-end generation.\n"
     ]
    },
    {
     "name": "stdout",
     "output_type": "stream",
     "text": [
      "Self-Supervised Transfer Learning of Physiological Representations from Free-Living Wearable Data\n"
     ]
    },
    {
     "name": "stderr",
     "output_type": "stream",
     "text": [
      "Setting `pad_token_id` to `eos_token_id`:128009 for open-end generation.\n"
     ]
    },
    {
     "name": "stdout",
     "output_type": "stream",
     "text": [
      "IGOS++: Integrated Gradient Optimized Saliency by Bilateral Perturbations\n"
     ]
    },
    {
     "name": "stderr",
     "output_type": "stream",
     "text": [
      "Setting `pad_token_id` to `eos_token_id`:128009 for open-end generation.\n"
     ]
    },
    {
     "name": "stdout",
     "output_type": "stream",
     "text": [
      "Generative ODE Modeling with Known Unknowns\n"
     ]
    },
    {
     "name": "stderr",
     "output_type": "stream",
     "text": [
      "Setting `pad_token_id` to `eos_token_id`:128009 for open-end generation.\n"
     ]
    },
    {
     "name": "stdout",
     "output_type": "stream",
     "text": [
      "Che X-Transfer: Performance and Parameter Efficiency of Image Net Models for Chest X-Ray Interpretation\n"
     ]
    },
    {
     "name": "stderr",
     "output_type": "stream",
     "text": [
      "Setting `pad_token_id` to `eos_token_id`:128009 for open-end generation.\n"
     ]
    },
    {
     "name": "stdout",
     "output_type": "stream",
     "text": [
      "Predictive Models for Colorectal Cancer Recurrence Using Multi-Modal Healthcare Data\n"
     ]
    },
    {
     "name": "stderr",
     "output_type": "stream",
     "text": [
      "Setting `pad_token_id` to `eos_token_id`:128009 for open-end generation.\n"
     ]
    },
    {
     "name": "stdout",
     "output_type": "stream",
     "text": [
      "Learning to Predict with Supporting Evidence: Applications to Clinical Risk Prediction\n"
     ]
    },
    {
     "name": "stderr",
     "output_type": "stream",
     "text": [
      "Setting `pad_token_id` to `eos_token_id`:128009 for open-end generation.\n"
     ]
    },
    {
     "name": "stdout",
     "output_type": "stream",
     "text": [
      "Modeling Longitudinal Dynamics of Comorbidities\n"
     ]
    },
    {
     "name": "stderr",
     "output_type": "stream",
     "text": [
      "Setting `pad_token_id` to `eos_token_id`:128009 for open-end generation.\n"
     ]
    },
    {
     "name": "stdout",
     "output_type": "stream",
     "text": [
      "Meta Phys: Few-Shot Adaptation for Non-Contact Physiological Measurement\n"
     ]
    },
    {
     "name": "stderr",
     "output_type": "stream",
     "text": [
      "Setting `pad_token_id` to `eos_token_id`:128009 for open-end generation.\n"
     ]
    },
    {
     "name": "stdout",
     "output_type": "stream",
     "text": [
      "T-DPSOM - An Interpretable Clustering Method for Unsupervised Learning of Patient Health States\n"
     ]
    },
    {
     "name": "stderr",
     "output_type": "stream",
     "text": [
      "Setting `pad_token_id` to `eos_token_id`:128009 for open-end generation.\n"
     ]
    },
    {
     "name": "stdout",
     "output_type": "stream",
     "text": [
      "Cleaned title:\n"
     ]
    },
    {
     "name": "stderr",
     "output_type": "stream",
     "text": [
      "Setting `pad_token_id` to `eos_token_id`:128009 for open-end generation.\n"
     ]
    },
    {
     "name": "stdout",
     "output_type": "stream",
     "text": [
      "Contextualization and Individualization for Just-in-Time Adaptive Interventions to Reduce Sedentary Behavior\n"
     ]
    },
    {
     "name": "stderr",
     "output_type": "stream",
     "text": [
      "Setting `pad_token_id` to `eos_token_id`:128009 for open-end generation.\n"
     ]
    },
    {
     "name": "stdout",
     "output_type": "stream",
     "text": [
      "Enabling Counterfactual Survival Analysis with Balanced Representations\n"
     ]
    },
    {
     "name": "stderr",
     "output_type": "stream",
     "text": [
      "Setting `pad_token_id` to `eos_token_id`:128009 for open-end generation.\n"
     ]
    },
    {
     "name": "stdout",
     "output_type": "stream",
     "text": [
      "External: Generalization of Deep Learning Models for Chest X-ray Interpretation to Photos of X-rays and External Clinical Settings\n"
     ]
    },
    {
     "name": "stderr",
     "output_type": "stream",
     "text": [
      "Setting `pad_token_id` to `eos_token_id`:128009 for open-end generation.\n"
     ]
    },
    {
     "name": "stdout",
     "output_type": "stream",
     "text": [
      "A Comprehensive EHR Time-Series Pre-Training Benchmark\n"
     ]
    },
    {
     "name": "stderr",
     "output_type": "stream",
     "text": [
      "Setting `pad_token_id` to `eos_token_id`:128009 for open-end generation.\n"
     ]
    },
    {
     "name": "stdout",
     "output_type": "stream",
     "text": [
      "An Empirical Framework for Domain Generalization in Clinical Settings\n"
     ]
    },
    {
     "name": "stderr",
     "output_type": "stream",
     "text": [
      "Setting `pad_token_id` to `eos_token_id`:128009 for open-end generation.\n"
     ]
    },
    {
     "name": "stdout",
     "output_type": "stream",
     "text": [
      "Controlled Molecule Generator for Optimizing Multiple Chemical Properties\n"
     ]
    },
    {
     "name": "stderr",
     "output_type": "stream",
     "text": [
      "Setting `pad_token_id` to `eos_token_id`:128009 for open-end generation.\n"
     ]
    },
    {
     "name": "stdout",
     "output_type": "stream",
     "text": [
      "Influenza-Like Symptom Recognition Using Mobile Sensing and Graph Neural Networks\n"
     ]
    },
    {
     "name": "stderr",
     "output_type": "stream",
     "text": [
      "Setting `pad_token_id` to `eos_token_id`:128009 for open-end generation.\n"
     ]
    },
    {
     "name": "stdout",
     "output_type": "stream",
     "text": [
      "Phenotypical Ontology-Driven Framework for Multi-Task Learning\n"
     ]
    },
    {
     "name": "stderr",
     "output_type": "stream",
     "text": [
      "Setting `pad_token_id` to `eos_token_id`:128009 for open-end generation.\n"
     ]
    },
    {
     "name": "stdout",
     "output_type": "stream",
     "text": [
      "Cleaned title:\n"
     ]
    },
    {
     "name": "stderr",
     "output_type": "stream",
     "text": [
      "Setting `pad_token_id` to `eos_token_id`:128009 for open-end generation.\n"
     ]
    },
    {
     "name": "stdout",
     "output_type": "stream",
     "text": [
      "Counterfactually Guided Policy Transfer in Clinical Settings\n"
     ]
    },
    {
     "name": "stderr",
     "output_type": "stream",
     "text": [
      "Setting `pad_token_id` to `eos_token_id`:128009 for open-end generation.\n"
     ]
    },
    {
     "name": "stdout",
     "output_type": "stream",
     "text": [
      "Evaluating Domain Generalization for Survival Analysis in Clinical Studies\n"
     ]
    },
    {
     "name": "stderr",
     "output_type": "stream",
     "text": [
      "Setting `pad_token_id` to `eos_token_id`:128009 for open-end generation.\n"
     ]
    },
    {
     "name": "stdout",
     "output_type": "stream",
     "text": [
      "Estimating Model Performance on External Samples from Their Limited Statistical Characteristics\n"
     ]
    },
    {
     "name": "stderr",
     "output_type": "stream",
     "text": [
      "Setting `pad_token_id` to `eos_token_id`:128009 for open-end generation.\n"
     ]
    },
    {
     "name": "stdout",
     "output_type": "stream",
     "text": [
      "Enriching Unsupervised User Embedding via Medical Concepts\n"
     ]
    },
    {
     "name": "stderr",
     "output_type": "stream",
     "text": [
      "Setting `pad_token_id` to `eos_token_id`:128009 for open-end generation.\n"
     ]
    },
    {
     "name": "stdout",
     "output_type": "stream",
     "text": [
      "Multi-Task Adversarial Learning for Treatment Effect Estimation in Basket Trials\n"
     ]
    },
    {
     "name": "stderr",
     "output_type": "stream",
     "text": [
      "Setting `pad_token_id` to `eos_token_id`:128009 for open-end generation.\n"
     ]
    },
    {
     "name": "stdout",
     "output_type": "stream",
     "text": [
      "Neural Survival Clustering: Non-Parametric Mixture of Neural Networks for Survival Clustering\n"
     ]
    },
    {
     "name": "stderr",
     "output_type": "stream",
     "text": [
      "Setting `pad_token_id` to `eos_token_id`:128009 for open-end generation.\n"
     ]
    },
    {
     "name": "stdout",
     "output_type": "stream",
     "text": [
      "ADCB: An Alzheimer's Disease Simulator for Benchmarking Observational Estimators of Causal Effects\n"
     ]
    },
    {
     "name": "stderr",
     "output_type": "stream",
     "text": [
      "Setting `pad_token_id` to `eos_token_id`:128009 for open-end generation.\n"
     ]
    },
    {
     "name": "stdout",
     "output_type": "stream",
     "text": [
      "Semi-Markov Offline Reinforcement Learning for Healthcare\n"
     ]
    },
    {
     "name": "stderr",
     "output_type": "stream",
     "text": [
      "Setting `pad_token_id` to `eos_token_id`:128009 for open-end generation.\n"
     ]
    },
    {
     "name": "stdout",
     "output_type": "stream",
     "text": [
      "Uncertainty-Aware Text-to-Program for Question Answering on Structured Electronic Health Records\n"
     ]
    },
    {
     "name": "stderr",
     "output_type": "stream",
     "text": [
      "Setting `pad_token_id` to `eos_token_id`:128009 for open-end generation.\n"
     ]
    },
    {
     "name": "stdout",
     "output_type": "stream",
     "text": [
      "Learning Unsupervised Representations for ICU Time Series\n"
     ]
    },
    {
     "name": "stderr",
     "output_type": "stream",
     "text": [
      "Setting `pad_token_id` to `eos_token_id`:128009 for open-end generation.\n"
     ]
    },
    {
     "name": "stdout",
     "output_type": "stream",
     "text": [
      "How to Validate Machine Learning Models Prior to Deployment: Silent Trial Protocol for Evaluation of Real-Time Models at ICU\n"
     ]
    },
    {
     "name": "stderr",
     "output_type": "stream",
     "text": [
      "Setting `pad_token_id` to `eos_token_id`:128009 for open-end generation.\n"
     ]
    },
    {
     "name": "stdout",
     "output_type": "stream",
     "text": [
      "Unifying Heterogeneous Electronic Health Records Systems via Text-Based Code Embedding\n"
     ]
    },
    {
     "name": "stderr",
     "output_type": "stream",
     "text": [
      "Setting `pad_token_id` to `eos_token_id`:128009 for open-end generation.\n"
     ]
    },
    {
     "name": "stdout",
     "output_type": "stream",
     "text": [
      "Improving the Fairness of Chest X-Ray Classifiers\n"
     ]
    },
    {
     "name": "stderr",
     "output_type": "stream",
     "text": [
      "Setting `pad_token_id` to `eos_token_id`:128009 for open-end generation.\n"
     ]
    },
    {
     "name": "stdout",
     "output_type": "stream",
     "text": [
      "Context-Sensitive Spelling Correction of Clinical Text via Conditional Independence\n"
     ]
    },
    {
     "name": "stderr",
     "output_type": "stream",
     "text": [
      "Setting `pad_token_id` to `eos_token_id`:128009 for open-end generation.\n"
     ]
    },
    {
     "name": "stdout",
     "output_type": "stream",
     "text": [
      "MedMCQA: A Large-Scale Multi-Subject Choice Dataset for Medical Domain Question Answering\n"
     ]
    },
    {
     "name": "stderr",
     "output_type": "stream",
     "text": [
      "Setting `pad_token_id` to `eos_token_id`:128009 for open-end generation.\n"
     ]
    },
    {
     "name": "stdout",
     "output_type": "stream",
     "text": [
      "Graph-Text Multi-Modal Pre-Training for Medical Representation Learning\n"
     ]
    },
    {
     "name": "stderr",
     "output_type": "stream",
     "text": [
      "Setting `pad_token_id` to `eos_token_id`:128009 for open-end generation.\n"
     ]
    },
    {
     "name": "stdout",
     "output_type": "stream",
     "text": [
      "Data Augmentation for Electrocardiograms\n"
     ]
    },
    {
     "name": "stderr",
     "output_type": "stream",
     "text": [
      "Setting `pad_token_id` to `eos_token_id`:128009 for open-end generation.\n"
     ]
    },
    {
     "name": "stdout",
     "output_type": "stream",
     "text": [
      "Real-Time Seizure Detection Using EEG: A Comprehensive Comparison of Recent Approaches Under a Realistic Setting\n"
     ]
    },
    {
     "name": "stderr",
     "output_type": "stream",
     "text": [
      "Setting `pad_token_id` to `eos_token_id`:128009 for open-end generation.\n"
     ]
    },
    {
     "name": "stdout",
     "output_type": "stream",
     "text": [
      "Lead-Agnostic Self-Supervised Learning for Local and Global Representations of Electrocardiogram\n"
     ]
    },
    {
     "name": "stderr",
     "output_type": "stream",
     "text": [
      "Setting `pad_token_id` to `eos_token_id`:128009 for open-end generation.\n"
     ]
    },
    {
     "name": "stdout",
     "output_type": "stream",
     "text": [
      "Physio MTL: Personalizing Physiological Patterns Using Optimal Transport Multi-Task Regression\n"
     ]
    },
    {
     "name": "stderr",
     "output_type": "stream",
     "text": [
      "Setting `pad_token_id` to `eos_token_id`:128009 for open-end generation.\n"
     ]
    },
    {
     "name": "stdout",
     "output_type": "stream",
     "text": [
      "Disability Prediction in Multiple Sclerosis Using Performance Outcome Measures and Demographic Data\n"
     ]
    },
    {
     "name": "stderr",
     "output_type": "stream",
     "text": [
      "Setting `pad_token_id` to `eos_token_id`:128009 for open-end generation.\n"
     ]
    },
    {
     "name": "stdout",
     "output_type": "stream",
     "text": [
      "Identification of Subgroups with Similar Benefits in Off-Policy Evaluation\n"
     ]
    },
    {
     "name": "stderr",
     "output_type": "stream",
     "text": [
      "Setting `pad_token_id` to `eos_token_id`:128009 for open-end generation.\n"
     ]
    },
    {
     "name": "stdout",
     "output_type": "stream",
     "text": [
      "Practical Challenges in Differentially-Private Federated Survival Analysis of Medical Data\n"
     ]
    },
    {
     "name": "stderr",
     "output_type": "stream",
     "text": [
      "Setting `pad_token_id` to `eos_token_id`:128009 for open-end generation.\n"
     ]
    },
    {
     "name": "stdout",
     "output_type": "stream",
     "text": [
      "Cleaned title:\n"
     ]
    },
    {
     "name": "stderr",
     "output_type": "stream",
     "text": [
      "Setting `pad_token_id` to `eos_token_id`:128009 for open-end generation.\n"
     ]
    },
    {
     "name": "stdout",
     "output_type": "stream",
     "text": [
      "Virus2Vec: Viral Sequence Classification Using Machine Learning\n"
     ]
    },
    {
     "name": "stderr",
     "output_type": "stream",
     "text": [
      "Setting `pad_token_id` to `eos_token_id`:128009 for open-end generation.\n"
     ]
    },
    {
     "name": "stdout",
     "output_type": "stream",
     "text": [
      "Adaptive Weighted Multi-View Clustering\n"
     ]
    },
    {
     "name": "stderr",
     "output_type": "stream",
     "text": [
      "Setting `pad_token_id` to `eos_token_id`:128009 for open-end generation.\n"
     ]
    },
    {
     "name": "stdout",
     "output_type": "stream",
     "text": [
      "Bayesian Active Questionnaire Design for Cause-of-Death Assignment Using Verbal Autopsies\n"
     ]
    },
    {
     "name": "stderr",
     "output_type": "stream",
     "text": [
      "Setting `pad_token_id` to `eos_token_id`:128009 for open-end generation.\n"
     ]
    },
    {
     "name": "stdout",
     "output_type": "stream",
     "text": [
      "Supplementary Materials for Bayesian Active Questionnaire Design for Cause-of-Death Assignment Using Verbal Autopsies\n"
     ]
    },
    {
     "name": "stderr",
     "output_type": "stream",
     "text": [
      "Setting `pad_token_id` to `eos_token_id`:128009 for open-end generation.\n"
     ]
    },
    {
     "name": "stdout",
     "output_type": "stream",
     "text": [
      "Modeling Multivariate Biosignals with Graph Neural Networks and Structured State Space Models\n"
     ]
    },
    {
     "name": "stderr",
     "output_type": "stream",
     "text": [
      "Setting `pad_token_id` to `eos_token_id`:128009 for open-end generation.\n"
     ]
    },
    {
     "name": "stdout",
     "output_type": "stream",
     "text": [
      "Token Imbalance Adaptation for Radiology Report Generation\n"
     ]
    },
    {
     "name": "stderr",
     "output_type": "stream",
     "text": [
      "Setting `pad_token_id` to `eos_token_id`:128009 for open-end generation.\n"
     ]
    },
    {
     "name": "stdout",
     "output_type": "stream",
     "text": [
      "Supplementary\n"
     ]
    },
    {
     "name": "stderr",
     "output_type": "stream",
     "text": [
      "Setting `pad_token_id` to `eos_token_id`:128009 for open-end generation.\n"
     ]
    },
    {
     "name": "stdout",
     "output_type": "stream",
     "text": [
      "Missing Values and Imputation in Healthcare Data: Can Interpretable Machine Learning Help?\n"
     ]
    },
    {
     "name": "stderr",
     "output_type": "stream",
     "text": [
      "Setting `pad_token_id` to `eos_token_id`:128009 for open-end generation.\n"
     ]
    },
    {
     "name": "stdout",
     "output_type": "stream",
     "text": [
      "Interpretable Missing Values in Healthcare: Figure 7 - Impact of Father's Education on Infant Mortality Risk. Appendix A: Testing for MCAR with EBM: Case Study.\n"
     ]
    },
    {
     "name": "stderr",
     "output_type": "stream",
     "text": [
      "Setting `pad_token_id` to `eos_token_id`:128009 for open-end generation.\n"
     ]
    },
    {
     "name": "stdout",
     "output_type": "stream",
     "text": [
      "Revisiting Machine-Learning-Based Drug Repurposing: Indications Are Not a Right Prediction Target\n"
     ]
    },
    {
     "name": "stderr",
     "output_type": "stream",
     "text": [
      "Setting `pad_token_id` to `eos_token_id`:128009 for open-end generation.\n"
     ]
    },
    {
     "name": "stdout",
     "output_type": "stream",
     "text": [
      "Multi-Modal Pre-Training for Medical Vision-Language Understanding and Generation: An Empirical Study with a New Benchmark\n"
     ]
    },
    {
     "name": "stderr",
     "output_type": "stream",
     "text": [
      "Setting `pad_token_id` to `eos_token_id`:128009 for open-end generation.\n"
     ]
    },
    {
     "name": "stdout",
     "output_type": "stream",
     "text": [
      "Dataset 1.1: Motivation for What Purpose Was the Dataset Created? The Proposed RGC Dataset Is Created for Medical Vision-Language Pre-Training and to Serve as a Benchmark for Medical Image-Text Retrieval and Report Generation.\n"
     ]
    },
    {
     "name": "stderr",
     "output_type": "stream",
     "text": [
      "Setting `pad_token_id` to `eos_token_id`:128009 for open-end generation.\n"
     ]
    },
    {
     "name": "stdout",
     "output_type": "stream",
     "text": [
      "SRDA: Mobile Sensing-Based Fluid Overload Detection for End-Stage Kidney Disease Patients Using Sensor Relation Dual Autoencoder\n"
     ]
    },
    {
     "name": "stderr",
     "output_type": "stream",
     "text": [
      "Setting `pad_token_id` to `eos_token_id`:128009 for open-end generation.\n"
     ]
    },
    {
     "name": "stdout",
     "output_type": "stream",
     "text": [
      "Federated Multilingual Models for Medical Transcript Analysis\n"
     ]
    },
    {
     "name": "stderr",
     "output_type": "stream",
     "text": [
      "Setting `pad_token_id` to `eos_token_id`:128009 for open-end generation.\n"
     ]
    },
    {
     "name": "stdout",
     "output_type": "stream",
     "text": [
      "Toward the Practical Utility of Federated Learning in the Medical Domain\n"
     ]
    },
    {
     "name": "stderr",
     "output_type": "stream",
     "text": [
      "Setting `pad_token_id` to `eos_token_id`:128009 for open-end generation.\n"
     ]
    },
    {
     "name": "stdout",
     "output_type": "stream",
     "text": [
      "Semantic Match: Debugging Feature Attribution Methods in XAI for Healthcare\n"
     ]
    },
    {
     "name": "stderr",
     "output_type": "stream",
     "text": [
      "Setting `pad_token_id` to `eos_token_id`:128009 for open-end generation.\n"
     ]
    },
    {
     "name": "stdout",
     "output_type": "stream",
     "text": [
      "Self-Supervised Pretraining and Transfer Learning Enable Flu and COVID-19 Predictions in Small Mobile Sensing Datasets\n"
     ]
    },
    {
     "name": "stderr",
     "output_type": "stream",
     "text": [
      "Setting `pad_token_id` to `eos_token_id`:128009 for open-end generation.\n"
     ]
    },
    {
     "name": "stdout",
     "output_type": "stream",
     "text": [
      "HomeKit: A Benchmark for Time Series Classification on a Large Mobile Sensing Dataset with Laboratory-Tested Ground Truth of Influenza Infections\n"
     ]
    },
    {
     "name": "stderr",
     "output_type": "stream",
     "text": [
      "Setting `pad_token_id` to `eos_token_id`:128009 for open-end generation.\n"
     ]
    },
    {
     "name": "stdout",
     "output_type": "stream",
     "text": [
      "Collecting Data When Missingness Is Unknown: A Method for Improving Model Performance Given Under-Reporting in Patient Populations\n"
     ]
    },
    {
     "name": "stderr",
     "output_type": "stream",
     "text": [
      "Setting `pad_token_id` to `eos_token_id`:128009 for open-end generation.\n"
     ]
    },
    {
     "name": "stdout",
     "output_type": "stream",
     "text": [
      "Large-Scale Study of Temporal Shift in Health Insurance Claims\n"
     ]
    },
    {
     "name": "stderr",
     "output_type": "stream",
     "text": [
      "Setting `pad_token_id` to `eos_token_id`:128009 for open-end generation.\n"
     ]
    },
    {
     "name": "stdout",
     "output_type": "stream",
     "text": [
      "Rare Life Event Detection via Mobile Sensing Using Multi-Task Learning\n"
     ]
    },
    {
     "name": "stderr",
     "output_type": "stream",
     "text": [
      "Setting `pad_token_id` to `eos_token_id`:128009 for open-end generation.\n"
     ]
    },
    {
     "name": "stdout",
     "output_type": "stream",
     "text": [
      "Rediscovery of CNN's Versatility for Text-Based Encoding of Raw Electronic Health Records\n"
     ]
    },
    {
     "name": "stderr",
     "output_type": "stream",
     "text": [
      "Setting `pad_token_id` to `eos_token_id`:128009 for open-end generation.\n"
     ]
    },
    {
     "name": "stdout",
     "output_type": "stream",
     "text": [
      "Clinical Relevance Score for Guided Trauma Injury Pattern Discovery with Weakly Supervised β-VAE\n"
     ]
    },
    {
     "name": "stderr",
     "output_type": "stream",
     "text": [
      "Setting `pad_token_id` to `eos_token_id`:128009 for open-end generation.\n"
     ]
    },
    {
     "name": "stdout",
     "output_type": "stream",
     "text": [
      "Who Controlled the Evidence? Question Answering for Disclosure Information Extraction\n"
     ]
    },
    {
     "name": "stderr",
     "output_type": "stream",
     "text": [
      "Setting `pad_token_id` to `eos_token_id`:128009 for open-end generation.\n"
     ]
    },
    {
     "name": "stdout",
     "output_type": "stream",
     "text": [
      "Fair Admission Risk Prediction with Proportional Multicalibration\n"
     ]
    },
    {
     "name": "stderr",
     "output_type": "stream",
     "text": [
      "Setting `pad_token_id` to `eos_token_id`:128009 for open-end generation.\n"
     ]
    },
    {
     "name": "stdout",
     "output_type": "stream",
     "text": [
      "Neural Fine-Gray: Monotonic Neural Networks for Competing Risks\n"
     ]
    },
    {
     "name": "stderr",
     "output_type": "stream",
     "text": [
      "Setting `pad_token_id` to `eos_token_id`:128009 for open-end generation.\n"
     ]
    },
    {
     "name": "stdout",
     "output_type": "stream",
     "text": [
      "Neural Fine-Gray: Monotonic Neural Networks for Competing Risks\n"
     ]
    },
    {
     "name": "stderr",
     "output_type": "stream",
     "text": [
      "Setting `pad_token_id` to `eos_token_id`:128009 for open-end generation.\n"
     ]
    },
    {
     "name": "stdout",
     "output_type": "stream",
     "text": [
      "Denoising Autoencoders for Learning from Noisy Patient-Reported Data\n"
     ]
    },
    {
     "name": "stderr",
     "output_type": "stream",
     "text": [
      "Setting `pad_token_id` to `eos_token_id`:128009 for open-end generation.\n"
     ]
    },
    {
     "name": "stdout",
     "output_type": "stream",
     "text": [
      "Contrastive Learning of Electrodermal Activity Representations for Stress Detection\n"
     ]
    },
    {
     "name": "stderr",
     "output_type": "stream",
     "text": [
      "Setting `pad_token_id` to `eos_token_id`:128009 for open-end generation.\n"
     ]
    },
    {
     "name": "stdout",
     "output_type": "stream",
     "text": [
      "Machine Learning for Arterial Blood Pressure Prediction\n"
     ]
    },
    {
     "name": "stderr",
     "output_type": "stream",
     "text": [
      "Setting `pad_token_id` to `eos_token_id`:128009 for open-end generation.\n"
     ]
    },
    {
     "name": "stdout",
     "output_type": "stream",
     "text": [
      "A General Framework for Visualizing Embedding Spaces of Neural Survival Analysis Models Based on Angular Information\n"
     ]
    },
    {
     "name": "stderr",
     "output_type": "stream",
     "text": [
      "Setting `pad_token_id` to `eos_token_id`:128009 for open-end generation.\n"
     ]
    },
    {
     "name": "stdout",
     "output_type": "stream",
     "text": [
      "Leveraging an Alignment Set in Tackling Instance-Dependent Label Noise\n"
     ]
    },
    {
     "name": "stderr",
     "output_type": "stream",
     "text": [
      "Setting `pad_token_id` to `eos_token_id`:128009 for open-end generation.\n"
     ]
    },
    {
     "name": "stdout",
     "output_type": "stream",
     "text": [
      "Evaluating Model Performance in Medical Datasets Over Time\n"
     ]
    },
    {
     "name": "stderr",
     "output_type": "stream",
     "text": [
      "Setting `pad_token_id` to `eos_token_id`:128009 for open-end generation.\n"
     ]
    },
    {
     "name": "stdout",
     "output_type": "stream",
     "text": [
      "Evaluating Model Performance in Medical Datasets Over Time: A Snapshot into the State of Proceedings and the First 20 Papers That Came Up in the Radiology Medical Journal When Searching for the Keyword \"Machine Learning\" and Filtering for Papers from To\n"
     ]
    },
    {
     "name": "stderr",
     "output_type": "stream",
     "text": [
      "Setting `pad_token_id` to `eos_token_id`:128009 for open-end generation.\n"
     ]
    },
    {
     "name": "stdout",
     "output_type": "stream",
     "text": [
      "Multi-Wave: Multiresolution Deep Architectures through Wavelet Decomposition for Multivariate Time Series Prediction\n"
     ]
    },
    {
     "name": "stderr",
     "output_type": "stream",
     "text": [
      "Setting `pad_token_id` to `eos_token_id`:128009 for open-end generation.\n"
     ]
    },
    {
     "name": "stdout",
     "output_type": "stream",
     "text": [
      "PTGB: Pre-Train Graph Neural Networks for Brain Network Analysis\n"
     ]
    },
    {
     "name": "stderr",
     "output_type": "stream",
     "text": [
      "Setting `pad_token_id` to `eos_token_id`:128009 for open-end generation.\n"
     ]
    },
    {
     "name": "stdout",
     "output_type": "stream",
     "text": [
      "Understanding and Predicting the Effect of Environmental Factors on People with Type 2 Diabetes\n"
     ]
    },
    {
     "name": "stderr",
     "output_type": "stream",
     "text": [
      "Setting `pad_token_id` to `eos_token_id`:128009 for open-end generation.\n"
     ]
    },
    {
     "name": "stdout",
     "output_type": "stream",
     "text": [
      "Understanding and Predicting Environment Effects on Individuals with T2D: Appendix A - CGM Dataset. We include information on the range of values for each external factor in our dataset in Table 4. Note that all extreme weather events and all temporal events are binary-valued. We plot the distribution of the number of days recorded for each individual in Figure 4. The large spike in the last bucket contains roughly 10% of individuals in our cohort and represents people who have recorded M data on over 75% of days over the 2.5-year duration of data collection. Figure 4: Distribution of Number of Recorded Days of M Data per Individual. The spike in the last bucket is due to about 10% of individuals providing recordings (nearly) every day over the 2.5-year data collection period. B. Classifier Details: Information on the values input into the random forest classifiers is provided in Table 5. Note that the M and activity data is not used for classifiers, thus no M activity data features. C. Additional Results: Here, we provide plots showing the PR-AUC performance of our classifiers. We observe similar results as described in Section 3.2. In Figure 5, we plot the C of models across 8\n"
     ]
    },
    {
     "name": "stderr",
     "output_type": "stream",
     "text": [
      "Setting `pad_token_id` to `eos_token_id`:128009 for open-end generation.\n"
     ]
    },
    {
     "name": "stdout",
     "output_type": "stream",
     "text": [
      "Explaining a Machine Learning Decision to Physicians via Counterfactuals\n"
     ]
    },
    {
     "name": "stderr",
     "output_type": "stream",
     "text": [
      "Setting `pad_token_id` to `eos_token_id`:128009 for open-end generation.\n"
     ]
    },
    {
     "name": "stdout",
     "output_type": "stream",
     "text": [
      "Do We Still Need Clinical Language Models\n"
     ]
    },
    {
     "name": "stderr",
     "output_type": "stream",
     "text": [
      "Setting `pad_token_id` to `eos_token_id`:128009 for open-end generation.\n"
     ]
    },
    {
     "name": "stdout",
     "output_type": "stream",
     "text": [
      "Cleaned title:\n"
     ]
    },
    {
     "name": "stderr",
     "output_type": "stream",
     "text": [
      "Setting `pad_token_id` to `eos_token_id`:128009 for open-end generation.\n"
     ]
    },
    {
     "name": "stdout",
     "output_type": "stream",
     "text": [
      "Interpretation of Intracardiac Electrograms Through Textual Representations\n"
     ]
    },
    {
     "name": "stderr",
     "output_type": "stream",
     "text": [
      "Setting `pad_token_id` to `eos_token_id`:128009 for open-end generation.\n"
     ]
    },
    {
     "name": "stdout",
     "output_type": "stream",
     "text": [
      "DeepDOS: A Graph Neural Network-Based Drug Synergy Prediction Algorithm\n"
     ]
    },
    {
     "name": "stderr",
     "output_type": "stream",
     "text": [
      "Setting `pad_token_id` to `eos_token_id`:128009 for open-end generation.\n"
     ]
    },
    {
     "name": "stdout",
     "output_type": "stream",
     "text": [
      "Daily Physical Activity Monitoring: Adaptive Learning from Multi-Source Motion Sensor Data\n"
     ]
    },
    {
     "name": "stderr",
     "output_type": "stream",
     "text": [
      "Setting `pad_token_id` to `eos_token_id`:128009 for open-end generation.\n"
     ]
    },
    {
     "name": "stdout",
     "output_type": "stream",
     "text": [
      "Enhancing Collaborative Medical Outcomes through Private Synthetic Hypercube Augmentation: PriSHA\n"
     ]
    },
    {
     "name": "stderr",
     "output_type": "stream",
     "text": [
      "Setting `pad_token_id` to `eos_token_id`:128009 for open-end generation.\n"
     ]
    },
    {
     "name": "stdout",
     "output_type": "stream",
     "text": [
      "Integrating Chat GPT into Secure Hospital Networks: A Case Study on Improving Radiology Report Analysis\n"
     ]
    },
    {
     "name": "stderr",
     "output_type": "stream",
     "text": [
      "Setting `pad_token_id` to `eos_token_id`:128009 for open-end generation.\n"
     ]
    },
    {
     "name": "stdout",
     "output_type": "stream",
     "text": [
      "Multiple Instance Learning with Absolute Position Information\n"
     ]
    },
    {
     "name": "stderr",
     "output_type": "stream",
     "text": [
      "Setting `pad_token_id` to `eos_token_id`:128009 for open-end generation.\n"
     ]
    },
    {
     "name": "stdout",
     "output_type": "stream",
     "text": [
      "SQWA: Signal Quality Aware Deep Neural Architecture for Enhanced Accuracy in Atrial Fibrillation Detection from Noisy PG Signals\n"
     ]
    },
    {
     "name": "stderr",
     "output_type": "stream",
     "text": [
      "Setting `pad_token_id` to `eos_token_id`:128009 for open-end generation.\n"
     ]
    },
    {
     "name": "stdout",
     "output_type": "stream",
     "text": [
      "Improved Bayesian Permutation Entropy Estimator\n"
     ]
    },
    {
     "name": "stderr",
     "output_type": "stream",
     "text": [
      "Setting `pad_token_id` to `eos_token_id`:128009 for open-end generation.\n"
     ]
    },
    {
     "name": "stdout",
     "output_type": "stream",
     "text": [
      "Temporally Multi-Scale Sparse Self-Attention for Physical Activity Data Imputation\n"
     ]
    },
    {
     "name": "stderr",
     "output_type": "stream",
     "text": [
      "Setting `pad_token_id` to `eos_token_id`:128009 for open-end generation.\n"
     ]
    },
    {
     "name": "stdout",
     "output_type": "stream",
     "text": [
      "Regularizing and Interpreting Vision Transformers by Patch Selection on Echocardiography Data\n"
     ]
    },
    {
     "name": "stderr",
     "output_type": "stream",
     "text": [
      "Setting `pad_token_id` to `eos_token_id`:128009 for open-end generation.\n"
     ]
    },
    {
     "name": "stdout",
     "output_type": "stream",
     "text": [
      "A Machine Learning Approach for Predicting Upper Limb Motion Intentions with Multimodal Data in Virtual Reality\n"
     ]
    },
    {
     "name": "stderr",
     "output_type": "stream",
     "text": [
      "Setting `pad_token_id` to `eos_token_id`:128009 for open-end generation.\n"
     ]
    },
    {
     "name": "stdout",
     "output_type": "stream",
     "text": [
      "From Basic to Extra Features: Hypergraph Transformer Pre-Training Then Fine-Tuning for Balanced Clinical Predictions on EHR\n"
     ]
    },
    {
     "name": "stderr",
     "output_type": "stream",
     "text": [
      "Setting `pad_token_id` to `eos_token_id`:128009 for open-end generation.\n"
     ]
    },
    {
     "name": "stdout",
     "output_type": "stream",
     "text": [
      "Explainable and Privacy-Preserving Machine Learning via Domain-Aware Symbolic Regression\n"
     ]
    },
    {
     "name": "stderr",
     "output_type": "stream",
     "text": [
      "Setting `pad_token_id` to `eos_token_id`:128009 for open-end generation.\n"
     ]
    },
    {
     "name": "stdout",
     "output_type": "stream",
     "text": [
      "Simulation of Health Time Series with Nonstationarity\n"
     ]
    },
    {
     "name": "stderr",
     "output_type": "stream",
     "text": [
      "Setting `pad_token_id` to `eos_token_id`:128009 for open-end generation.\n"
     ]
    },
    {
     "name": "stdout",
     "output_type": "stream",
     "text": [
      "Brain-Mamba: Encoding Brain Activity via Selective State Space Models\n"
     ]
    },
    {
     "name": "stderr",
     "output_type": "stream",
     "text": [
      "Setting `pad_token_id` to `eos_token_id`:128009 for open-end generation.\n"
     ]
    },
    {
     "name": "stdout",
     "output_type": "stream",
     "text": [
      "Data-Driven Subgrouping of Patient Trajectories with Chronic Diseases: Evidence from Low Back Pain\n"
     ]
    },
    {
     "name": "stderr",
     "output_type": "stream",
     "text": [
      "Setting `pad_token_id` to `eos_token_id`:128009 for open-end generation.\n"
     ]
    },
    {
     "name": "stdout",
     "output_type": "stream",
     "text": [
      "Vision-Language Generative Model for View-Specific Chest X-Ray Generation\n"
     ]
    },
    {
     "name": "stderr",
     "output_type": "stream",
     "text": [
      "Setting `pad_token_id` to `eos_token_id`:128009 for open-end generation.\n"
     ]
    },
    {
     "name": "stdout",
     "output_type": "stream",
     "text": [
      "FAMEWS: A Fairness Auditing Tool for Medical Early-Warning Systems\n"
     ]
    },
    {
     "name": "stderr",
     "output_type": "stream",
     "text": [
      "Setting `pad_token_id` to `eos_token_id`:128009 for open-end generation.\n"
     ]
    },
    {
     "name": "stdout",
     "output_type": "stream",
     "text": [
      "Unsupervised Domain Adaptation for Medical Image Segmentation with Dynamic Prototype-Based Contrastive Learning\n"
     ]
    },
    {
     "name": "stderr",
     "output_type": "stream",
     "text": [
      "Setting `pad_token_id` to `eos_token_id`:128009 for open-end generation.\n"
     ]
    },
    {
     "name": "stdout",
     "output_type": "stream",
     "text": [
      "Flow Cyt: A Comparative Study of Deep Learning Approaches for Multi-Class Classification in Cytometry Benchmarking\n"
     ]
    },
    {
     "name": "stderr",
     "output_type": "stream",
     "text": [
      "Setting `pad_token_id` to `eos_token_id`:128009 for open-end generation.\n"
     ]
    },
    {
     "name": "stdout",
     "output_type": "stream",
     "text": [
      "A Data-Centric Approach to Generate Faithful and High-Quality Patient Summaries with Large Language Models\n"
     ]
    },
    {
     "name": "stderr",
     "output_type": "stream",
     "text": [
      "Setting `pad_token_id` to `eos_token_id`:128009 for open-end generation.\n"
     ]
    },
    {
     "name": "stdout",
     "output_type": "stream",
     "text": [
      "Addressing Wearable Sleep Tracking Inequity: A New Dataset and Novel Methods for a Population with Sleep Disorders\n"
     ]
    },
    {
     "name": "stderr",
     "output_type": "stream",
     "text": [
      "Setting `pad_token_id` to `eos_token_id`:128009 for open-end generation.\n"
     ]
    },
    {
     "name": "stdout",
     "output_type": "stream",
     "text": [
      "FETCH: A Fast and Efficient Technique for Channel Selection in G Wearable Systems\n"
     ]
    },
    {
     "name": "stderr",
     "output_type": "stream",
     "text": [
      "Setting `pad_token_id` to `eos_token_id`:128009 for open-end generation.\n"
     ]
    },
    {
     "name": "stdout",
     "output_type": "stream",
     "text": [
      "Interpretable Breast Cancer Classification Using CNN on Mammographic Images\n"
     ]
    },
    {
     "name": "stderr",
     "output_type": "stream",
     "text": [
      "Setting `pad_token_id` to `eos_token_id`:128009 for open-end generation.\n"
     ]
    },
    {
     "name": "stdout",
     "output_type": "stream",
     "text": [
      "Using Expert Gaze for Self-Supervised and Supervised Contrastive Learning of Glaucoma from OCT Data\n"
     ]
    },
    {
     "name": "stderr",
     "output_type": "stream",
     "text": [
      "Setting `pad_token_id` to `eos_token_id`:128009 for open-end generation.\n"
     ]
    },
    {
     "name": "stdout",
     "output_type": "stream",
     "text": [
      "Tuning In: Analysis of Audio Classifier Performance in Clinical Settings with Limited Data\n"
     ]
    },
    {
     "name": "stderr",
     "output_type": "stream",
     "text": [
      "Setting `pad_token_id` to `eos_token_id`:128009 for open-end generation.\n"
     ]
    },
    {
     "name": "stdout",
     "output_type": "stream",
     "text": [
      "Scalable Subtype and Stage Inference via Simultaneous Clustering of Subjects and Biomarkers\n"
     ]
    },
    {
     "name": "stderr",
     "output_type": "stream",
     "text": [
      "Setting `pad_token_id` to `eos_token_id`:128009 for open-end generation.\n"
     ]
    },
    {
     "name": "stdout",
     "output_type": "stream",
     "text": [
      "Regulating AI Adaptation: An Analysis of Medical Device Updates\n"
     ]
    },
    {
     "name": "stderr",
     "output_type": "stream",
     "text": [
      "Setting `pad_token_id` to `eos_token_id`:128009 for open-end generation.\n"
     ]
    },
    {
     "name": "stdout",
     "output_type": "stream",
     "text": [
      "Retrieving Evidence from EHRs with LMs: Possibilities and Challenges\n"
     ]
    },
    {
     "name": "stderr",
     "output_type": "stream",
     "text": [
      "Setting `pad_token_id` to `eos_token_id`:128009 for open-end generation.\n"
     ]
    },
    {
     "name": "stdout",
     "output_type": "stream",
     "text": [
      "Development of Error Passing Network for Optimizing the Prediction of VO2 Peak in Acute Leukemia Survivors\n"
     ]
    },
    {
     "name": "stderr",
     "output_type": "stream",
     "text": [
      "Setting `pad_token_id` to `eos_token_id`:128009 for open-end generation.\n"
     ]
    },
    {
     "name": "stdout",
     "output_type": "stream",
     "text": [
      "Health-LM: Large Language Models for Health Prediction via Wearable Sensor Data\n"
     ]
    },
    {
     "name": "stderr",
     "output_type": "stream",
     "text": [
      "Setting `pad_token_id` to `eos_token_id`:128009 for open-end generation.\n"
     ]
    },
    {
     "name": "stdout",
     "output_type": "stream",
     "text": [
      "Dynamic Survival Analysis for Early Event Prediction\n"
     ]
    },
    {
     "name": "stderr",
     "output_type": "stream",
     "text": [
      "Setting `pad_token_id` to `eos_token_id`:128009 for open-end generation.\n"
     ]
    },
    {
     "name": "stdout",
     "output_type": "stream",
     "text": [
      "Contextual Unsupervised Deep Clustering in Digital Pathology\n"
     ]
    },
    {
     "name": "stderr",
     "output_type": "stream",
     "text": [
      "Setting `pad_token_id` to `eos_token_id`:128009 for open-end generation.\n"
     ]
    },
    {
     "name": "stdout",
     "output_type": "stream",
     "text": [
      "Dose Mate: A Real-World Evaluation of Machine Learning Classification of Pill Taking Using Wrist-Worn Motion Sensors\n"
     ]
    },
    {
     "name": "stderr",
     "output_type": "stream",
     "text": [
      "Setting `pad_token_id` to `eos_token_id`:128009 for open-end generation.\n"
     ]
    },
    {
     "name": "stdout",
     "output_type": "stream",
     "text": [
      "Systematic Evaluation of Self-Supervised Learning Approaches for Wearable-Based Fatigue Recognition\n"
     ]
    },
    {
     "name": "stderr",
     "output_type": "stream",
     "text": [
      "Setting `pad_token_id` to `eos_token_id`:128009 for open-end generation.\n"
     ]
    },
    {
     "name": "stdout",
     "output_type": "stream",
     "text": [
      "Adaptive Interventions with User-Defined Goals for Health Behavior Change\n"
     ]
    },
    {
     "name": "stderr",
     "output_type": "stream",
     "text": [
      "Setting `pad_token_id` to `eos_token_id`:128009 for open-end generation.\n"
     ]
    },
    {
     "name": "stdout",
     "output_type": "stream",
     "text": [
      "Algorithmic Changes Are Not Enough: Evaluating the Removal of Race Adjustment from the eGFR Equation\n"
     ]
    },
    {
     "name": "stderr",
     "output_type": "stream",
     "text": [
      "Setting `pad_token_id` to `eos_token_id`:128009 for open-end generation.\n"
     ]
    },
    {
     "name": "stdout",
     "output_type": "stream",
     "text": [
      "Across-Study Analysis of Wearable Datasets and the Generalizability of Acute Illness Monitoring Models\n",
      "Learning Social Fairness Preferences from Non-Expert Stakeholder Opinions in Kidney Placement\n",
      "   year                                              title  \\\n",
      "0  2020  B M M- Net: Automatic Segmentationof Edemain O...   \n",
      "1  2020  Hurtful Words: Quantifying Biasesin Clinical C...   \n",
      "2  2020  Disease State Prediction From Single- Cell Dat...   \n",
      "3  2020  Defining Admissible Rewardsfor High- Confidenc...   \n",
      "4  2020  Population-aware Hierarchical Bayesian Domain ...   \n",
      "\n",
      "                                       cleaned_title  \\\n",
      "0  BMM-Net: Automatic Segmentation of Edema in Op...   \n",
      "1  Hurtful Words: Quantifying Biases in Clinical ...   \n",
      "2  Disease State Prediction from Single-Cell Data...   \n",
      "3  Defining Admissible Rewards for High-Confidenc...   \n",
      "4  Population-Aware Hierarchical Bayesian Domain ...   \n",
      "\n",
      "                                             authors  \\\n",
      "0  Ruru Zhang, Beijing University of Posts and, T...   \n",
      "1  Haoran Zhang∗, haoran@cs.toronto.edu, Universi...   \n",
      "2  neal.ravindra@yale.eduArijitSehanobish∗2, Yale...   \n",
      "3  Niranjani Prasad, Princeton University, Prince...   \n",
      "4  Vishwali Mhasawade, vishwalim@nyu.edu, New Yor...   \n",
      "\n",
      "                                            abstract  code_count  \\\n",
      "0  Retinal effusions and cysts caused by the leak...           0   \n",
      "1  In this work, we examine the extent to which e...           1   \n",
      "2  Single-cell RNA sequencing (scRNA-seq) has rev...           1   \n",
      "3  A key impediment to reinforcement learning (RL...           0   \n",
      "4  While machine learning is rapidly being develo...           1   \n",
      "\n",
      "   gitlab_count  zenodo_count  dataset_count  mimic_count  ...  tcga_count  \\\n",
      "0             0             0              0            0  ...           0   \n",
      "1             0             0              2            1  ...           0   \n",
      "2             0             0              0            0  ...           0   \n",
      "3             0             0              1            1  ...           0   \n",
      "4             0             0              0            0  ...           0   \n",
      "\n",
      "   gdc_count  seer_count  tuh_eeg_corpus_count  tuh_abnormal_eeg_corpus_count  \\\n",
      "0          0           0                     0                              0   \n",
      "1          0           0                     0                              0   \n",
      "2          0           0                     0                              0   \n",
      "3          0           0                     0                              0   \n",
      "4          0           0                     0                              0   \n",
      "\n",
      "   tuh_eeg_artifact_corpus_count  tuh_eeg_epilepsy_corpus_count  \\\n",
      "0                              0                              0   \n",
      "1                              0                              0   \n",
      "2                              0                              0   \n",
      "3                              0                              0   \n",
      "4                              0                              0   \n",
      "\n",
      "   tuh_eeg_events_corpus_count  tuh_eeg_seizure_corpus_count  \\\n",
      "0                            0                             0   \n",
      "1                            0                             0   \n",
      "2                            0                             0   \n",
      "3                            0                             0   \n",
      "4                            0                             0   \n",
      "\n",
      "   tuh_eeg_slowing_corpus_count  \n",
      "0                             0  \n",
      "1                             0  \n",
      "2                             0  \n",
      "3                             0  \n",
      "4                             0  \n",
      "\n",
      "[5 rows x 26 columns]\n"
     ]
    }
   ],
   "source": [
    "import pandas as pd\n",
    "\n",
    "def clean_titles(pipeline, df: pd.DataFrame, prompt: str):\n",
    "    cleaned_titles = []\n",
    "    for title in df[\"title\"]:\n",
    "        formatted_prompt = prompt.format(title=title)\n",
    "        cleaned_title = generate_text_with_icl(formatted_prompt, pipeline, [{\"input\": formatted_prompt, \"output\": \"\"}], max_new_tokens=256, temperature=0.00001, top_p=0.99)\n",
    "        print(cleaned_title)\n",
    "        cleaned_titles.append(cleaned_title)\n",
    "    return cleaned_titles\n",
    "\n",
    "def process_dataframe(pipeline, df: pd.DataFrame, prompt: str):\n",
    "    # Clean the titles\n",
    "    cleaned_titles = clean_titles(pipeline, df, prompt)\n",
    "    \n",
    "    # Create a new dataframe with cleaned titles\n",
    "    new_df = df.copy()\n",
    "    new_df['cleaned_title'] = cleaned_titles\n",
    "    \n",
    "    # Reorder columns to put cleaned_title right after the original title\n",
    "    cols = list(new_df.columns)\n",
    "    title_index = cols.index('title')\n",
    "    cols.insert(title_index + 1, cols.pop(cols.index('cleaned_title')))\n",
    "    new_df = new_df[cols]\n",
    "    \n",
    "    return new_df\n",
    "cleaned_chil_info = process_dataframe(llama3, chil_info, title_cleaning_prompt)\n",
    "\n",
    "# Display the first 5 rows of the new dataframe\n",
    "print(cleaned_chil_info.head())\n",
    "# Optionally, save the new dataframe to a CSV file\n",
    "cleaned_chil_info.to_csv(\"processed_data/cleaned_chil_extracted_info.csv\", index=False)"
   ]
  },
  {
   "cell_type": "markdown",
   "metadata": {},
   "source": [
    "### get select API calls and save their queries to json somewhere."
   ]
  },
  {
   "cell_type": "code",
   "execution_count": 1,
   "metadata": {},
   "outputs": [],
   "source": [
    "import pandas as pd\n",
    "import json\n",
    "import os\n",
    "from serpapi import GoogleSearch\n",
    "from time import sleep\n",
    "\n",
    "def spaces_to_underscores(filename):\n",
    "    return filename.replace(' ', '_')\n",
    "\n",
    "def underscores_to_spaces(filename):\n",
    "    return filename.replace('_', ' ')\n",
    "\n",
    "def clean_filename(title):\n",
    "    # Remove invalid characters and limit length\n",
    "    clean = \"\".join(c for c in title if c.isalnum() or c in (' ', '-', '_')).rstrip()\n",
    "    return clean[:100]  # Limit filename length\n",
    "\n",
    "def rename_files_in_directory(directory, convert_function):\n",
    "    for filename in os.listdir(directory):\n",
    "        if filename.endswith('.json'):\n",
    "            new_filename = convert_function(filename)\n",
    "            old_path = os.path.join(directory, filename)\n",
    "            new_path = os.path.join(directory, new_filename)\n",
    "            os.rename(old_path, new_path)\n",
    "            print(f\"Renamed: {filename} -> {new_filename}\")\n",
    "\n",
    "def clean_existing_files(directory):\n",
    "    rename_files_in_directory(directory, spaces_to_underscores)\n",
    "\n",
    "def search_and_save_results(df, api_key, output_dir='serpapi'):\n",
    "    os.makedirs(output_dir, exist_ok=True)\n",
    "\n",
    "    for index, row in df.iterrows():\n",
    "        cleaned_title = row['cleaned_title']\n",
    "        filename = clean_filename(cleaned_title)\n",
    "        filename = spaces_to_underscores(filename) + '.json'\n",
    "        \n",
    "        params = {\n",
    "            \"api_key\": api_key,\n",
    "            \"engine\": \"google_scholar\",\n",
    "            \"q\": cleaned_title,\n",
    "            \"hl\": \"en\"\n",
    "        }\n",
    "        \n",
    "        try:\n",
    "            search = GoogleSearch(params)\n",
    "            results = search.get_dict()\n",
    "            \n",
    "            with open(os.path.join(output_dir, filename), 'w', encoding='utf-8') as f:\n",
    "                json.dump(results, f, ensure_ascii=False, indent=4)\n",
    "            \n",
    "            print(f\"Saved results for: {cleaned_title}\")\n",
    "            sleep(2)\n",
    "        \n",
    "        except Exception as e:\n",
    "            print(f\"Error processing {cleaned_title}: {str(e)}\")\n",
    "    \n",
    "    print(\"Finished processing all titles.\")\n",
    "\n",
    "# Usage\n",
    "api_key = \"your_api_key_here\"  # Replace with your actual API key\n",
    "cleaned_chil_info = pd.read_csv(\"processed_data/cleaned_chil_extracted_info.csv\")\n",
    "cleaned_chil_info_subset = cleaned_chil_info.head(10)\n",
    "clean_existing_files('serpapi') # save and then clean to underscores for reading\n",
    "\n",
    "# Search and save results\n",
    "# search_and_save_results(cleaned_chil_info_subset, api_key)\n",
    "# Clean up existing files\n",
    "\n",
    "\n",
    "\n",
    "# Example of converting back to spaces (if needed)\n",
    "# rename_files_in_directory('serpapi', underscores_to_spaces)"
   ]
  },
  {
   "cell_type": "markdown",
   "metadata": {},
   "source": [
    "### Scrape and record necessary data from downloaded json files"
   ]
  },
  {
   "cell_type": "code",
   "execution_count": 2,
   "metadata": {},
   "outputs": [
    {
     "name": "stdout",
     "output_type": "stream",
     "text": [
      "NLTK version: 3.8.1\n",
      "NLTK data path: ['/home/johnwu3/nltk_data', '/home/johnwu3/miniconda3/envs/LLM/nltk_data', '/home/johnwu3/miniconda3/envs/LLM/share/nltk_data', '/home/johnwu3/miniconda3/envs/LLM/lib/nltk_data', '/usr/share/nltk_data', '/usr/local/share/nltk_data', '/usr/lib/nltk_data', '/usr/local/lib/nltk_data']\n",
      "Updated dataframe head:\n",
      "   year                                              title  \\\n",
      "0  2020  Adverse drug reaction discovery from electroni...   \n",
      "1  2020  BMM-Net: automatic segmentation of edema in op...   \n",
      "2  2020  Deidentification of free-text medical records ...   \n",
      "3  2020  Defining admissible rewards for high-confidenc...   \n",
      "4  2020  Disease state prediction from single-cell data...   \n",
      "\n",
      "                                 authors  \\\n",
      "0             W Zhang, P Peissig, D Page   \n",
      "1                       HE, Z Ou, M Song   \n",
      "2  AEW Johnson, L Bulgarelli, TJ Pollard   \n",
      "3  N Prasad, B Engelhardt, F Doshi-Velez   \n",
      "4               N Ravindra, A Sehanobish   \n",
      "\n",
      "                                    processed_emails  \\\n",
      "0  zrr@bupt.edu.cn\\neuphy@bupt.edu.cn\\ncy_z_feng@...   \n",
      "1  haoran@cs.toronto.edu\\namyxlu@cs.toronto.edu\\n...   \n",
      "2  neal.ravindra@yale.edu\\narijit.sehanobish@yale...   \n",
      "3  np6@princeton.edu\\nbee@cs.princeton.edu\\nfinal...   \n",
      "4  vishwalim@nyu.edu\\nnabeel@nyu.edu\\nrumi.chunar...   \n",
      "\n",
      "                                       cleaned_title  \\\n",
      "0  BMM-Net: Automatic Segmentation of Edema in Op...   \n",
      "1  Hurtful Words: Quantifying Biases in Clinical ...   \n",
      "2  Disease State Prediction from Single-Cell Data...   \n",
      "3  Defining Admissible Rewards for High-Confidenc...   \n",
      "4  Population-Aware Hierarchical Bayesian Domain ...   \n",
      "\n",
      "                                            abstract  code_count  \\\n",
      "0  Retinal effusions and cysts caused by the leak...           0   \n",
      "1  In this work, we examine the extent to which e...           1   \n",
      "2  Single-cell RNA sequencing (scRNA-seq) has rev...           1   \n",
      "3  A key impediment to reinforcement learning (RL...           0   \n",
      "4  While machine learning is rapidly being develo...           1   \n",
      "\n",
      "   gitlab_count  zenodo_count  dataset_count  ...  \\\n",
      "0             0             0              0  ...   \n",
      "1             0             0              2  ...   \n",
      "2             0             0              0  ...   \n",
      "3             0             0              1  ...   \n",
      "4             0             0              0  ...   \n",
      "\n",
      "   tuh_eeg_epilepsy_corpus_count  tuh_eeg_events_corpus_count  \\\n",
      "0                              0                            0   \n",
      "1                              0                            0   \n",
      "2                              0                            0   \n",
      "3                              0                            0   \n",
      "4                              0                            0   \n",
      "\n",
      "   tuh_eeg_seizure_corpus_count  tuh_eeg_slowing_corpus_count  \\\n",
      "0                             0                             0   \n",
      "1                             0                             0   \n",
      "2                             0                             0   \n",
      "3                             0                             0   \n",
      "4                             0                             0   \n",
      "\n",
      "                                      original_title  \\\n",
      "0  Adverse Drug Reaction Discovery from Electroni...   \n",
      "1  BMM-Net: Automatic Segmentation of Edema in Op...   \n",
      "2  De-Identification of Free-Text Medical Records...   \n",
      "3  Defining Admissible Rewards for High-Confidenc...   \n",
      "4  Disease State Prediction from Single-Cell Data...   \n",
      "\n",
      "                                 author_ids  \\\n",
      "0  ToHDHHsAAAAJ, h9soD-oAAAAJ, IlsuQ4oAAAAJ   \n",
      "1  J4akh64AAAAJ, aYvRNFYAAAAJ, 6MRGS-4AAAAJ   \n",
      "2  66GCSz8AAAAJ, vKfiYkcAAAAJ, kd2pMFYAAAAJ   \n",
      "3  P6PMzKAAAAAJ, VEGtG7YAAAAJ, hwQtFB0AAAAJ   \n",
      "4                atVAWRMAAAAJ, MEby6-QAAAAJ   \n",
      "\n",
      "                                         publication  total_citations  \\\n",
      "0  W Zhang, Z Kuang, P Peissig, D Page - Proceedi...                8   \n",
      "1  R Zhang, J He, S Shi, HE, Z Ou, M Song - Proce...                1   \n",
      "2  AEW Johnson, L Bulgarelli, TJ Pollard - Procee...               67   \n",
      "3  N Prasad, B Engelhardt, F Doshi-Velez - Procee...                6   \n",
      "4  N Ravindra, A Sehanobish, JL Pappalardo… - Pro...               44   \n",
      "\n",
      "                                            pdf_link  citation_link  \n",
      "0  https://dl.acm.org/doi/pdf/10.1145/3368555.338...                 \n",
      "1  https://dl.acm.org/doi/pdf/10.1145/3368555.338...                 \n",
      "2  https://dl.acm.org/doi/pdf/10.1145/3368555.338...                 \n",
      "3  https://dl.acm.org/doi/pdf/10.1145/3368555.338...                 \n",
      "4  https://dl.acm.org/doi/pdf/10.1145/3368555.338...                 \n",
      "\n",
      "[5 rows x 33 columns]\n",
      "\n",
      "Updated dataframe info:\n",
      "<class 'pandas.core.frame.DataFrame'>\n",
      "RangeIndex: 10 entries, 0 to 9\n",
      "Data columns (total 33 columns):\n",
      " #   Column                         Non-Null Count  Dtype \n",
      "---  ------                         --------------  ----- \n",
      " 0   year                           10 non-null     int64 \n",
      " 1   title                          10 non-null     object\n",
      " 2   authors                        10 non-null     object\n",
      " 3   processed_emails               10 non-null     object\n",
      " 4   cleaned_title                  10 non-null     object\n",
      " 5   abstract                       10 non-null     object\n",
      " 6   code_count                     10 non-null     int64 \n",
      " 7   gitlab_count                   10 non-null     int64 \n",
      " 8   zenodo_count                   10 non-null     int64 \n",
      " 9   dataset_count                  10 non-null     int64 \n",
      " 10  mimic_count                    10 non-null     int64 \n",
      " 11  eicu_count                     10 non-null     int64 \n",
      " 12  uk_biobank_count               10 non-null     int64 \n",
      " 13  chest_x-ray14_count            10 non-null     int64 \n",
      " 14  adni_count                     10 non-null     int64 \n",
      " 15  physionet_count                10 non-null     int64 \n",
      " 16  oasis_count                    10 non-null     int64 \n",
      " 17  tcga_count                     10 non-null     int64 \n",
      " 18  gdc_count                      10 non-null     int64 \n",
      " 19  seer_count                     10 non-null     int64 \n",
      " 20  tuh_eeg_corpus_count           10 non-null     int64 \n",
      " 21  tuh_abnormal_eeg_corpus_count  10 non-null     int64 \n",
      " 22  tuh_eeg_artifact_corpus_count  10 non-null     int64 \n",
      " 23  tuh_eeg_epilepsy_corpus_count  10 non-null     int64 \n",
      " 24  tuh_eeg_events_corpus_count    10 non-null     int64 \n",
      " 25  tuh_eeg_seizure_corpus_count   10 non-null     int64 \n",
      " 26  tuh_eeg_slowing_corpus_count   10 non-null     int64 \n",
      " 27  original_title                 10 non-null     object\n",
      " 28  author_ids                     10 non-null     object\n",
      " 29  publication                    10 non-null     object\n",
      " 30  total_citations                10 non-null     int64 \n",
      " 31  pdf_link                       10 non-null     object\n",
      " 32  citation_link                  10 non-null     object\n",
      "dtypes: int64(23), object(10)\n",
      "memory usage: 2.7+ KB\n",
      "None\n"
     ]
    }
   ],
   "source": [
    "import json\n",
    "import nltk\n",
    "from nltk.corpus import stopwords\n",
    "from nltk.tokenize import word_tokenize\n",
    "from collections import Counter\n",
    "import pandas as pd\n",
    "import os\n",
    "\n",
    "# Download necessary NLTK data\n",
    "nltk.download('punkt', quiet=True)\n",
    "nltk.download('stopwords', quiet=True)\n",
    "\n",
    "print(\"NLTK version:\", nltk.__version__)\n",
    "print(\"NLTK data path:\", nltk.data.path)\n",
    "\n",
    "def load_json_data(file_path):\n",
    "    with open(file_path, 'r', encoding='utf-8') as file:\n",
    "        return json.load(file)\n",
    "\n",
    "def extract_original_title(data):\n",
    "    return data['search_parameters']['q']\n",
    "\n",
    "def compare_titles(original_title, result_title):\n",
    "    original_tokens = word_tokenize(original_title.lower())\n",
    "    result_tokens = word_tokenize(result_title.lower())\n",
    "    \n",
    "    stop_words = set(stopwords.words('english'))\n",
    "    original_tokens = [token for token in original_tokens if token.isalpha() and token not in stop_words]\n",
    "    result_tokens = [token for token in result_tokens if token.isalpha() and token not in stop_words]\n",
    "    overlapping_words = set(original_tokens) & set(result_tokens)\n",
    "    return len(overlapping_words) >= 2\n",
    "\n",
    "def extract_citations_from_file(file_path):\n",
    "    data = load_json_data(file_path)\n",
    "    original_title = extract_original_title(data)\n",
    "    \n",
    "    if 'organic_results' in data and len(data['organic_results']) > 0:\n",
    "        result = data['organic_results'][0]\n",
    "        \n",
    "        # Compare titles before extracting information\n",
    "        if compare_titles(original_title, result['title']):\n",
    "            publication_info = result.get('publication_info', {})\n",
    "            \n",
    "            authors = publication_info.get('authors', [])\n",
    "            author_names = [author.get('name', '') for author in authors]\n",
    "            author_ids = [author.get('author_id', '') for author in authors]\n",
    "            \n",
    "            citation_info = {\n",
    "                'original_title': original_title,\n",
    "                'title': result.get('title', ''),\n",
    "                'authors': ', '.join(author_names),\n",
    "                'author_ids': ', '.join(author_ids),\n",
    "                'publication': publication_info.get('summary', ''),\n",
    "                'total_citations': result.get('inline_links', {}).get('cited_by', {}).get('total', 0),\n",
    "                'pdf_link': next((r['link'] for r in result.get('resources', []) if r.get('file_format') == 'PDF'), None),\n",
    "                'citation_link': result.get('inl ine_links', {}).get('cited_by', {}).get('link', '')\n",
    "            }\n",
    "            return citation_info\n",
    "    return None\n",
    "\n",
    "def process_directory_and_update_dataframe(directory_path, df):\n",
    "    new_data = []\n",
    "    for filename in os.listdir(directory_path):\n",
    "        if filename.endswith('.json'):\n",
    "            file_path = os.path.join(directory_path, filename)\n",
    "            citation_info = extract_citations_from_file(file_path)\n",
    "            if citation_info:\n",
    "                new_data.append(citation_info)\n",
    "    \n",
    "    new_df = pd.DataFrame(new_data)\n",
    "    \n",
    "    # Merge the new dataframe with the original one\n",
    "    merged_df = df.copy()\n",
    "    for col in new_df.columns:\n",
    "        if col in merged_df.columns:\n",
    "            merged_df[col] = new_df[col].combine_first(merged_df[col])\n",
    "        else:\n",
    "            merged_df[col] = new_df[col]\n",
    "    \n",
    "    return merged_df\n",
    "\n",
    "# Usage\n",
    "directory_path = \"serpapi/chil\"  # Replace with your actual directory path\n",
    "cleaned_chil_info = pd.read_csv(\"processed_data/cleaned_chil_extracted_info.csv\")\n",
    "cleaned_chil_info_subset = cleaned_chil_info.head(10)\n",
    "\n",
    "updated_df = process_directory_and_update_dataframe(directory_path, cleaned_chil_info_subset)\n",
    "\n",
    "# Save the updated dataframe\n",
    "updated_df.to_csv(\"processed_data/updated_chil_extracted_info_subset_with_comparison.csv\", index=False)\n",
    "\n",
    "print(\"Updated dataframe head:\")\n",
    "print(updated_df.head())\n",
    "print(\"\\nUpdated dataframe info:\")\n",
    "print(updated_df.info())"
   ]
  },
  {
   "cell_type": "code",
   "execution_count": 22,
   "metadata": {},
   "outputs": [
    {
     "data": {
      "text/html": [
       "<div>\n",
       "<style scoped>\n",
       "    .dataframe tbody tr th:only-of-type {\n",
       "        vertical-align: middle;\n",
       "    }\n",
       "\n",
       "    .dataframe tbody tr th {\n",
       "        vertical-align: top;\n",
       "    }\n",
       "\n",
       "    .dataframe thead th {\n",
       "        text-align: right;\n",
       "    }\n",
       "</style>\n",
       "<table border=\"1\" class=\"dataframe\">\n",
       "  <thead>\n",
       "    <tr style=\"text-align: right;\">\n",
       "      <th></th>\n",
       "      <th>year</th>\n",
       "      <th>title</th>\n",
       "      <th>authors</th>\n",
       "      <th>processed_emails</th>\n",
       "      <th>cleaned_title</th>\n",
       "      <th>abstract</th>\n",
       "      <th>code_count</th>\n",
       "      <th>gitlab_count</th>\n",
       "      <th>zenodo_count</th>\n",
       "      <th>dataset_count</th>\n",
       "      <th>...</th>\n",
       "      <th>tuh_eeg_epilepsy_corpus_count</th>\n",
       "      <th>tuh_eeg_events_corpus_count</th>\n",
       "      <th>tuh_eeg_seizure_corpus_count</th>\n",
       "      <th>tuh_eeg_slowing_corpus_count</th>\n",
       "      <th>original_title</th>\n",
       "      <th>author_ids</th>\n",
       "      <th>publication</th>\n",
       "      <th>total_citations</th>\n",
       "      <th>pdf_link</th>\n",
       "      <th>citation_link</th>\n",
       "    </tr>\n",
       "  </thead>\n",
       "  <tbody>\n",
       "    <tr>\n",
       "      <th>0</th>\n",
       "      <td>2020</td>\n",
       "      <td>Adverse drug reaction discovery from electroni...</td>\n",
       "      <td>W Zhang, P Peissig, D Page</td>\n",
       "      <td>zrr@bupt.edu.cn\\neuphy@bupt.edu.cn\\ncy_z_feng@...</td>\n",
       "      <td>BMM-Net: Automatic Segmentation of Edema in Op...</td>\n",
       "      <td>Retinal effusions and cysts caused by the leak...</td>\n",
       "      <td>0</td>\n",
       "      <td>0</td>\n",
       "      <td>0</td>\n",
       "      <td>0</td>\n",
       "      <td>...</td>\n",
       "      <td>0</td>\n",
       "      <td>0</td>\n",
       "      <td>0</td>\n",
       "      <td>0</td>\n",
       "      <td>Adverse Drug Reaction Discovery from Electroni...</td>\n",
       "      <td>ToHDHHsAAAAJ, h9soD-oAAAAJ, IlsuQ4oAAAAJ</td>\n",
       "      <td>W Zhang, Z Kuang, P Peissig, D Page - Proceedi...</td>\n",
       "      <td>8</td>\n",
       "      <td>https://dl.acm.org/doi/pdf/10.1145/3368555.338...</td>\n",
       "      <td>https://scholar.google.com/scholar?cites=10979...</td>\n",
       "    </tr>\n",
       "    <tr>\n",
       "      <th>1</th>\n",
       "      <td>2020</td>\n",
       "      <td>BMM-Net: automatic segmentation of edema in op...</td>\n",
       "      <td>HE, Z Ou, M Song</td>\n",
       "      <td>haoran@cs.toronto.edu\\namyxlu@cs.toronto.edu\\n...</td>\n",
       "      <td>Hurtful Words: Quantifying Biases in Clinical ...</td>\n",
       "      <td>In this work, we examine the extent to which e...</td>\n",
       "      <td>1</td>\n",
       "      <td>0</td>\n",
       "      <td>0</td>\n",
       "      <td>2</td>\n",
       "      <td>...</td>\n",
       "      <td>0</td>\n",
       "      <td>0</td>\n",
       "      <td>0</td>\n",
       "      <td>0</td>\n",
       "      <td>BMM-Net: Automatic Segmentation of Edema in Op...</td>\n",
       "      <td>J4akh64AAAAJ, aYvRNFYAAAAJ, 6MRGS-4AAAAJ</td>\n",
       "      <td>R Zhang, J He, S Shi, HE, Z Ou, M Song - Proce...</td>\n",
       "      <td>1</td>\n",
       "      <td>https://dl.acm.org/doi/pdf/10.1145/3368555.338...</td>\n",
       "      <td>https://scholar.google.com/scholar?cites=54690...</td>\n",
       "    </tr>\n",
       "    <tr>\n",
       "      <th>2</th>\n",
       "      <td>2020</td>\n",
       "      <td>Deidentification of free-text medical records ...</td>\n",
       "      <td>AEW Johnson, L Bulgarelli, TJ Pollard</td>\n",
       "      <td>neal.ravindra@yale.edu\\narijit.sehanobish@yale...</td>\n",
       "      <td>Disease State Prediction from Single-Cell Data...</td>\n",
       "      <td>Single-cell RNA sequencing (scRNA-seq) has rev...</td>\n",
       "      <td>1</td>\n",
       "      <td>0</td>\n",
       "      <td>0</td>\n",
       "      <td>0</td>\n",
       "      <td>...</td>\n",
       "      <td>0</td>\n",
       "      <td>0</td>\n",
       "      <td>0</td>\n",
       "      <td>0</td>\n",
       "      <td>De-Identification of Free-Text Medical Records...</td>\n",
       "      <td>66GCSz8AAAAJ, vKfiYkcAAAAJ, kd2pMFYAAAAJ</td>\n",
       "      <td>AEW Johnson, L Bulgarelli, TJ Pollard - Procee...</td>\n",
       "      <td>67</td>\n",
       "      <td>https://dl.acm.org/doi/pdf/10.1145/3368555.338...</td>\n",
       "      <td>https://scholar.google.com/scholar?cites=70993...</td>\n",
       "    </tr>\n",
       "    <tr>\n",
       "      <th>3</th>\n",
       "      <td>2020</td>\n",
       "      <td>Defining admissible rewards for high-confidenc...</td>\n",
       "      <td>N Prasad, B Engelhardt, F Doshi-Velez</td>\n",
       "      <td>np6@princeton.edu\\nbee@cs.princeton.edu\\nfinal...</td>\n",
       "      <td>Defining Admissible Rewards for High-Confidenc...</td>\n",
       "      <td>A key impediment to reinforcement learning (RL...</td>\n",
       "      <td>0</td>\n",
       "      <td>0</td>\n",
       "      <td>0</td>\n",
       "      <td>1</td>\n",
       "      <td>...</td>\n",
       "      <td>0</td>\n",
       "      <td>0</td>\n",
       "      <td>0</td>\n",
       "      <td>0</td>\n",
       "      <td>Defining Admissible Rewards for High-Confidenc...</td>\n",
       "      <td>P6PMzKAAAAAJ, VEGtG7YAAAAJ, hwQtFB0AAAAJ</td>\n",
       "      <td>N Prasad, B Engelhardt, F Doshi-Velez - Procee...</td>\n",
       "      <td>6</td>\n",
       "      <td>https://dl.acm.org/doi/pdf/10.1145/3368555.338...</td>\n",
       "      <td>https://scholar.google.com/scholar?cites=18316...</td>\n",
       "    </tr>\n",
       "    <tr>\n",
       "      <th>4</th>\n",
       "      <td>2020</td>\n",
       "      <td>Disease state prediction from single-cell data...</td>\n",
       "      <td>N Ravindra, A Sehanobish</td>\n",
       "      <td>vishwalim@nyu.edu\\nnabeel@nyu.edu\\nrumi.chunar...</td>\n",
       "      <td>Population-Aware Hierarchical Bayesian Domain ...</td>\n",
       "      <td>While machine learning is rapidly being develo...</td>\n",
       "      <td>1</td>\n",
       "      <td>0</td>\n",
       "      <td>0</td>\n",
       "      <td>0</td>\n",
       "      <td>...</td>\n",
       "      <td>0</td>\n",
       "      <td>0</td>\n",
       "      <td>0</td>\n",
       "      <td>0</td>\n",
       "      <td>Disease State Prediction from Single-Cell Data...</td>\n",
       "      <td>atVAWRMAAAAJ, MEby6-QAAAAJ</td>\n",
       "      <td>N Ravindra, A Sehanobish, JL Pappalardo… - Pro...</td>\n",
       "      <td>44</td>\n",
       "      <td>https://dl.acm.org/doi/pdf/10.1145/3368555.338...</td>\n",
       "      <td>https://scholar.google.com/scholar?cites=87006...</td>\n",
       "    </tr>\n",
       "  </tbody>\n",
       "</table>\n",
       "<p>5 rows × 33 columns</p>\n",
       "</div>"
      ],
      "text/plain": [
       "   year                                              title  \\\n",
       "0  2020  Adverse drug reaction discovery from electroni...   \n",
       "1  2020  BMM-Net: automatic segmentation of edema in op...   \n",
       "2  2020  Deidentification of free-text medical records ...   \n",
       "3  2020  Defining admissible rewards for high-confidenc...   \n",
       "4  2020  Disease state prediction from single-cell data...   \n",
       "\n",
       "                                 authors  \\\n",
       "0             W Zhang, P Peissig, D Page   \n",
       "1                       HE, Z Ou, M Song   \n",
       "2  AEW Johnson, L Bulgarelli, TJ Pollard   \n",
       "3  N Prasad, B Engelhardt, F Doshi-Velez   \n",
       "4               N Ravindra, A Sehanobish   \n",
       "\n",
       "                                    processed_emails  \\\n",
       "0  zrr@bupt.edu.cn\\neuphy@bupt.edu.cn\\ncy_z_feng@...   \n",
       "1  haoran@cs.toronto.edu\\namyxlu@cs.toronto.edu\\n...   \n",
       "2  neal.ravindra@yale.edu\\narijit.sehanobish@yale...   \n",
       "3  np6@princeton.edu\\nbee@cs.princeton.edu\\nfinal...   \n",
       "4  vishwalim@nyu.edu\\nnabeel@nyu.edu\\nrumi.chunar...   \n",
       "\n",
       "                                       cleaned_title  \\\n",
       "0  BMM-Net: Automatic Segmentation of Edema in Op...   \n",
       "1  Hurtful Words: Quantifying Biases in Clinical ...   \n",
       "2  Disease State Prediction from Single-Cell Data...   \n",
       "3  Defining Admissible Rewards for High-Confidenc...   \n",
       "4  Population-Aware Hierarchical Bayesian Domain ...   \n",
       "\n",
       "                                            abstract  code_count  \\\n",
       "0  Retinal effusions and cysts caused by the leak...           0   \n",
       "1  In this work, we examine the extent to which e...           1   \n",
       "2  Single-cell RNA sequencing (scRNA-seq) has rev...           1   \n",
       "3  A key impediment to reinforcement learning (RL...           0   \n",
       "4  While machine learning is rapidly being develo...           1   \n",
       "\n",
       "   gitlab_count  zenodo_count  dataset_count  ...  \\\n",
       "0             0             0              0  ...   \n",
       "1             0             0              2  ...   \n",
       "2             0             0              0  ...   \n",
       "3             0             0              1  ...   \n",
       "4             0             0              0  ...   \n",
       "\n",
       "   tuh_eeg_epilepsy_corpus_count  tuh_eeg_events_corpus_count  \\\n",
       "0                              0                            0   \n",
       "1                              0                            0   \n",
       "2                              0                            0   \n",
       "3                              0                            0   \n",
       "4                              0                            0   \n",
       "\n",
       "   tuh_eeg_seizure_corpus_count  tuh_eeg_slowing_corpus_count  \\\n",
       "0                             0                             0   \n",
       "1                             0                             0   \n",
       "2                             0                             0   \n",
       "3                             0                             0   \n",
       "4                             0                             0   \n",
       "\n",
       "                                      original_title  \\\n",
       "0  Adverse Drug Reaction Discovery from Electroni...   \n",
       "1  BMM-Net: Automatic Segmentation of Edema in Op...   \n",
       "2  De-Identification of Free-Text Medical Records...   \n",
       "3  Defining Admissible Rewards for High-Confidenc...   \n",
       "4  Disease State Prediction from Single-Cell Data...   \n",
       "\n",
       "                                 author_ids  \\\n",
       "0  ToHDHHsAAAAJ, h9soD-oAAAAJ, IlsuQ4oAAAAJ   \n",
       "1  J4akh64AAAAJ, aYvRNFYAAAAJ, 6MRGS-4AAAAJ   \n",
       "2  66GCSz8AAAAJ, vKfiYkcAAAAJ, kd2pMFYAAAAJ   \n",
       "3  P6PMzKAAAAAJ, VEGtG7YAAAAJ, hwQtFB0AAAAJ   \n",
       "4                atVAWRMAAAAJ, MEby6-QAAAAJ   \n",
       "\n",
       "                                         publication  total_citations  \\\n",
       "0  W Zhang, Z Kuang, P Peissig, D Page - Proceedi...                8   \n",
       "1  R Zhang, J He, S Shi, HE, Z Ou, M Song - Proce...                1   \n",
       "2  AEW Johnson, L Bulgarelli, TJ Pollard - Procee...               67   \n",
       "3  N Prasad, B Engelhardt, F Doshi-Velez - Procee...                6   \n",
       "4  N Ravindra, A Sehanobish, JL Pappalardo… - Pro...               44   \n",
       "\n",
       "                                            pdf_link  \\\n",
       "0  https://dl.acm.org/doi/pdf/10.1145/3368555.338...   \n",
       "1  https://dl.acm.org/doi/pdf/10.1145/3368555.338...   \n",
       "2  https://dl.acm.org/doi/pdf/10.1145/3368555.338...   \n",
       "3  https://dl.acm.org/doi/pdf/10.1145/3368555.338...   \n",
       "4  https://dl.acm.org/doi/pdf/10.1145/3368555.338...   \n",
       "\n",
       "                                       citation_link  \n",
       "0  https://scholar.google.com/scholar?cites=10979...  \n",
       "1  https://scholar.google.com/scholar?cites=54690...  \n",
       "2  https://scholar.google.com/scholar?cites=70993...  \n",
       "3  https://scholar.google.com/scholar?cites=18316...  \n",
       "4  https://scholar.google.com/scholar?cites=87006...  \n",
       "\n",
       "[5 rows x 33 columns]"
      ]
     },
     "execution_count": 22,
     "metadata": {},
     "output_type": "execute_result"
    }
   ],
   "source": [
    "updated_df.head(5)"
   ]
  },
  {
   "cell_type": "code",
   "execution_count": 9,
   "metadata": {},
   "outputs": [
    {
     "data": {
      "text/plain": [
       "str"
      ]
     },
     "execution_count": 9,
     "metadata": {},
     "output_type": "execute_result"
    }
   ],
   "source": [
    "type(updated_df[\"author_ids\"][0])"
   ]
  },
  {
   "cell_type": "code",
   "execution_count": 12,
   "metadata": {},
   "outputs": [
    {
     "data": {
      "text/html": [
       "<div>\n",
       "<style scoped>\n",
       "    .dataframe tbody tr th:only-of-type {\n",
       "        vertical-align: middle;\n",
       "    }\n",
       "\n",
       "    .dataframe tbody tr th {\n",
       "        vertical-align: top;\n",
       "    }\n",
       "\n",
       "    .dataframe thead th {\n",
       "        text-align: right;\n",
       "    }\n",
       "</style>\n",
       "<table border=\"1\" class=\"dataframe\">\n",
       "  <thead>\n",
       "    <tr style=\"text-align: right;\">\n",
       "      <th></th>\n",
       "      <th>year</th>\n",
       "      <th>title</th>\n",
       "      <th>cleaned_title</th>\n",
       "      <th>authors</th>\n",
       "      <th>abstract</th>\n",
       "      <th>code_count</th>\n",
       "      <th>gitlab_count</th>\n",
       "      <th>zenodo_count</th>\n",
       "      <th>dataset_count</th>\n",
       "      <th>mimic_count</th>\n",
       "      <th>...</th>\n",
       "      <th>tuh_eeg_epilepsy_corpus_count</th>\n",
       "      <th>tuh_eeg_events_corpus_count</th>\n",
       "      <th>tuh_eeg_seizure_corpus_count</th>\n",
       "      <th>tuh_eeg_slowing_corpus_count</th>\n",
       "      <th>original_title</th>\n",
       "      <th>author_ids</th>\n",
       "      <th>publication</th>\n",
       "      <th>total_citations</th>\n",
       "      <th>pdf_link</th>\n",
       "      <th>citation_link</th>\n",
       "    </tr>\n",
       "  </thead>\n",
       "  <tbody>\n",
       "    <tr>\n",
       "      <th>0</th>\n",
       "      <td>2020</td>\n",
       "      <td>Adverse drug reaction discovery from electroni...</td>\n",
       "      <td>BMM-Net: Automatic Segmentation of Edema in Op...</td>\n",
       "      <td>W Zhang, P Peissig, D Page</td>\n",
       "      <td>Retinal effusions and cysts caused by the leak...</td>\n",
       "      <td>0</td>\n",
       "      <td>0</td>\n",
       "      <td>0</td>\n",
       "      <td>0</td>\n",
       "      <td>0</td>\n",
       "      <td>...</td>\n",
       "      <td>0</td>\n",
       "      <td>0</td>\n",
       "      <td>0</td>\n",
       "      <td>0</td>\n",
       "      <td>Adverse Drug Reaction Discovery from Electroni...</td>\n",
       "      <td>ToHDHHsAAAAJ, h9soD-oAAAAJ, IlsuQ4oAAAAJ</td>\n",
       "      <td>W Zhang, Z Kuang, P Peissig, D Page - Proceedi...</td>\n",
       "      <td>8</td>\n",
       "      <td>https://dl.acm.org/doi/pdf/10.1145/3368555.338...</td>\n",
       "      <td>https://scholar.google.com/scholar?cites=10979...</td>\n",
       "    </tr>\n",
       "    <tr>\n",
       "      <th>1</th>\n",
       "      <td>2020</td>\n",
       "      <td>BMM-Net: automatic segmentation of edema in op...</td>\n",
       "      <td>Hurtful Words: Quantifying Biases in Clinical ...</td>\n",
       "      <td>HE, Z Ou, M Song</td>\n",
       "      <td>In this work, we examine the extent to which e...</td>\n",
       "      <td>1</td>\n",
       "      <td>0</td>\n",
       "      <td>0</td>\n",
       "      <td>2</td>\n",
       "      <td>1</td>\n",
       "      <td>...</td>\n",
       "      <td>0</td>\n",
       "      <td>0</td>\n",
       "      <td>0</td>\n",
       "      <td>0</td>\n",
       "      <td>BMM-Net: Automatic Segmentation of Edema in Op...</td>\n",
       "      <td>J4akh64AAAAJ, aYvRNFYAAAAJ, 6MRGS-4AAAAJ</td>\n",
       "      <td>R Zhang, J He, S Shi, HE, Z Ou, M Song - Proce...</td>\n",
       "      <td>1</td>\n",
       "      <td>https://dl.acm.org/doi/pdf/10.1145/3368555.338...</td>\n",
       "      <td>https://scholar.google.com/scholar?cites=54690...</td>\n",
       "    </tr>\n",
       "    <tr>\n",
       "      <th>2</th>\n",
       "      <td>2020</td>\n",
       "      <td>Deidentification of free-text medical records ...</td>\n",
       "      <td>Disease State Prediction from Single-Cell Data...</td>\n",
       "      <td>AEW Johnson, L Bulgarelli, TJ Pollard</td>\n",
       "      <td>Single-cell RNA sequencing (scRNA-seq) has rev...</td>\n",
       "      <td>1</td>\n",
       "      <td>0</td>\n",
       "      <td>0</td>\n",
       "      <td>0</td>\n",
       "      <td>0</td>\n",
       "      <td>...</td>\n",
       "      <td>0</td>\n",
       "      <td>0</td>\n",
       "      <td>0</td>\n",
       "      <td>0</td>\n",
       "      <td>De-Identification of Free-Text Medical Records...</td>\n",
       "      <td>66GCSz8AAAAJ, vKfiYkcAAAAJ, kd2pMFYAAAAJ</td>\n",
       "      <td>AEW Johnson, L Bulgarelli, TJ Pollard - Procee...</td>\n",
       "      <td>67</td>\n",
       "      <td>https://dl.acm.org/doi/pdf/10.1145/3368555.338...</td>\n",
       "      <td>https://scholar.google.com/scholar?cites=70993...</td>\n",
       "    </tr>\n",
       "    <tr>\n",
       "      <th>3</th>\n",
       "      <td>2020</td>\n",
       "      <td>Defining admissible rewards for high-confidenc...</td>\n",
       "      <td>Defining Admissible Rewards for High-Confidenc...</td>\n",
       "      <td>N Prasad, B Engelhardt, F Doshi-Velez</td>\n",
       "      <td>A key impediment to reinforcement learning (RL...</td>\n",
       "      <td>0</td>\n",
       "      <td>0</td>\n",
       "      <td>0</td>\n",
       "      <td>1</td>\n",
       "      <td>1</td>\n",
       "      <td>...</td>\n",
       "      <td>0</td>\n",
       "      <td>0</td>\n",
       "      <td>0</td>\n",
       "      <td>0</td>\n",
       "      <td>Defining Admissible Rewards for High-Confidenc...</td>\n",
       "      <td>P6PMzKAAAAAJ, VEGtG7YAAAAJ, hwQtFB0AAAAJ</td>\n",
       "      <td>N Prasad, B Engelhardt, F Doshi-Velez - Procee...</td>\n",
       "      <td>6</td>\n",
       "      <td>https://dl.acm.org/doi/pdf/10.1145/3368555.338...</td>\n",
       "      <td>https://scholar.google.com/scholar?cites=18316...</td>\n",
       "    </tr>\n",
       "    <tr>\n",
       "      <th>4</th>\n",
       "      <td>2020</td>\n",
       "      <td>Disease state prediction from single-cell data...</td>\n",
       "      <td>Population-Aware Hierarchical Bayesian Domain ...</td>\n",
       "      <td>N Ravindra, A Sehanobish</td>\n",
       "      <td>While machine learning is rapidly being develo...</td>\n",
       "      <td>1</td>\n",
       "      <td>0</td>\n",
       "      <td>0</td>\n",
       "      <td>0</td>\n",
       "      <td>0</td>\n",
       "      <td>...</td>\n",
       "      <td>0</td>\n",
       "      <td>0</td>\n",
       "      <td>0</td>\n",
       "      <td>0</td>\n",
       "      <td>Disease State Prediction from Single-Cell Data...</td>\n",
       "      <td>atVAWRMAAAAJ, MEby6-QAAAAJ</td>\n",
       "      <td>N Ravindra, A Sehanobish, JL Pappalardo… - Pro...</td>\n",
       "      <td>44</td>\n",
       "      <td>https://dl.acm.org/doi/pdf/10.1145/3368555.338...</td>\n",
       "      <td>https://scholar.google.com/scholar?cites=87006...</td>\n",
       "    </tr>\n",
       "    <tr>\n",
       "      <th>5</th>\n",
       "      <td>2020</td>\n",
       "      <td>Hurtful words: quantifying biases in clinical ...</td>\n",
       "      <td>Interactive Hybrid Approach to Combine Machine...</td>\n",
       "      <td>H Zhang, AX Lu, M Abdalla, M McDermott</td>\n",
       "      <td>Automated assessment of rehabilitation exercis...</td>\n",
       "      <td>0</td>\n",
       "      <td>0</td>\n",
       "      <td>0</td>\n",
       "      <td>0</td>\n",
       "      <td>0</td>\n",
       "      <td>...</td>\n",
       "      <td>0</td>\n",
       "      <td>0</td>\n",
       "      <td>0</td>\n",
       "      <td>0</td>\n",
       "      <td>Hurtful Words: Quantifying Biases in Clinical ...</td>\n",
       "      <td>6aWRAPkAAAAJ, gQpYbRsAAAAJ, U8D2dlMAAAAJ, _V96...</td>\n",
       "      <td>H Zhang, AX Lu, M Abdalla, M McDermott… - proc...</td>\n",
       "      <td>176</td>\n",
       "      <td>https://dl.acm.org/doi/pdf/10.1145/3368555.338...</td>\n",
       "      <td>https://scholar.google.com/scholar?cites=15347...</td>\n",
       "    </tr>\n",
       "    <tr>\n",
       "      <th>6</th>\n",
       "      <td>2020</td>\n",
       "      <td>Interactive hybrid approach to combine machine...</td>\n",
       "      <td>Using SNOMED to Automate Clinical Concept Mapping</td>\n",
       "      <td>MH Lee, DP Siewiorek, A Smailagic</td>\n",
       "      <td>The International Classification of Disease (I...</td>\n",
       "      <td>0</td>\n",
       "      <td>0</td>\n",
       "      <td>0</td>\n",
       "      <td>0</td>\n",
       "      <td>0</td>\n",
       "      <td>...</td>\n",
       "      <td>0</td>\n",
       "      <td>0</td>\n",
       "      <td>0</td>\n",
       "      <td>0</td>\n",
       "      <td>Interactive Hybrid Approach to Combine Machine...</td>\n",
       "      <td>quDiEBkAAAAJ, B13SvmAAAAAJ, qMCGI94AAAAJ</td>\n",
       "      <td>MH Lee, DP Siewiorek, A Smailagic… - Proceedin...</td>\n",
       "      <td>35</td>\n",
       "      <td>https://dl.acm.org/doi/pdf/10.1145/3368555.338...</td>\n",
       "      <td>https://scholar.google.com/scholar?cites=10230...</td>\n",
       "    </tr>\n",
       "    <tr>\n",
       "      <th>7</th>\n",
       "      <td>2020</td>\n",
       "      <td>Population-aware hierarchical bayesian domain ...</td>\n",
       "      <td>Variational Learning of Individual Survival Di...</td>\n",
       "      <td>V Mhasawade, NA Rehman, R Chunara</td>\n",
       "      <td>The abundance of modern health data provides m...</td>\n",
       "      <td>1</td>\n",
       "      <td>0</td>\n",
       "      <td>0</td>\n",
       "      <td>1</td>\n",
       "      <td>0</td>\n",
       "      <td>...</td>\n",
       "      <td>0</td>\n",
       "      <td>0</td>\n",
       "      <td>0</td>\n",
       "      <td>0</td>\n",
       "      <td>Population-Aware Hierarchical Bayesian Domain ...</td>\n",
       "      <td>S64xxT0AAAAJ, Hrl6vaoAAAAJ, 7NhhkR8AAAAJ</td>\n",
       "      <td>V Mhasawade, NA Rehman, R Chunara - Proceeding...</td>\n",
       "      <td>10</td>\n",
       "      <td>https://dl.acm.org/doi/pdf/10.1145/3368555.338...</td>\n",
       "      <td>https://scholar.google.com/scholar?cites=20628...</td>\n",
       "    </tr>\n",
       "    <tr>\n",
       "      <th>8</th>\n",
       "      <td>2020</td>\n",
       "      <td>Variational learning of individual survival di...</td>\n",
       "      <td>De-Identification of Free-Text Medical Records...</td>\n",
       "      <td>Z Xiu, C Tao, R Henao</td>\n",
       "      <td>The ability of caregivers and investigators to...</td>\n",
       "      <td>1</td>\n",
       "      <td>0</td>\n",
       "      <td>0</td>\n",
       "      <td>2</td>\n",
       "      <td>1</td>\n",
       "      <td>...</td>\n",
       "      <td>0</td>\n",
       "      <td>0</td>\n",
       "      <td>0</td>\n",
       "      <td>0</td>\n",
       "      <td>Variational Learning of Individual Survival Di...</td>\n",
       "      <td>rDrIfkoAAAAJ, qyzhQgIAAAAJ, p_mm4-YAAAAJ</td>\n",
       "      <td>Z Xiu, C Tao, R Henao - Proceedings of the ACM...</td>\n",
       "      <td>19</td>\n",
       "      <td>https://dl.acm.org/doi/pdf/10.1145/3368555.338...</td>\n",
       "      <td>https://scholar.google.com/scholar?cites=30233...</td>\n",
       "    </tr>\n",
       "    <tr>\n",
       "      <th>9</th>\n",
       "      <td>2020</td>\n",
       "      <td>Using SNOMED to automate clinical concept mapping</td>\n",
       "      <td>Adverse Drug Reaction Discovery from Electroni...</td>\n",
       "      <td>P Long, O Doyle</td>\n",
       "      <td>Adverse drug reactions (ADRs) are detrimental ...</td>\n",
       "      <td>0</td>\n",
       "      <td>0</td>\n",
       "      <td>0</td>\n",
       "      <td>0</td>\n",
       "      <td>0</td>\n",
       "      <td>...</td>\n",
       "      <td>0</td>\n",
       "      <td>0</td>\n",
       "      <td>0</td>\n",
       "      <td>0</td>\n",
       "      <td>Using SNOMED to Automate Clinical Concept Mapping</td>\n",
       "      <td>Xg4y16YAAAAJ, hAD669MAAAAJ</td>\n",
       "      <td>S Gupta, F Dieleman, P Long, O Doyle… - Procee...</td>\n",
       "      <td>1</td>\n",
       "      <td>https://dl.acm.org/doi/pdf/10.1145/3368555.338...</td>\n",
       "      <td>https://scholar.google.com/scholar?cites=81364...</td>\n",
       "    </tr>\n",
       "  </tbody>\n",
       "</table>\n",
       "<p>10 rows × 32 columns</p>\n",
       "</div>"
      ],
      "text/plain": [
       "   year                                              title  \\\n",
       "0  2020  Adverse drug reaction discovery from electroni...   \n",
       "1  2020  BMM-Net: automatic segmentation of edema in op...   \n",
       "2  2020  Deidentification of free-text medical records ...   \n",
       "3  2020  Defining admissible rewards for high-confidenc...   \n",
       "4  2020  Disease state prediction from single-cell data...   \n",
       "5  2020  Hurtful words: quantifying biases in clinical ...   \n",
       "6  2020  Interactive hybrid approach to combine machine...   \n",
       "7  2020  Population-aware hierarchical bayesian domain ...   \n",
       "8  2020  Variational learning of individual survival di...   \n",
       "9  2020  Using SNOMED to automate clinical concept mapping   \n",
       "\n",
       "                                       cleaned_title  \\\n",
       "0  BMM-Net: Automatic Segmentation of Edema in Op...   \n",
       "1  Hurtful Words: Quantifying Biases in Clinical ...   \n",
       "2  Disease State Prediction from Single-Cell Data...   \n",
       "3  Defining Admissible Rewards for High-Confidenc...   \n",
       "4  Population-Aware Hierarchical Bayesian Domain ...   \n",
       "5  Interactive Hybrid Approach to Combine Machine...   \n",
       "6  Using SNOMED to Automate Clinical Concept Mapping   \n",
       "7  Variational Learning of Individual Survival Di...   \n",
       "8  De-Identification of Free-Text Medical Records...   \n",
       "9  Adverse Drug Reaction Discovery from Electroni...   \n",
       "\n",
       "                                  authors  \\\n",
       "0              W Zhang, P Peissig, D Page   \n",
       "1                        HE, Z Ou, M Song   \n",
       "2   AEW Johnson, L Bulgarelli, TJ Pollard   \n",
       "3   N Prasad, B Engelhardt, F Doshi-Velez   \n",
       "4                N Ravindra, A Sehanobish   \n",
       "5  H Zhang, AX Lu, M Abdalla, M McDermott   \n",
       "6       MH Lee, DP Siewiorek, A Smailagic   \n",
       "7       V Mhasawade, NA Rehman, R Chunara   \n",
       "8                   Z Xiu, C Tao, R Henao   \n",
       "9                         P Long, O Doyle   \n",
       "\n",
       "                                            abstract  code_count  \\\n",
       "0  Retinal effusions and cysts caused by the leak...           0   \n",
       "1  In this work, we examine the extent to which e...           1   \n",
       "2  Single-cell RNA sequencing (scRNA-seq) has rev...           1   \n",
       "3  A key impediment to reinforcement learning (RL...           0   \n",
       "4  While machine learning is rapidly being develo...           1   \n",
       "5  Automated assessment of rehabilitation exercis...           0   \n",
       "6  The International Classification of Disease (I...           0   \n",
       "7  The abundance of modern health data provides m...           1   \n",
       "8  The ability of caregivers and investigators to...           1   \n",
       "9  Adverse drug reactions (ADRs) are detrimental ...           0   \n",
       "\n",
       "   gitlab_count  zenodo_count  dataset_count  mimic_count  ...  \\\n",
       "0             0             0              0            0  ...   \n",
       "1             0             0              2            1  ...   \n",
       "2             0             0              0            0  ...   \n",
       "3             0             0              1            1  ...   \n",
       "4             0             0              0            0  ...   \n",
       "5             0             0              0            0  ...   \n",
       "6             0             0              0            0  ...   \n",
       "7             0             0              1            0  ...   \n",
       "8             0             0              2            1  ...   \n",
       "9             0             0              0            0  ...   \n",
       "\n",
       "   tuh_eeg_epilepsy_corpus_count  tuh_eeg_events_corpus_count  \\\n",
       "0                              0                            0   \n",
       "1                              0                            0   \n",
       "2                              0                            0   \n",
       "3                              0                            0   \n",
       "4                              0                            0   \n",
       "5                              0                            0   \n",
       "6                              0                            0   \n",
       "7                              0                            0   \n",
       "8                              0                            0   \n",
       "9                              0                            0   \n",
       "\n",
       "   tuh_eeg_seizure_corpus_count  tuh_eeg_slowing_corpus_count  \\\n",
       "0                             0                             0   \n",
       "1                             0                             0   \n",
       "2                             0                             0   \n",
       "3                             0                             0   \n",
       "4                             0                             0   \n",
       "5                             0                             0   \n",
       "6                             0                             0   \n",
       "7                             0                             0   \n",
       "8                             0                             0   \n",
       "9                             0                             0   \n",
       "\n",
       "                                      original_title  \\\n",
       "0  Adverse Drug Reaction Discovery from Electroni...   \n",
       "1  BMM-Net: Automatic Segmentation of Edema in Op...   \n",
       "2  De-Identification of Free-Text Medical Records...   \n",
       "3  Defining Admissible Rewards for High-Confidenc...   \n",
       "4  Disease State Prediction from Single-Cell Data...   \n",
       "5  Hurtful Words: Quantifying Biases in Clinical ...   \n",
       "6  Interactive Hybrid Approach to Combine Machine...   \n",
       "7  Population-Aware Hierarchical Bayesian Domain ...   \n",
       "8  Variational Learning of Individual Survival Di...   \n",
       "9  Using SNOMED to Automate Clinical Concept Mapping   \n",
       "\n",
       "                                          author_ids  \\\n",
       "0           ToHDHHsAAAAJ, h9soD-oAAAAJ, IlsuQ4oAAAAJ   \n",
       "1           J4akh64AAAAJ, aYvRNFYAAAAJ, 6MRGS-4AAAAJ   \n",
       "2           66GCSz8AAAAJ, vKfiYkcAAAAJ, kd2pMFYAAAAJ   \n",
       "3           P6PMzKAAAAAJ, VEGtG7YAAAAJ, hwQtFB0AAAAJ   \n",
       "4                         atVAWRMAAAAJ, MEby6-QAAAAJ   \n",
       "5  6aWRAPkAAAAJ, gQpYbRsAAAAJ, U8D2dlMAAAAJ, _V96...   \n",
       "6           quDiEBkAAAAJ, B13SvmAAAAAJ, qMCGI94AAAAJ   \n",
       "7           S64xxT0AAAAJ, Hrl6vaoAAAAJ, 7NhhkR8AAAAJ   \n",
       "8           rDrIfkoAAAAJ, qyzhQgIAAAAJ, p_mm4-YAAAAJ   \n",
       "9                         Xg4y16YAAAAJ, hAD669MAAAAJ   \n",
       "\n",
       "                                         publication  total_citations  \\\n",
       "0  W Zhang, Z Kuang, P Peissig, D Page - Proceedi...                8   \n",
       "1  R Zhang, J He, S Shi, HE, Z Ou, M Song - Proce...                1   \n",
       "2  AEW Johnson, L Bulgarelli, TJ Pollard - Procee...               67   \n",
       "3  N Prasad, B Engelhardt, F Doshi-Velez - Procee...                6   \n",
       "4  N Ravindra, A Sehanobish, JL Pappalardo… - Pro...               44   \n",
       "5  H Zhang, AX Lu, M Abdalla, M McDermott… - proc...              176   \n",
       "6  MH Lee, DP Siewiorek, A Smailagic… - Proceedin...               35   \n",
       "7  V Mhasawade, NA Rehman, R Chunara - Proceeding...               10   \n",
       "8  Z Xiu, C Tao, R Henao - Proceedings of the ACM...               19   \n",
       "9  S Gupta, F Dieleman, P Long, O Doyle… - Procee...                1   \n",
       "\n",
       "                                            pdf_link  \\\n",
       "0  https://dl.acm.org/doi/pdf/10.1145/3368555.338...   \n",
       "1  https://dl.acm.org/doi/pdf/10.1145/3368555.338...   \n",
       "2  https://dl.acm.org/doi/pdf/10.1145/3368555.338...   \n",
       "3  https://dl.acm.org/doi/pdf/10.1145/3368555.338...   \n",
       "4  https://dl.acm.org/doi/pdf/10.1145/3368555.338...   \n",
       "5  https://dl.acm.org/doi/pdf/10.1145/3368555.338...   \n",
       "6  https://dl.acm.org/doi/pdf/10.1145/3368555.338...   \n",
       "7  https://dl.acm.org/doi/pdf/10.1145/3368555.338...   \n",
       "8  https://dl.acm.org/doi/pdf/10.1145/3368555.338...   \n",
       "9  https://dl.acm.org/doi/pdf/10.1145/3368555.338...   \n",
       "\n",
       "                                       citation_link  \n",
       "0  https://scholar.google.com/scholar?cites=10979...  \n",
       "1  https://scholar.google.com/scholar?cites=54690...  \n",
       "2  https://scholar.google.com/scholar?cites=70993...  \n",
       "3  https://scholar.google.com/scholar?cites=18316...  \n",
       "4  https://scholar.google.com/scholar?cites=87006...  \n",
       "5  https://scholar.google.com/scholar?cites=15347...  \n",
       "6  https://scholar.google.com/scholar?cites=10230...  \n",
       "7  https://scholar.google.com/scholar?cites=20628...  \n",
       "8  https://scholar.google.com/scholar?cites=30233...  \n",
       "9  https://scholar.google.com/scholar?cites=81364...  \n",
       "\n",
       "[10 rows x 32 columns]"
      ]
     },
     "execution_count": 12,
     "metadata": {},
     "output_type": "execute_result"
    }
   ],
   "source": [
    "updated_df.head(10)"
   ]
  },
  {
   "cell_type": "code",
   "execution_count": 15,
   "metadata": {},
   "outputs": [
    {
     "name": "stdout",
     "output_type": "stream",
     "text": [
      "\n",
      "NaN Citation Counts:\n",
      "CHIL: 29\n",
      "ML4H: 16\n",
      "MLHC: 110\n",
      "Total: 155\n",
      "Percentage: 24.41%\n",
      "\n",
      "Uncleaned Title Counts:\n",
      "CHIL: 4\n",
      "ML4H: 3\n",
      "MLHC: 23\n",
      "Total: 30\n",
      "Percentage: 4.72%\n",
      "\n",
      "NaN Title Counts:\n",
      "CHIL: 4\n",
      "ML4H: 3\n",
      "MLHC: 23\n",
      "Total: 30\n",
      "Percentage: 4.72%\n"
     ]
    }
   ],
   "source": [
    "import pandas as pd\n",
    "import numpy as np\n",
    "import plotly.graph_objects as go\n",
    "\n",
    "# ... [Previous code remains unchanged] ...\n",
    "\n",
    "def count_nan_titles(chil_df, ml4h_df, mlhc_df):\n",
    "    \"\"\"\n",
    "    Counts the number of rows where the 'title' column is NaN for each dataframe.\n",
    "    \n",
    "    Args:\n",
    "    chil_df, ml4h_df, mlhc_df: pandas DataFrames containing paper data\n",
    "    \n",
    "    Returns:\n",
    "    dict: A dictionary with the counts of NaN titles for each conference\n",
    "    \"\"\"\n",
    "    nan_titles = {\n",
    "        'CHIL': chil_df['title'].isna().sum(),\n",
    "        'ML4H': ml4h_df['title'].isna().sum(),\n",
    "        'MLHC': mlhc_df['title'].isna().sum()\n",
    "    }\n",
    "    \n",
    "    total_nan_titles = sum(nan_titles.values())\n",
    "    total_papers = len(chil_df) + len(ml4h_df) + len(mlhc_df)\n",
    "    \n",
    "    nan_titles['Total'] = total_nan_titles\n",
    "    nan_titles['Percentage'] = (total_nan_titles / total_papers) * 100\n",
    "    \n",
    "    return nan_titles\n",
    "\n",
    "# Load the dataframes\n",
    "chil_semantic_df = pd.read_csv(\"processed_data/chil_semantic_scholar_citations.csv\")\n",
    "ml4h_semantic_df = pd.read_csv(\"processed_data/ml4h_semantic_scholar_citations.csv\")\n",
    "mlhc_semantic_df = pd.read_csv(\"processed_data/mlhc_semantic_scholar_citations.csv\")\n",
    "\n",
    "# Count NaN citations\n",
    "nan_citation_counts = count_nan_citations(chil_semantic_df, ml4h_semantic_df, mlhc_semantic_df)\n",
    "\n",
    "# Print the NaN citation results\n",
    "print(\"\\nNaN Citation Counts:\")\n",
    "for conference, count in nan_citation_counts.items():\n",
    "    if conference == 'Percentage':\n",
    "        print(f\"{conference}: {count:.2f}%\")\n",
    "    else:\n",
    "        print(f\"{conference}: {count}\")\n",
    "\n",
    "# Count uncleaned titles\n",
    "uncleaned_title_counts = count_uncleaned_titles(chil_semantic_df, ml4h_semantic_df, mlhc_semantic_df)\n",
    "\n",
    "# Print the uncleaned title results\n",
    "print(\"\\nUncleaned Title Counts:\")\n",
    "for conference, count in uncleaned_title_counts.items():\n",
    "    if conference == 'Percentage':\n",
    "        print(f\"{conference}: {count:.2f}%\")\n",
    "    else:\n",
    "        print(f\"{conference}: {count}\")\n",
    "\n",
    "# Count NaN titles\n",
    "nan_title_counts = count_nan_titles(chil_semantic_df, ml4h_semantic_df, mlhc_semantic_df)\n",
    "\n",
    "# Print the NaN title results\n",
    "print(\"\\nNaN Title Counts:\")\n",
    "for conference, count in nan_title_counts.items():\n",
    "    if conference == 'Percentage':\n",
    "        print(f\"{conference}: {count:.2f}%\")\n",
    "    else:\n",
    "        print(f\"{conference}: {count}\")\n",
    "\n",
    "# ... [Rest of the code remains unchanged] ..."
   ]
  },
  {
   "cell_type": "code",
   "execution_count": 17,
   "metadata": {},
   "outputs": [
    {
     "name": "stdout",
     "output_type": "stream",
     "text": [
      "\n",
      "Original Dataframe Sizes:\n",
      "CHIL: 155\n",
      "ML4H: 134\n",
      "MLHC: 346\n",
      "\n",
      "NaN Title Counts (Before Removal):\n",
      "CHIL: 4\n",
      "ML4H: 3\n",
      "MLHC: 23\n",
      "Total: 30\n",
      "Percentage: 4.72%\n",
      "\n",
      "Dataframe Sizes After Removing NaN Titles:\n",
      "CHIL: 151\n",
      "ML4H: 131\n",
      "MLHC: 323\n",
      "\n",
      "NaN Citation Counts (After Removing NaN Titles):\n",
      "CHIL: 25\n",
      "ML4H: 13\n",
      "MLHC: 87\n",
      "Total: 125\n",
      "Percentage: 20.66%\n",
      "\n",
      "Cleaned CSV files have been saved in the 'processed_data/cleaned' directory.\n"
     ]
    }
   ],
   "source": [
    "import pandas as pd\n",
    "import numpy as np\n",
    "import plotly.graph_objects as go\n",
    "import os\n",
    "\n",
    "# ... [Previous functions remain unchanged] ...\n",
    "\n",
    "# Load the dataframes\n",
    "chil_semantic_df = pd.read_csv(\"processed_data/chil_semantic_scholar_citations.csv\")\n",
    "ml4h_semantic_df = pd.read_csv(\"processed_data/ml4h_semantic_scholar_citations.csv\")\n",
    "mlhc_semantic_df = pd.read_csv(\"processed_data/mlhc_semantic_scholar_citations.csv\")\n",
    "\n",
    "# Print original dataframe sizes\n",
    "print(\"\\nOriginal Dataframe Sizes:\")\n",
    "print(f\"CHIL: {len(chil_semantic_df)}\")\n",
    "print(f\"ML4H: {len(ml4h_semantic_df)}\")\n",
    "print(f\"MLHC: {len(mlhc_semantic_df)}\")\n",
    "\n",
    "# Count NaN titles before removal\n",
    "nan_title_counts = count_nan_titles(chil_semantic_df, ml4h_semantic_df, mlhc_semantic_df)\n",
    "\n",
    "# Print the NaN title results before removal\n",
    "print(\"\\nNaN Title Counts (Before Removal):\")\n",
    "for conference, count in nan_title_counts.items():\n",
    "    if conference == 'Percentage':\n",
    "        print(f\"{conference}: {count:.2f}%\")\n",
    "    else:\n",
    "        print(f\"{conference}: {count}\")\n",
    "\n",
    "# Remove rows with NaN titles\n",
    "chil_semantic_df = chil_semantic_df.dropna(subset=['title'])\n",
    "ml4h_semantic_df = ml4h_semantic_df.dropna(subset=['title'])\n",
    "mlhc_semantic_df = mlhc_semantic_df.dropna(subset=['title'])\n",
    "\n",
    "# Print new dataframe sizes\n",
    "print(\"\\nDataframe Sizes After Removing NaN Titles:\")\n",
    "print(f\"CHIL: {len(chil_semantic_df)}\")\n",
    "print(f\"ML4H: {len(ml4h_semantic_df)}\")\n",
    "print(f\"MLHC: {len(mlhc_semantic_df)}\")\n",
    "\n",
    "# Recount NaN citations after removing rows with NaN titles\n",
    "nan_citation_counts = count_nan_citations(chil_semantic_df, ml4h_semantic_df, mlhc_semantic_df)\n",
    "\n",
    "# Print the new NaN citation results\n",
    "print(\"\\nNaN Citation Counts (After Removing NaN Titles):\")\n",
    "for conference, count in nan_citation_counts.items():\n",
    "    if conference == 'Percentage':\n",
    "        print(f\"{conference}: {count:.2f}%\")\n",
    "    else:\n",
    "        print(f\"{conference}: {count}\")\n",
    "\n",
    "# Save cleaned dataframes to new CSV files\n",
    "output_dir = \"processed_data/cleaned\"\n",
    "os.makedirs(output_dir, exist_ok=True)\n",
    "\n",
    "chil_semantic_df.to_csv(f\"{output_dir}/chil_semantic_scholar_citations_cleaned.csv\", index=False)\n",
    "ml4h_semantic_df.to_csv(f\"{output_dir}/ml4h_semantic_scholar_citations_cleaned.csv\", index=False)\n",
    "mlhc_semantic_df.to_csv(f\"{output_dir}/mlhc_semantic_scholar_citations_cleaned.csv\", index=False)\n",
    "\n",
    "print(\"\\nCleaned CSV files have been saved in the 'processed_data/cleaned' directory.\")\n",
    "\n",
    "# ... [Rest of the code remains unchanged] ..."
   ]
  },
  {
   "cell_type": "code",
   "execution_count": 34,
   "metadata": {},
   "outputs": [
    {
     "name": "stdout",
     "output_type": "stream",
     "text": [
      "\n",
      "Titles with NaN citations:\n",
      "\n",
      "CHIL (23):\n",
      "- MIC-Extract: A Data Extraction, Preprocessing, and Representation Pipeline for\n",
      "- Visual Che Xbert: Addressing the Discrepancy Between Radiology Report Labels and Image Labels\n",
      "- Che X-Transfer: Performance and Parameter Efficiency of Image Net Models for Chest X-Ray Interpretation\n",
      "- Interpretable Missing Values in Healthcare: Figure 7 - Impact of Father's Education on Infant Mortality Risk. Appendix A: Testing for MCAR with EBM: Case Study.\n",
      "- Toward the Practical Utility of Federated Learning in the Medical Domain\n",
      "- Evaluating Model Performance in Medical Datasets Over Time: A Snapshot into the State of Proceedings and the First 20 Papers That Came Up in the Radiology Medical Journal When Searching for the Keyword \"Machine Learning\" and Filtering for Papers from To\n",
      "- Understanding and Predicting Environment Effects on Individuals with T2D: Appendix A - CGM Dataset. We include information on the range of values for each external factor in our dataset in Table 4. Note that all extreme weather events and all temporal events are binary-valued. We plot the distribution of the number of days recorded for each individual in Figure 4. The large spike in the last bucket contains roughly 10% of individuals in our cohort and represents people who have recorded M data on over 75% of days over the 2.5-year duration of data collection. Figure 4: Distribution of Number of Recorded Days of M Data per Individual. The spike in the last bucket is due to about 10% of individuals providing recordings (nearly) every day over the 2.5-year data collection period. B. Classifier Details: Information on the values input into the random forest classifiers is provided in Table 5. Note that the M and activity data is not used for classifiers, thus no M activity data features. C. Additional Results: Here, we provide plots showing the PR-AUC performance of our classifiers. We observe similar results as described in Section 3.2. In Figure 5, we plot the C of models across 8\n",
      "- Enhancing Collaborative Medical Outcomes through Private Synthetic Hypercube Augmentation: PriSHA\n",
      "- Improved Bayesian Permutation Entropy Estimator\n",
      "- Regularizing and Interpreting Vision Transformers by Patch Selection on Echocardiography Data\n",
      "- From Basic to Extra Features: Hypergraph Transformer Pre-Training Then Fine-Tuning for Balanced Clinical Predictions on EHR\n",
      "- Explainable and Privacy-Preserving Machine Learning via Domain-Aware Symbolic Regression\n",
      "- Simulation of Health Time Series with Nonstationarity\n",
      "- Brain-Mamba: Encoding Brain Activity via Selective State Space Models\n",
      "- Addressing Wearable Sleep Tracking Inequity: A New Dataset and Novel Methods for a Population with Sleep Disorders\n",
      "- FETCH: A Fast and Efficient Technique for Channel Selection in G Wearable Systems\n",
      "- Using Expert Gaze for Self-Supervised and Supervised Contrastive Learning of Glaucoma from OCT Data\n",
      "- Scalable Subtype and Stage Inference via Simultaneous Clustering of Subjects and Biomarkers\n",
      "- Retrieving Evidence from EHRs with LMs: Possibilities and Challenges\n",
      "- Development of Error Passing Network for Optimizing the Prediction of VO2 Peak in Acute Leukemia Survivors\n",
      "- Dose Mate: A Real-World Evaluation of Machine Learning Classification of Pill Taking Using Wrist-Worn Motion Sensors\n",
      "- Systematic Evaluation of Self-Supervised Learning Approaches for Wearable-Based Fatigue Recognition\n",
      "- Across-Study Analysis of Wearable Datasets and the Generalizability of Acute Illness Monitoring Models\n",
      "\n",
      "ML4H (9):\n",
      "- Che X-Photo: 10,000+ Photos and Transformations of Chest X-Rays for Benchmarking Deep Learning Robustness\n",
      "- Front Matter\n",
      "- End-to-End Sequential Sampling and Reconstruction for MRI\n",
      "- An Extensive Data Processing Pipeline for MIC-V\n",
      "- Automated L O I N C should be formatted as LOINC, and \"Pre-trained\" should be hyphenated as \"Pre-trained\" is correct in this context. Here is the cleaned title:\n",
      "\n",
      "Automated LOINC Standardization Using Pre-trained Large Language Models\n",
      "- Adapting Pre-Trained Vision Transformers from 2D to 3D Improves Segmentation: Details of the Experimental Settings. We Do Not Perform Heavy Hyperparameter Tuning to Ensure the Generalizability of Our Best Practices. The Ensemble Is Not Used, Which Can Further Improve Performances. For Brain, Vessel, and Pancreas, We Train Each Model with 250,000 Steps Given Their Larger Training Set. We Provide All the Codes, Including Data Pre-Processing, Data Loading, Model Training, and Evaluation at https://github.com/yuhui-zh15/ Trans Seg Hyperparam Value Batch Size 16 Patch Size\n",
      "- L-Ms Accelerate Annotation for Medical Information Extraction\n",
      "- Multimodal Pre-Training of Medical Time Series and Notes\n",
      "- Robust Semi-Supervised Segmentation with Time-Step Ensemble Blending Diffusion Models\n",
      "\n",
      "MLHC (60):\n",
      "- Stanford University - Machine Learning for Healthcare - GPT-17/Hyphen-Case-18\n",
      "- DEPSINE: Automated Omic Data Integration\n",
      "- Deep Survival Analysis: Nonparametrics and Missingness. Clinical Career Requires Understanding the Time to Medical Events. Medical Events Include the Time to a Disease Like Chronic Kidney Disease Progressing or the Time to a Complication as in Stroke for High Blood Pressure. Models for Event Times Live in the Framework Provided by Survival Analysis.\n",
      "- Michigan Genomics Initiative Cohort: A Shared Resource for Accelerating Research in Precision Health. Overview: As Part of the Community Data Challenge, We Are Making Available a Subset of Data from the Initiative (MGI) to Researchers. The Database Will Be Shared with Attendees Through Google Cloud Platform (CP) via Big Query, Allowing Users to Explore the Data, Build, and Validate Machine Learning Models Directly on P. During the Day of the Challenge, Participants Will Work in Interdisciplinary Teams to Articulate a Technically Interesting, Clinically Relevant Problem That Could Be Solved Using the Data. The Goal Is Not to Solve the Problem During the Event, but to Start Formulating the Problem. Problems Will Be Judged by a Panel of Experts, and Winning Teams Will Receive Up to $1,000 in P Credits That Can Be Applied to the Environment Throughout the Following Year to Tackle the Proposed Problem.\n",
      "- EEG to Text: Learning to Write Medical Reports from EEG Recordings\n",
      "- Using Predictive Mortality and Cardiogenic Shock Identification Tools to Support Team-Based Treatment Intervention on Adult Cardiology Patients at Duke University Hospital\n",
      "- Examining the Measurement of Quality in Healthcare Using Artificial Intelligence Methods: A Study of Quality in Long-Term Care\n",
      "- Clinical Collaboration Sheets: 53 Questions to Guide a Collaboration\n",
      "- Che Xpert++: Approximating the Xpert Labeler for Speed, Differentiability, and Probabilistic Output\n",
      "- Deep Learning Approach for Autonomous Medical Diagnosis in Spanish Language\n",
      "- Clinical Abstract Topic Modeling of Patient Portal and Telephone Encounter Messages: Insights from a Cardiology Practice\n",
      "- Development of Phenotype Algorithms for Common Acute Conditions Using SHapley Additive Ex-Planation Values\n",
      "- Predicting Cardiac Decompensation and Cardiogenic Shock Phenotypes for Duke University Hospital Patients\n",
      "- I-C Unity: A Software Tool to Harmonize the M-C-I and Amsterdam U-C Databases\n",
      "- Prediction of Critical Pediatric Perioperative Adverse Events Using the APRICOT Dataset\n",
      "- A Heart Rate Algorithm to Predict High-Risk Children Presenting to the Pediatric Emergency Department\n",
      "- Machine Learning to Automate Clinician-Designed Empirical Manual for Congenital Heart Disease Identification in Large Claims Database\n",
      "- Deep Learning Airway Structure Identification for Video Intubation\n",
      "- Denoising Stimulated Raman Histology Using Weak Supervision to Improve Label-Free Optical Microscopy of Human Brain Tumors\n",
      "- Journal of Machine Learning Research 149: 1–29, Deep Generative Analysis for Task-Based Functional MRI Experiments\n",
      "- Power-Constrained Bandits\n",
      "- MIC-SBDH: A Dataset for Social and Behavioral Determinants of Health\n",
      "- Point Processes for Competing Observations with Recurrent Networks (POCRN): A Generative Model of EH Data\n",
      "- Audi Face: Multimodal Deep Learning for Depression Screening\n",
      "- Temporal Patterns of Primary Care Utilization as Predictors for ICU Admission\n",
      "- Cycl Ops: A Unified Framework for Data Extraction and Rigorous Evaluation of Machine Learning Models for Clinical Use Cases\n",
      "- Integration of a Post-Operative Opioid Calculator into an Academic Gynecologic Surgery Practice\n",
      "- STANDIG: Together Standards for Data Diversity, Inclusivity, and Generalisability\n",
      "- Med-BER Tv2: Clinical Foundation Model on Standardized Secondary Clinical Data\n",
      "- A Machine Learning-Based Approach to Classifying a Provider's Description of Chest Pain\n",
      "- Patient and Room Activity Video Summary (PRAS) in the ICU: Rapidly Interpretable, ML-Generated Clinical Summaries of the Overnight Period\n",
      "- Single-Cell Phenotyping Using Optical Imaging and Artificial Intelligence\n",
      "- Transparent and Distributed AI Prediction Modeling: Case Study on Pediatric COVID\n",
      "- Predictive Models for Clopidogrel Outcomes Using Prescription Records and Diagnosis Codes\n",
      "- Interpretable (Not Just Post-Hoc Explainable) Heterogeneous Survivors' Bias-Corrected Treatment Effects for Assignment of Post-Discharge Interventions to Prevent Readmissions\n",
      "- Typed Markers and Context for Clinical Temporal Relation Extraction\n",
      "- Learning False Sections in Medical Conversations: Iterative Pseudo-Labeling and Human-in-the-Loop Approach\n",
      "- Efficient Representation Learning for Healthcare with Cross-Architectural Self-Supervision\n",
      "- TIER: Text-Image Entropy Regularization for Medical CLP-Style Models\n",
      "- PrivECG: Generating Private G for End-to-End Anonymization\n",
      "- Rad Graph 2: Modeling Disease Progression in Radiology Reports via Hierarchical Information Extraction\n",
      "- Use of Machine Learning Techniques for Phenotyping Ischemic Stroke Instead of the Rule-Based Methods: A Nation-Wide Population-Based Study\n",
      "- Early Identification of the Need for CRT in Critically Ill Children: A Machine Learning Approach\n",
      "- Development of a Dataset and Prospective Evaluation of a Model to Identify High-Quality Papers on the Clinical Impact of Pharmacist Interventions\n",
      "- Social Determinants of Health Documented in Clinical Notes Improve Hospital Prediction in Home Health Care\n",
      "- Developing a Patient Similarity Network for Predicting Post-Stroke Urinary Tract Infection Risk in Hospitalized Immobile Patients\n",
      "- Examining the Ability of Different ML Approaches to Predict Health Outcomes with Digital Platform\n",
      "- A Counterfactual-Based Approach for Interpreting Deep Learning Models in Electrocardiogram Analysis\n",
      "- Natural Language Processing for Automated Extraction of Breast Cancer Information for the Registry. National Cancer Registries Rely on Manual Abstraction of Free-Text Clinical Records to Collect\n",
      "- Expanding Composite Disease Labels Improves ECG Deep Learning Model Performance for Structural Heart Detection\n",
      "- Using Natural Language Processing to Predict Workings of Sources of Infection\n",
      "- Guidance Tool for Development and Implementation of Safe Healthcare AI\n",
      "- Enhancing Deep Learning in Detecting Acute Myocardial Infarction via Anatomically Informed 12-Lead ECG\n",
      "- Leveraging Data Science for Optimal Follow-up of Multimorbidity Patients - A Research Protocol\n",
      "- Predicting Behavioral Emergencies in the Hospital\n",
      "- Development of a Machine Learning Classification Model for ICU Admission Following Resuscitation at a Level Trauma Center\n",
      "- Examining Unstructured Free-Text Data from Publicly Accessible Data Streams Gathered from Communities Confronting a Public Health Crisis: A Study on the Predictive Value of Advanced Natural Language Processing-Based Techniques in Real-Time Pandemic Handling\n",
      "- A Machine Learning Model Using In-Game Data for Predicting Unhealthy Substance Use Among Adolescents\n",
      "- Antihypertensive Drug Repurposing for Dementia Prevention: Target Trial Emulations in Two Large-Scale Electronic Health Record Systems\n",
      "- Not So Black and White: Confounders Mediate AI Prediction of Race on Chest X-Rays\n"
     ]
    }
   ],
   "source": [
    "import pandas as pd\n",
    "import numpy as np\n",
    "import plotly.graph_objects as go\n",
    "import os\n",
    "\n",
    "# ... [Previous functions remain unchanged] ...\n",
    "\n",
    "def get_titles_with_nan_citations(df):\n",
    "    \"\"\"\n",
    "    Returns a list of cleaned titles for papers with NaN citation counts.\n",
    "    \n",
    "    Args:\n",
    "    df: pandas DataFrame containing paper data\n",
    "    \n",
    "    Returns:\n",
    "    list: A list of cleaned titles for papers with NaN citation counts\n",
    "    \"\"\"\n",
    "    return df[df['citation_count'].isna()]['cleaned_title'].tolist()\n",
    "\n",
    "# Load the cleaned dataframes\n",
    "chil_semantic_df = pd.read_csv(\"processed_data/specifically_cleaned/chil_semantic_scholar_citations.csv\")\n",
    "ml4h_semantic_df = pd.read_csv(\"processed_data/specifically_cleaned/ml4h_semantic_scholar_citations.csv\")\n",
    "mlhc_semantic_df = pd.read_csv(\"processed_data/specifically_cleaned/mlhc_semantic_scholar_citations.csv\")\n",
    "\n",
    "# Get lists of titles with NaN citations for each conference\n",
    "chil_nan_citation_titles = get_titles_with_nan_citations(chil_semantic_df)\n",
    "ml4h_nan_citation_titles = get_titles_with_nan_citations(ml4h_semantic_df)\n",
    "mlhc_nan_citation_titles = get_titles_with_nan_citations(mlhc_semantic_df)\n",
    "\n",
    "# Print the results\n",
    "print(\"\\nTitles with NaN citations:\")\n",
    "print(f\"\\nCHIL ({len(chil_nan_citation_titles)}):\")\n",
    "for title in chil_nan_citation_titles:  # Print first 5 for brevity\n",
    "    print(f\"- {title}\")\n",
    "# if len(chil_nan_citation_titles) > 5:\n",
    "#     print(\"...\")\n",
    "\n",
    "print(f\"\\nML4H ({len(ml4h_nan_citation_titles)}):\")\n",
    "for title in ml4h_nan_citation_titles:  # Print first 5 for brevity\n",
    "    print(f\"- {title}\")\n",
    "# if len(ml4h_nan_citation_titles) > 5:\n",
    "#     print(\"...\")\n",
    "\n",
    "print(f\"\\nMLHC ({len(mlhc_nan_citation_titles)}):\")\n",
    "for title in mlhc_nan_citation_titles:  # Print first 5 for brevity\n",
    "    print(f\"- {title}\")\n",
    "# if len(mlhc_nan_citation_titles) > 5:\n",
    "#     print(\"...\")\n",
    "\n",
    "# ... [Rest of the code remains unchanged] ..."
   ]
  },
  {
   "cell_type": "code",
   "execution_count": 32,
   "metadata": {},
   "outputs": [
    {
     "name": "stdout",
     "output_type": "stream",
     "text": [
      "Applying specific cleaning operations...\n",
      "\n",
      "Rows after specific cleaning:\n",
      "CHIL: 148\n",
      "ML4H: 127\n",
      "MLHC: 283\n",
      "\n",
      "Specifically cleaned CSV files have been saved in the 'processed_data/specifically_cleaned' directory.\n",
      "\n",
      "Number of titles containing 'preprint':\n",
      "CHIL: 0\n",
      "ML4H: 0\n",
      "MLHC: 0\n",
      "\n",
      "No CHIL titles contain 'preprint'.\n",
      "\n",
      "No ML4H titles contain 'preprint'.\n",
      "\n",
      "No MLHC titles contain 'preprint'.\n"
     ]
    },
    {
     "name": "stderr",
     "output_type": "stream",
     "text": [
      "/tmp/ipykernel_85908/566563017.py:37: SettingWithCopyWarning: \n",
      "A value is trying to be set on a copy of a slice from a DataFrame.\n",
      "Try using .loc[row_indexer,col_indexer] = value instead\n",
      "\n",
      "See the caveats in the documentation: https://pandas.pydata.org/pandas-docs/stable/user_guide/indexing.html#returning-a-view-versus-a-copy\n",
      "  df['cleaned_title'] = df['cleaned_title'].replace({\n",
      "/tmp/ipykernel_85908/566563017.py:43: SettingWithCopyWarning: \n",
      "A value is trying to be set on a copy of a slice from a DataFrame.\n",
      "Try using .loc[row_indexer,col_indexer] = value instead\n",
      "\n",
      "See the caveats in the documentation: https://pandas.pydata.org/pandas-docs/stable/user_guide/indexing.html#returning-a-view-versus-a-copy\n",
      "  df['cleaned_title'] = df['cleaned_title'].apply(lambda x: re.sub(r'Preprint: Under Review \\d+:\\s*\\d+–\\d+,', '', x).strip())\n",
      "/tmp/ipykernel_85908/566563017.py:44: SettingWithCopyWarning: \n",
      "A value is trying to be set on a copy of a slice from a DataFrame.\n",
      "Try using .loc[row_indexer,col_indexer] = value instead\n",
      "\n",
      "See the caveats in the documentation: https://pandas.pydata.org/pandas-docs/stable/user_guide/indexing.html#returning-a-view-versus-a-copy\n",
      "  df['cleaned_title'] = df['cleaned_title'].apply(lambda x: re.sub(r'Preprint: Under Review \\d+–\\d+,?', '', x).strip())\n"
     ]
    }
   ],
   "source": [
    "import pandas as pd\n",
    "import numpy as np\n",
    "import plotly.graph_objects as go\n",
    "import os\n",
    "import re\n",
    "\n",
    "# ... [Previous functions remain unchanged] ...\n",
    "\n",
    "def specific_cleaning(df):\n",
    "    \"\"\"\n",
    "    Performs specific cleaning operations on the dataframe.\n",
    "    \n",
    "    Args:\n",
    "    df: pandas DataFrame containing paper data\n",
    "    \n",
    "    Returns:\n",
    "    pandas DataFrame: The cleaned dataframe\n",
    "    \"\"\"\n",
    "    # Titles to remove\n",
    "    titles_to_remove = [\n",
    "        \"Supplementary\",\n",
    "        \"Motivation for What Purpose Was the Dataset Created?\",\n",
    "        \"Conference Proceedings\",\n",
    "        \"Variable Total Age (Mean SD) 55.14\",\n",
    "        \"There is no title to clean\",\n",
    "        \"Machine Learning for Healthcare August 8-10\",\n",
    "        \"Development of a Clinical Decision Tool and Protocol for Identification and Treatment\",\n",
    "        \"Clinical Abstract Track\",\n",
    "        \"To 32.9 in 1,\"\n",
    "    ]\n",
    "    \n",
    "    # Remove rows with specified titles\n",
    "    pattern = '|'.join(map(re.escape, titles_to_remove))\n",
    "    df = df[~df['cleaned_title'].str.contains(pattern, case=False, regex=True)]\n",
    "    \n",
    "    # Clean specific titles\n",
    "    df['cleaned_title'] = df['cleaned_title'].replace({\n",
    "        \"EG to Text: Learning to Write Medical Reports from G Recordings\": \n",
    "        \"EEG to Text: Learning to Write Medical Reports from EEG Recordings\"\n",
    "    })\n",
    "    \n",
    "    # Remove \"Preprint: Under Review\" and associated numbers\n",
    "    df['cleaned_title'] = df['cleaned_title'].apply(lambda x: re.sub(r'Preprint: Under Review \\d+:\\s*\\d+–\\d+,', '', x).strip())\n",
    "    df['cleaned_title'] = df['cleaned_title'].apply(lambda x: re.sub(r'Preprint: Under Review \\d+–\\d+,?', '', x).strip())\n",
    "    \n",
    "    # Remove rows where the cleaned title is empty after cleaning\n",
    "    df = df[df['cleaned_title'] != '']\n",
    "    \n",
    "    return df\n",
    "\n",
    "# Load the cleaned dataframes\n",
    "chil_semantic_df = pd.read_csv(\"processed_data/cleaned/chil_semantic_scholar_citations_cleaned.csv\")\n",
    "ml4h_semantic_df = pd.read_csv(\"processed_data/cleaned/ml4h_semantic_scholar_citations_cleaned.csv\")\n",
    "mlhc_semantic_df = pd.read_csv(\"processed_data/cleaned/mlhc_semantic_scholar_citations_cleaned.csv\")\n",
    "\n",
    "# Apply specific cleaning to each dataframe\n",
    "print(\"Applying specific cleaning operations...\")\n",
    "chil_semantic_df = specific_cleaning(chil_semantic_df)\n",
    "ml4h_semantic_df = specific_cleaning(ml4h_semantic_df)\n",
    "mlhc_semantic_df = specific_cleaning(mlhc_semantic_df)\n",
    "\n",
    "# Print the number of rows in each dataframe after cleaning\n",
    "print(f\"\\nRows after specific cleaning:\")\n",
    "print(f\"CHIL: {len(chil_semantic_df)}\")\n",
    "print(f\"ML4H: {len(ml4h_semantic_df)}\")\n",
    "print(f\"MLHC: {len(mlhc_semantic_df)}\")\n",
    "\n",
    "# Save the specifically cleaned dataframes\n",
    "output_dir = \"processed_data/specifically_cleaned\"\n",
    "os.makedirs(output_dir, exist_ok=True)\n",
    "\n",
    "chil_semantic_df.to_csv(f\"{output_dir}/chil_semantic_scholar_citations.csv\", index=False)\n",
    "ml4h_semantic_df.to_csv(f\"{output_dir}/ml4h_semantic_scholar_citations.csv\", index=False)\n",
    "mlhc_semantic_df.to_csv(f\"{output_dir}/mlhc_semantic_scholar_citations.csv\", index=False)\n",
    "\n",
    "print(f\"\\nSpecifically cleaned CSV files have been saved in the '{output_dir}' directory.\")\n",
    "\n",
    "# Function to check for \"preprint\" in titles\n",
    "def count_preprint_titles(df):\n",
    "    return df['cleaned_title'].str.lower().str.contains('preprint').sum()\n",
    "\n",
    "# Count and print the number of titles containing \"preprint\"\n",
    "print(\"\\nNumber of titles containing 'preprint':\")\n",
    "print(f\"CHIL: {count_preprint_titles(chil_semantic_df)}\")\n",
    "print(f\"ML4H: {count_preprint_titles(ml4h_semantic_df)}\")\n",
    "print(f\"MLHC: {count_preprint_titles(mlhc_semantic_df)}\")\n",
    "\n",
    "# Function to get titles containing \"preprint\"\n",
    "def get_preprint_titles(df):\n",
    "    return df[df['cleaned_title'].str.lower().str.contains('preprint')]['cleaned_title'].tolist()\n",
    "\n",
    "# Print any titles that still contain \"preprint\"\n",
    "for name, df in [(\"CHIL\", chil_semantic_df), (\"ML4H\", ml4h_semantic_df), (\"MLHC\", mlhc_semantic_df)]:\n",
    "    preprint_titles = get_preprint_titles(df)\n",
    "    if preprint_titles:\n",
    "        print(f\"\\n{name} title(s) still containing 'preprint':\")\n",
    "        for title in preprint_titles:\n",
    "            print(f\"- {title}\")\n",
    "    else:\n",
    "        print(f\"\\nNo {name} titles contain 'preprint'.\")\n",
    "\n",
    "# ... [Rest of the code remains unchanged] ..."
   ]
  },
  {
   "cell_type": "code",
   "execution_count": 36,
   "metadata": {},
   "outputs": [
    {
     "name": "stdout",
     "output_type": "stream",
     "text": [
      "\n",
      "Processing CHIL titles...\n",
      "Processing 23 titles with NaN citation counts...\n",
      "Saved results for: MIC-Extract: A Data Extraction, Preprocessing, and Representation Pipeline for\n",
      "Saved results for: Visual Che Xbert: Addressing the Discrepancy Between Radiology Report Labels and Image Labels\n",
      "Saved results for: Che X-Transfer: Performance and Parameter Efficiency of Image Net Models for Chest X-Ray Interpretation\n",
      "Saved results for: Interpretable Missing Values in Healthcare: Figure 7 - Impact of Father's Education on Infant Mortality Risk. Appendix A: Testing for MCAR with EBM: Case Study.\n",
      "Saved results for: Toward the Practical Utility of Federated Learning in the Medical Domain\n",
      "Saved results for: Evaluating Model Performance in Medical Datasets Over Time: A Snapshot into the State of Proceedings and the First 20 Papers That Came Up in the Radiology Medical Journal When Searching for the Keyword \"Machine Learning\" and Filtering for Papers from To\n",
      "Saved results for: Understanding and Predicting Environment Effects on Individuals with T2D: Appendix A - CGM Dataset. We include information on the range of values for each external factor in our dataset in Table 4. Note that all extreme weather events and all temporal events are binary-valued. We plot the distribution of the number of days recorded for each individual in Figure 4. The large spike in the last bucket contains roughly 10% of individuals in our cohort and represents people who have recorded M data on over 75% of days over the 2.5-year duration of data collection. Figure 4: Distribution of Number of Recorded Days of M Data per Individual. The spike in the last bucket is due to about 10% of individuals providing recordings (nearly) every day over the 2.5-year data collection period. B. Classifier Details: Information on the values input into the random forest classifiers is provided in Table 5. Note that the M and activity data is not used for classifiers, thus no M activity data features. C. Additional Results: Here, we provide plots showing the PR-AUC performance of our classifiers. We observe similar results as described in Section 3.2. In Figure 5, we plot the C of models across 8\n",
      "Saved results for: Enhancing Collaborative Medical Outcomes through Private Synthetic Hypercube Augmentation: PriSHA\n",
      "Saved results for: Improved Bayesian Permutation Entropy Estimator\n",
      "Saved results for: Regularizing and Interpreting Vision Transformers by Patch Selection on Echocardiography Data\n",
      "Saved results for: From Basic to Extra Features: Hypergraph Transformer Pre-Training Then Fine-Tuning for Balanced Clinical Predictions on EHR\n",
      "Saved results for: Explainable and Privacy-Preserving Machine Learning via Domain-Aware Symbolic Regression\n",
      "Saved results for: Simulation of Health Time Series with Nonstationarity\n",
      "Saved results for: Brain-Mamba: Encoding Brain Activity via Selective State Space Models\n",
      "Saved results for: Addressing Wearable Sleep Tracking Inequity: A New Dataset and Novel Methods for a Population with Sleep Disorders\n",
      "Saved results for: FETCH: A Fast and Efficient Technique for Channel Selection in G Wearable Systems\n",
      "Saved results for: Using Expert Gaze for Self-Supervised and Supervised Contrastive Learning of Glaucoma from OCT Data\n",
      "Saved results for: Scalable Subtype and Stage Inference via Simultaneous Clustering of Subjects and Biomarkers\n",
      "Saved results for: Retrieving Evidence from EHRs with LMs: Possibilities and Challenges\n",
      "Saved results for: Development of Error Passing Network for Optimizing the Prediction of VO2 Peak in Acute Leukemia Survivors\n",
      "Saved results for: Dose Mate: A Real-World Evaluation of Machine Learning Classification of Pill Taking Using Wrist-Worn Motion Sensors\n",
      "Saved results for: Systematic Evaluation of Self-Supervised Learning Approaches for Wearable-Based Fatigue Recognition\n",
      "Saved results for: Across-Study Analysis of Wearable Datasets and the Generalizability of Acute Illness Monitoring Models\n",
      "Finished processing all titles with NaN citation counts.\n",
      "\n",
      "Processing ML4H titles...\n",
      "Processing 9 titles with NaN citation counts...\n",
      "Saved results for: Che X-Photo: 10,000+ Photos and Transformations of Chest X-Rays for Benchmarking Deep Learning Robustness\n",
      "Saved results for: Front Matter\n",
      "Saved results for: End-to-End Sequential Sampling and Reconstruction for MRI\n",
      "Saved results for: An Extensive Data Processing Pipeline for MIC-V\n",
      "Saved results for: Automated L O I N C should be formatted as LOINC, and \"Pre-trained\" should be hyphenated as \"Pre-trained\" is correct in this context. Here is the cleaned title:\n",
      "\n",
      "Automated LOINC Standardization Using Pre-trained Large Language Models\n",
      "Saved results for: Adapting Pre-Trained Vision Transformers from 2D to 3D Improves Segmentation: Details of the Experimental Settings. We Do Not Perform Heavy Hyperparameter Tuning to Ensure the Generalizability of Our Best Practices. The Ensemble Is Not Used, Which Can Further Improve Performances. For Brain, Vessel, and Pancreas, We Train Each Model with 250,000 Steps Given Their Larger Training Set. We Provide All the Codes, Including Data Pre-Processing, Data Loading, Model Training, and Evaluation at https://github.com/yuhui-zh15/ Trans Seg Hyperparam Value Batch Size 16 Patch Size\n",
      "Saved results for: L-Ms Accelerate Annotation for Medical Information Extraction\n",
      "Saved results for: Multimodal Pre-Training of Medical Time Series and Notes\n",
      "Saved results for: Robust Semi-Supervised Segmentation with Time-Step Ensemble Blending Diffusion Models\n",
      "Finished processing all titles with NaN citation counts.\n",
      "\n",
      "Processing MLHC titles...\n",
      "Processing 60 titles with NaN citation counts...\n",
      "Saved results for: Stanford University - Machine Learning for Healthcare - GPT-17/Hyphen-Case-18\n",
      "Saved results for: DEPSINE: Automated Omic Data Integration\n",
      "Saved results for: Deep Survival Analysis: Nonparametrics and Missingness. Clinical Career Requires Understanding the Time to Medical Events. Medical Events Include the Time to a Disease Like Chronic Kidney Disease Progressing or the Time to a Complication as in Stroke for High Blood Pressure. Models for Event Times Live in the Framework Provided by Survival Analysis.\n",
      "Saved results for: Michigan Genomics Initiative Cohort: A Shared Resource for Accelerating Research in Precision Health. Overview: As Part of the Community Data Challenge, We Are Making Available a Subset of Data from the Initiative (MGI) to Researchers. The Database Will Be Shared with Attendees Through Google Cloud Platform (CP) via Big Query, Allowing Users to Explore the Data, Build, and Validate Machine Learning Models Directly on P. During the Day of the Challenge, Participants Will Work in Interdisciplinary Teams to Articulate a Technically Interesting, Clinically Relevant Problem That Could Be Solved Using the Data. The Goal Is Not to Solve the Problem During the Event, but to Start Formulating the Problem. Problems Will Be Judged by a Panel of Experts, and Winning Teams Will Receive Up to $1,000 in P Credits That Can Be Applied to the Environment Throughout the Following Year to Tackle the Proposed Problem.\n",
      "Saved results for: EEG to Text: Learning to Write Medical Reports from EEG Recordings\n",
      "Saved results for: Using Predictive Mortality and Cardiogenic Shock Identification Tools to Support Team-Based Treatment Intervention on Adult Cardiology Patients at Duke University Hospital\n",
      "Saved results for: Examining the Measurement of Quality in Healthcare Using Artificial Intelligence Methods: A Study of Quality in Long-Term Care\n",
      "Saved results for: Clinical Collaboration Sheets: 53 Questions to Guide a Collaboration\n",
      "Saved results for: Che Xpert++: Approximating the Xpert Labeler for Speed, Differentiability, and Probabilistic Output\n",
      "Saved results for: Deep Learning Approach for Autonomous Medical Diagnosis in Spanish Language\n",
      "Saved results for: Clinical Abstract Topic Modeling of Patient Portal and Telephone Encounter Messages: Insights from a Cardiology Practice\n",
      "Saved results for: Development of Phenotype Algorithms for Common Acute Conditions Using SHapley Additive Ex-Planation Values\n",
      "Saved results for: Predicting Cardiac Decompensation and Cardiogenic Shock Phenotypes for Duke University Hospital Patients\n",
      "Saved results for: I-C Unity: A Software Tool to Harmonize the M-C-I and Amsterdam U-C Databases\n",
      "Saved results for: Prediction of Critical Pediatric Perioperative Adverse Events Using the APRICOT Dataset\n",
      "Saved results for: A Heart Rate Algorithm to Predict High-Risk Children Presenting to the Pediatric Emergency Department\n",
      "Saved results for: Machine Learning to Automate Clinician-Designed Empirical Manual for Congenital Heart Disease Identification in Large Claims Database\n",
      "Saved results for: Deep Learning Airway Structure Identification for Video Intubation\n",
      "Saved results for: Denoising Stimulated Raman Histology Using Weak Supervision to Improve Label-Free Optical Microscopy of Human Brain Tumors\n",
      "Saved results for: Journal of Machine Learning Research 149: 1–29, Deep Generative Analysis for Task-Based Functional MRI Experiments\n",
      "Saved results for: Power-Constrained Bandits\n",
      "Saved results for: MIC-SBDH: A Dataset for Social and Behavioral Determinants of Health\n",
      "Saved results for: Point Processes for Competing Observations with Recurrent Networks (POCRN): A Generative Model of EH Data\n",
      "Saved results for: Audi Face: Multimodal Deep Learning for Depression Screening\n",
      "Saved results for: Temporal Patterns of Primary Care Utilization as Predictors for ICU Admission\n",
      "Saved results for: Cycl Ops: A Unified Framework for Data Extraction and Rigorous Evaluation of Machine Learning Models for Clinical Use Cases\n",
      "Saved results for: Integration of a Post-Operative Opioid Calculator into an Academic Gynecologic Surgery Practice\n",
      "Saved results for: STANDIG: Together Standards for Data Diversity, Inclusivity, and Generalisability\n",
      "Saved results for: Med-BER Tv2: Clinical Foundation Model on Standardized Secondary Clinical Data\n",
      "Saved results for: A Machine Learning-Based Approach to Classifying a Provider's Description of Chest Pain\n",
      "Saved results for: Patient and Room Activity Video Summary (PRAS) in the ICU: Rapidly Interpretable, ML-Generated Clinical Summaries of the Overnight Period\n",
      "Saved results for: Single-Cell Phenotyping Using Optical Imaging and Artificial Intelligence\n",
      "Saved results for: Transparent and Distributed AI Prediction Modeling: Case Study on Pediatric COVID\n",
      "Saved results for: Predictive Models for Clopidogrel Outcomes Using Prescription Records and Diagnosis Codes\n",
      "Saved results for: Interpretable (Not Just Post-Hoc Explainable) Heterogeneous Survivors' Bias-Corrected Treatment Effects for Assignment of Post-Discharge Interventions to Prevent Readmissions\n",
      "Saved results for: Typed Markers and Context for Clinical Temporal Relation Extraction\n",
      "Saved results for: Learning False Sections in Medical Conversations: Iterative Pseudo-Labeling and Human-in-the-Loop Approach\n",
      "Saved results for: Efficient Representation Learning for Healthcare with Cross-Architectural Self-Supervision\n",
      "Saved results for: TIER: Text-Image Entropy Regularization for Medical CLP-Style Models\n",
      "Saved results for: PrivECG: Generating Private G for End-to-End Anonymization\n",
      "Saved results for: Rad Graph 2: Modeling Disease Progression in Radiology Reports via Hierarchical Information Extraction\n",
      "Saved results for: Use of Machine Learning Techniques for Phenotyping Ischemic Stroke Instead of the Rule-Based Methods: A Nation-Wide Population-Based Study\n",
      "Saved results for: Early Identification of the Need for CRT in Critically Ill Children: A Machine Learning Approach\n",
      "Saved results for: Development of a Dataset and Prospective Evaluation of a Model to Identify High-Quality Papers on the Clinical Impact of Pharmacist Interventions\n",
      "Saved results for: Social Determinants of Health Documented in Clinical Notes Improve Hospital Prediction in Home Health Care\n",
      "Saved results for: Developing a Patient Similarity Network for Predicting Post-Stroke Urinary Tract Infection Risk in Hospitalized Immobile Patients\n",
      "Saved results for: Examining the Ability of Different ML Approaches to Predict Health Outcomes with Digital Platform\n",
      "Saved results for: A Counterfactual-Based Approach for Interpreting Deep Learning Models in Electrocardiogram Analysis\n",
      "Saved results for: Natural Language Processing for Automated Extraction of Breast Cancer Information for the Registry. National Cancer Registries Rely on Manual Abstraction of Free-Text Clinical Records to Collect\n",
      "Saved results for: Expanding Composite Disease Labels Improves ECG Deep Learning Model Performance for Structural Heart Detection\n",
      "Saved results for: Using Natural Language Processing to Predict Workings of Sources of Infection\n",
      "Saved results for: Guidance Tool for Development and Implementation of Safe Healthcare AI\n",
      "Saved results for: Enhancing Deep Learning in Detecting Acute Myocardial Infarction via Anatomically Informed 12-Lead ECG\n",
      "Saved results for: Leveraging Data Science for Optimal Follow-up of Multimorbidity Patients - A Research Protocol\n",
      "Saved results for: Predicting Behavioral Emergencies in the Hospital\n",
      "Saved results for: Development of a Machine Learning Classification Model for ICU Admission Following Resuscitation at a Level Trauma Center\n",
      "Saved results for: Examining Unstructured Free-Text Data from Publicly Accessible Data Streams Gathered from Communities Confronting a Public Health Crisis: A Study on the Predictive Value of Advanced Natural Language Processing-Based Techniques in Real-Time Pandemic Handling\n",
      "Saved results for: A Machine Learning Model Using In-Game Data for Predicting Unhealthy Substance Use Among Adolescents\n",
      "Saved results for: Antihypertensive Drug Repurposing for Dementia Prevention: Target Trial Emulations in Two Large-Scale Electronic Health Record Systems\n",
      "Saved results for: Not So Black and White: Confounders Mediate AI Prediction of Race on Chest X-Rays\n",
      "Finished processing all titles with NaN citation counts.\n",
      "All processing completed.\n"
     ]
    }
   ],
   "source": [
    "import pandas as pd\n",
    "import json\n",
    "import os\n",
    "from serpapi import GoogleSearch\n",
    "from time import sleep\n",
    "import re\n",
    "\n",
    "def clean_filename(title):\n",
    "    # Remove invalid characters and limit length\n",
    "    clean = re.sub(r'[^\\w\\s-]', '', title).strip()\n",
    "    return clean[:100]  # Limit filename length\n",
    "\n",
    "def search_and_save_results(df, api_key, output_dir='serpapi_results'):\n",
    "    os.makedirs(output_dir, exist_ok=True)\n",
    "    \n",
    "    # Filter for rows where citation_count is NaN\n",
    "    df_nan_citations = df[pd.isna(df['citation_count'])]\n",
    "    \n",
    "    print(f\"Processing {len(df_nan_citations)} titles with NaN citation counts...\")\n",
    "    \n",
    "    for index, row in df_nan_citations.iterrows():\n",
    "        cleaned_title = row['cleaned_title']\n",
    "        filename = clean_filename(cleaned_title)\n",
    "        filename = filename.replace(' ', '_') + '.json'\n",
    "        \n",
    "        params = {\n",
    "            \"api_key\": api_key,\n",
    "            \"engine\": \"google_scholar\",\n",
    "            \"q\": cleaned_title,\n",
    "            \"hl\": \"en\"\n",
    "        }\n",
    "        \n",
    "        try:\n",
    "            search = GoogleSearch(params)\n",
    "            results = search.get_dict()\n",
    "            \n",
    "            with open(os.path.join(output_dir, filename), 'w', encoding='utf-8') as f:\n",
    "                json.dump(results, f, ensure_ascii=False, indent=4)\n",
    "            \n",
    "            print(f\"Saved results for: {cleaned_title}\")\n",
    "            sleep(2)  # To avoid hitting rate limits\n",
    "        \n",
    "        except Exception as e:\n",
    "            print(f\"Error processing {cleaned_title}: {str(e)}\")\n",
    "    \n",
    "    print(\"Finished processing all titles with NaN citation counts.\")\n",
    "\n",
    "# Usage\n",
    "api_key = \"\"  # Replace with your actual API key\n",
    "\n",
    "# Load the cleaned dataframes\n",
    "input_dir = \"processed_data/specifically_cleaned\"\n",
    "chil_df = pd.read_csv(f\"{input_dir}/chil_semantic_scholar_citations.csv\")\n",
    "ml4h_df = pd.read_csv(f\"{input_dir}/ml4h_semantic_scholar_citations.csv\")\n",
    "mlhc_df = pd.read_csv(f\"{input_dir}/mlhc_semantic_scholar_citations.csv\")\n",
    "\n",
    "# Process each dataframe\n",
    "for name, df in [(\"CHIL\", chil_df), (\"ML4H\", ml4h_df), (\"MLHC\", mlhc_df)]:\n",
    "    print(f\"\\nProcessing {name} titles...\")\n",
    "    output_dir = f\"serpapi_results_{name.lower()}_nan_citations\"\n",
    "    search_and_save_results(df, api_key, output_dir)\n",
    "\n",
    "print(\"All processing completed.\")"
   ]
  },
  {
   "cell_type": "code",
   "execution_count": 1,
   "metadata": {},
   "outputs": [
    {
     "name": "stdout",
     "output_type": "stream",
     "text": [
      "\n",
      "Processing CHIL titles...\n",
      "Processing 23 titles with NaN citation counts...\n",
      "Saved cleaned CHIL dataframe to processed_data/cleaned_chil_citations.csv\n",
      "Total entries processed: 148\n",
      "Entries with NaN citations: 1\n",
      "Entries without matching SerpAPI results: 1\n",
      "Entries with updated citations: 0\n",
      "\n",
      "Processing ML4H titles...\n",
      "Processing 9 titles with NaN citation counts...\n",
      "Saved cleaned ML4H dataframe to processed_data/cleaned_ml4h_citations.csv\n",
      "Total entries processed: 127\n",
      "Entries with NaN citations: 4\n",
      "Entries without matching SerpAPI results: 4\n",
      "Entries with updated citations: 0\n",
      "\n",
      "Processing MLHC titles...\n",
      "Processing 60 titles with NaN citation counts...\n",
      "Saved cleaned MLHC dataframe to processed_data/cleaned_mlhc_citations.csv\n",
      "Total entries processed: 283\n",
      "Entries with NaN citations: 25\n",
      "Entries without matching SerpAPI results: 25\n",
      "Entries with updated citations: 0\n",
      "All processing completed.\n"
     ]
    }
   ],
   "source": [
    "import pandas as pd\n",
    "import json\n",
    "import os\n",
    "import re\n",
    "from nltk.tokenize import word_tokenize\n",
    "from nltk.corpus import stopwords\n",
    "import nltk\n",
    "\n",
    "# Download necessary NLTK data\n",
    "nltk.download('punkt', quiet=True)\n",
    "nltk.download('stopwords', quiet=True)\n",
    "\n",
    "def clean_filename(title):\n",
    "    # Remove special characters and limit length\n",
    "    clean = re.sub(r'[^\\w\\s-]', '', title).strip()\n",
    "    clean = re.sub(r'\\s+', '_', clean)  # Replace spaces with underscores\n",
    "    return clean[:100]  # Limit filename length\n",
    "\n",
    "def compare_titles(original_title, result_title):\n",
    "    original_tokens = word_tokenize(original_title.lower())\n",
    "    result_tokens = word_tokenize(result_title.lower())\n",
    "    stop_words = set(stopwords.words('english'))\n",
    "    original_tokens = [token for token in original_tokens if token.isalpha() and token not in stop_words]\n",
    "    result_tokens = [token for token in result_tokens if token.isalpha() and token not in stop_words]\n",
    "    overlapping_words = set(original_tokens) & set(result_tokens)\n",
    "    return len(overlapping_words) >= 3\n",
    "\n",
    "def extract_citations_from_file(file_path, original_title):\n",
    "    with open(file_path, 'r', encoding='utf-8') as file:\n",
    "        data = json.load(file)\n",
    "    \n",
    "    if 'organic_results' in data and len(data['organic_results']) > 0:\n",
    "        result = data['organic_results'][0]\n",
    "        if compare_titles(original_title, result['title']):\n",
    "            return result.get('inline_links', {}).get('cited_by', {}).get('total', 0)\n",
    "    return None\n",
    "\n",
    "def process_dataframe(df, input_dir):\n",
    "    # Filter for rows where citation_count is NaN\n",
    "    df_nan_citations = df[pd.isna(df['citation_count'])]\n",
    "    \n",
    "    print(f\"Processing {len(df_nan_citations)} titles with NaN citation counts...\")\n",
    "    unmatched_count = 0\n",
    "    for index, row in df_nan_citations.iterrows():\n",
    "        cleaned_title = row['cleaned_title']\n",
    "        filename = clean_filename(cleaned_title) + '.json'\n",
    "        file_path = os.path.join(input_dir, filename)\n",
    "        \n",
    "        if os.path.exists(file_path):\n",
    "            # Extract citations\n",
    "            citations = extract_citations_from_file(file_path, cleaned_title)\n",
    "            if citations is not None:\n",
    "                df.loc[index, 'citation_count'] = citations\n",
    "            else:\n",
    "                unmatched_count += 1\n",
    "        else:\n",
    "            print(f\"File not found for: {cleaned_title}\")\n",
    "            unmatched_count += 1\n",
    "    \n",
    "    # Drop rows with NaN citation counts\n",
    "    df_cleaned = df.dropna(subset=['citation_count'])\n",
    "    \n",
    "    return df_cleaned, unmatched_count\n",
    "\n",
    "# Usage\n",
    "# Load the cleaned dataframes\n",
    "input_dir = \"processed_data/specifically_cleaned\"\n",
    "chil_df = pd.read_csv(f\"{input_dir}/chil_semantic_scholar_citations.csv\")\n",
    "ml4h_df = pd.read_csv(f\"{input_dir}/ml4h_semantic_scholar_citations.csv\")\n",
    "mlhc_df = pd.read_csv(f\"{input_dir}/mlhc_semantic_scholar_citations.csv\")\n",
    "\n",
    "# Process each dataframe\n",
    "for name, df in [(\"CHIL\", chil_df), (\"ML4H\", ml4h_df), (\"MLHC\", mlhc_df)]:\n",
    "    print(f\"\\nProcessing {name} titles...\")\n",
    "    input_dir = f\"serpapi_results_{name.lower()}_nan_citations\"\n",
    "    df_cleaned, unmatched_count = process_dataframe(df, input_dir)\n",
    "    \n",
    "    # Save the cleaned dataframe\n",
    "    output_file = f\"processed_data/cleaned_{name.lower()}_citations.csv\"\n",
    "    df_cleaned.to_csv(output_file, index=False)\n",
    "    print(f\"Saved cleaned {name} dataframe to {output_file}\")\n",
    "    \n",
    "    # Print statistics\n",
    "    print(f\"Total entries processed: {len(df)}\")\n",
    "    print(f\"Entries with NaN citations: {len(df) - len(df_cleaned)}\")\n",
    "    print(f\"Entries without matching SerpAPI results: {unmatched_count}\")\n",
    "    print(f\"Entries with updated citations: {len(df_cleaned) - (len(df) - len(df[pd.isna(df['citation_count'])]))}\")\n",
    "\n",
    "print(\"All processing completed.\")"
   ]
  }
 ],
 "metadata": {
  "language_info": {
   "name": "python"
  }
 },
 "nbformat": 4,
 "nbformat_minor": 2
}
